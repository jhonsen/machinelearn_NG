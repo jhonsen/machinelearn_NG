{
 "cells": [
  {
   "cell_type": "markdown",
   "metadata": {},
   "source": [
    "# Exercise 1  \n",
    "(with Matlab, from scratch)\n",
    "- Going through this exercise, as guided by the course tutorial\n"
   ]
  },
  {
   "cell_type": "markdown",
   "metadata": {},
   "source": [
    "### Function Scripts \n",
    "\n",
    "1.     WarmUpExercise.m  \n",
    "2.     plotData.m\n",
    "3.     gradientDescent.m\n",
    "4.     computeCost.m\n",
    "5.     gradientDescentMulti.m\n",
    "6.     computeCostMulti.m\n",
    "7.     featureNormalize.m\n",
    "8.     normalEqn.m\n"
   ]
  },
  {
   "cell_type": "markdown",
   "metadata": {},
   "source": [
    "__Note:__ The way to write functions and scripts can be found [here](https://am111.readthedocs.io/en/latest/jmatlab_use.html)  \n",
    "Essentially, need to add a line (below) at the beginning of the script:  \n",
    "\n",
    "__%%file function_name.m__\n",
    "\n",
    "Once the code (above) is executed, a new file is created in the same folder as the notebook "
   ]
  },
  {
   "cell_type": "code",
   "execution_count": 56,
   "metadata": {},
   "outputs": [
    {
     "name": "stdout",
     "output_type": "stream",
     "text": [
      "Created file 'C:\\Users\\Makana\\Documents\\MATLABfiles\\machinelearn_NG\\Matlab_track\\test.m'.\n"
     ]
    }
   ],
   "source": [
    "%%file test.m\n",
    "function A = test(n)\n",
    "% testing writing functions\n",
    "A = eye(n);\n",
    "end"
   ]
  },
  {
   "cell_type": "code",
   "execution_count": 55,
   "metadata": {
    "scrolled": true
   },
   "outputs": [
    {
     "name": "stdout",
     "output_type": "stream",
     "text": [
      "\n",
      "ans =\n",
      "\n",
      "     1     0     0     0     0     0\n",
      "     0     1     0     0     0     0\n",
      "     0     0     1     0     0     0\n",
      "     0     0     0     1     0     0\n",
      "     0     0     0     0     1     0\n",
      "     0     0     0     0     0     1\n",
      "\n",
      "\n"
     ]
    }
   ],
   "source": [
    "% testing the function we just wrote\n",
    "\n",
    "test(6)"
   ]
  },
  {
   "cell_type": "markdown",
   "metadata": {},
   "source": [
    "--------------------------------------------------------------------------"
   ]
  },
  {
   "cell_type": "markdown",
   "metadata": {},
   "source": [
    "### WarmUpexercise\n",
    "Return a 5x5 identity matrix\n"
   ]
  },
  {
   "cell_type": "code",
   "execution_count": 1,
   "metadata": {
    "scrolled": true
   },
   "outputs": [
    {
     "name": "stdout",
     "output_type": "stream",
     "text": [
      "\n",
      "A =\n",
      "\n",
      "     1     0     0     0     0\n",
      "     0     1     0     0     0\n",
      "     0     0     1     0     0\n",
      "     0     0     0     1     0\n",
      "     0     0     0     0     1\n",
      "\n",
      "\n"
     ]
    }
   ],
   "source": [
    "A = eye(5)"
   ]
  },
  {
   "cell_type": "markdown",
   "metadata": {},
   "source": [
    "## Linear regression with 1 variable\n",
    "\n",
    "In this part of this exercise, you will implement linear regression with one\n",
    "variable to predict profits for a food truck. Suppose you are the CEO of a\n",
    "restaurant franchise and are considering different cities for opening a new\n",
    "outlet. The chain already has trucks in various cities and you have data for\n",
    "profits and populations from the cities.  \n",
    "You would like to use this data to help you select which city to expand\n",
    "to next."
   ]
  },
  {
   "cell_type": "code",
   "execution_count": 69,
   "metadata": {},
   "outputs": [
    {
     "name": "stdout",
     "output_type": "stream",
     "text": [
      "\n"
     ]
    }
   ],
   "source": [
    "% From plotData.m\n",
    "% \n",
    "% Loading the data and find out how much data\n",
    "\n",
    "data = load('.\\ex1\\ex1data1.txt'); % read comma separated data\n",
    "X = data(:,1);\n",
    "y = data(:,2);\n",
    "m = length(y);                    % number of training examples"
   ]
  },
  {
   "cell_type": "code",
   "execution_count": 70,
   "metadata": {},
   "outputs": [
    {
     "name": "stdout",
     "output_type": "stream",
     "text": [
      "\n"
     ]
    },
    {
     "data": {
      "image/png": "[encoded data removed]",
      "text/plain": [
       "<IPython.core.display.Image object>"
      ]
     },
     "metadata": {},
     "output_type": "display_data"
    }
   ],
   "source": [
    "%  plotting the data\n",
    "%plot inline\n",
    "plot(X, y, 'r*','MarkerSize',10);        % Plot\n",
    "ylabel('Profit in $10,000s');            % Set the y-axis\n",
    "xlabel('Population of City in 10,000s')  % Set the x-axis\n"
   ]
  },
  {
   "cell_type": "code",
   "execution_count": 71,
   "metadata": {},
   "outputs": [
    {
     "name": "stdout",
     "output_type": "stream",
     "text": [
      "\n",
      "ans =\n",
      "\n",
      "    97     1\n",
      "\n",
      "\n"
     ]
    }
   ],
   "source": [
    "size(X)      % size is now is 97 rows x 1 col"
   ]
  },
  {
   "cell_type": "markdown",
   "metadata": {},
   "source": [
    "### Gradient Descent\n"
   ]
  },
  {
   "cell_type": "markdown",
   "metadata": {},
   "source": [
    "We store each example as a row in the the X\n",
    "matrix in Octave/MATLAB. To take into account the intercept term (\\theta0),\n",
    "we add an additional first column to X and set it to all ones. This allows\n",
    "us to treat \\theta0 as simply another _feature_."
   ]
  },
  {
   "cell_type": "code",
   "execution_count": 70,
   "metadata": {},
   "outputs": [
    {
     "name": "stdout",
     "output_type": "stream",
     "text": [
      "\n",
      "Testing the cost function ...\n",
      "With theta = [0 ; 0]\n",
      "Cost computed = 32.072734\n",
      "Expected cost value (approx) 32.07\n",
      "\n"
     ]
    }
   ],
   "source": [
    "% From ex1.m\n",
    "\n",
    "% Add the additional column, \\theta0, as another  'feature' \n",
    "\n",
    "X = [ones(m, 1), data(:,1)];   % Add a column of ones to x\n",
    "theta = zeros(2, 1);           % initialize fitting parameters\n",
    "\n",
    "                               % size(X) now is 97 rows x 2 columns\n",
    "                               % size of theta now is 2 x 1 for theta 0 and theta1\n",
    "\n",
    "fprintf('\\nTesting the cost function ...\\n')\n",
    "% compute and display initial cost\n",
    "J = computeCost(X, y, theta);  % computeCost is a function saved in the same folder\n",
    "fprintf('With theta = [0 ; 0]\\nCost computed = %f\\n', J);\n",
    "fprintf('Expected cost value (approx) 32.07\\n');\n",
    "\n",
    "\n",
    "% Some gradient descent settings\n",
    "iterations = 1500;\n",
    "alpha = 0.01;\n"
   ]
  },
  {
   "cell_type": "code",
   "execution_count": 29,
   "metadata": {
    "scrolled": true
   },
   "outputs": [
    {
     "name": "stdout",
     "output_type": "stream",
     "text": [
      "\n",
      "With theta = [-1 ; 2]\n",
      "Cost computed = 54.242455\n",
      "Expected cost value (approx) 54.24\n",
      "\n"
     ]
    }
   ],
   "source": [
    "% further testing of the cost function\n",
    "J = computeCost(X, y, [-1 ; 2]);\n",
    "fprintf('\\nWith theta = [-1 ; 2]\\nCost computed = %f\\n', J);\n",
    "fprintf('Expected cost value (approx) 54.24\\n');\n"
   ]
  },
  {
   "cell_type": "code",
   "execution_count": 30,
   "metadata": {},
   "outputs": [
    {
     "name": "stdout",
     "output_type": "stream",
     "text": [
      "\n",
      "Running Gradient Descent ...\n",
      "\n"
     ]
    }
   ],
   "source": [
    "fprintf('\\nRunning Gradient Descent ...\\n')\n",
    "% run gradient descent\n",
    "theta = gradientDescent(X, y, theta, alpha, iterations);"
   ]
  },
  {
   "cell_type": "code",
   "execution_count": 31,
   "metadata": {},
   "outputs": [
    {
     "name": "stdout",
     "output_type": "stream",
     "text": [
      "Theta found by gradient descent:\n",
      "-3.630291\n",
      "1.166362\n",
      "Expected theta values (approx)\n",
      " -3.6303\n",
      "  1.1664\n",
      "\n",
      "\n"
     ]
    }
   ],
   "source": [
    "% print theta to screen\n",
    "\n",
    "fprintf('Theta found by gradient descent:\\n');\n",
    "fprintf('%f\\n', theta);\n",
    "fprintf('Expected theta values (approx)\\n');\n",
    "fprintf(' -3.6303\\n  1.1664\\n\\n');"
   ]
  },
  {
   "cell_type": "code",
   "execution_count": 42,
   "metadata": {},
   "outputs": [
    {
     "name": "stdout",
     "output_type": "stream",
     "text": [
      "\n"
     ]
    },
    {
     "data": {
      "image/png": "[encoded data removed]",
      "text/plain": [
       "<IPython.core.display.Image object>"
      ]
     },
     "metadata": {},
     "output_type": "display_data"
    }
   ],
   "source": [
    "% Plotting the linear fit against the dataset \n",
    "\n",
    "% Plot dataset\n",
    "plot(X(:,2), y, 'r*','MarkerSize',10);   % Plot\n",
    "ylabel('Profit in $10,000s');            % Set the y-axis\n",
    "xlabel('Population of City in 10,000s')  % Set the x-axis\n",
    "\n",
    "% Plot the linear fit\n",
    "\n",
    "hold on; % keep previous plot visible\n",
    "plot(X(:,2), X*theta, '-')\n",
    "legend('Training data', 'Linear regression','Location','Southeast')\n",
    "hold off % don't overlay any more plots on this figure\n"
   ]
  },
  {
   "cell_type": "code",
   "execution_count": 43,
   "metadata": {},
   "outputs": [
    {
     "name": "stdout",
     "output_type": "stream",
     "text": [
      "For population = 35,000, we predict a profit of 4519.767868\n",
      "For population = 70,000, we predict a profit of 45342.450129\n",
      "\n"
     ]
    }
   ],
   "source": [
    "% Predict values for population sizes of 35,000 and 70,000\n",
    "\n",
    "predict1 = [1, 3.5] *theta;\n",
    "fprintf('For population = 35,000, we predict a profit of %f\\n',...\n",
    "    predict1*10000);\n",
    "predict2 = [1, 7] * theta;\n",
    "fprintf('For population = 70,000, we predict a profit of %f\\n',...\n",
    "    predict2*10000);"
   ]
  },
  {
   "cell_type": "markdown",
   "metadata": {},
   "source": [
    "### Visualizing $J\\theta"
   ]
  },
  {
   "cell_type": "code",
   "execution_count": 46,
   "metadata": {},
   "outputs": [
    {
     "name": "stdout",
     "output_type": "stream",
     "text": [
      "Visualizing J(theta_0, theta_1) ...\n",
      "\n"
     ]
    },
    {
     "data": {
      "image/png": "[encoded data removed]",
      "text/plain": [
       "<IPython.core.display.Image object>"
      ]
     },
     "metadata": {},
     "output_type": "display_data"
    },
    {
     "data": {
      "image/png": "[encoded data removed]",
      "text/plain": [
       "<IPython.core.display.Image object>"
      ]
     },
     "metadata": {},
     "output_type": "display_data"
    }
   ],
   "source": [
    "fprintf('Visualizing J(theta_0, theta_1) ...\\n')\n",
    "\n",
    "% Grid over which we will calculate J\n",
    "theta0_vals = linspace(-10, 10, 100);\n",
    "theta1_vals = linspace(-1, 4, 100);\n",
    "\n",
    "% initialize J_vals to a matrix of 0's\n",
    "J_vals = zeros(length(theta0_vals), length(theta1_vals));\n",
    "\n",
    "% Fill out J_vals\n",
    "for i = 1:length(theta0_vals)\n",
    "    for j = 1:length(theta1_vals)\n",
    "      t = [theta0_vals(i); theta1_vals(j)];\n",
    "      J_vals(i,j) = computeCost(X, y, t);\n",
    "    end\n",
    "end\n",
    "\n",
    "\n",
    "% Because of the way meshgrids work in the surf command, we need to\n",
    "% transpose J_vals before calling surf, or else the axes will be flipped\n",
    "J_vals = J_vals';\n",
    "% Surface plot\n",
    "figure;\n",
    "surf(theta0_vals, theta1_vals, J_vals)\n",
    "xlabel('\\theta_0'); ylabel('\\theta_1');\n",
    "title('Cost function w/ Surface');\n",
    "\n",
    "% Contour plot\n",
    "figure;\n",
    "% Plot J_vals as 15 contours spaced logarithmically between 0.01 and 100\n",
    "contour(theta0_vals, theta1_vals, J_vals, logspace(-2, 3, 20))\n",
    "xlabel('\\theta_0'); ylabel('\\theta_1');\n",
    "hold on;\n",
    "plot(theta(1), theta(2), 'rx', 'MarkerSize', 10, 'LineWidth', 2);\n",
    "title('Cost function w/ Contour')"
   ]
  },
  {
   "cell_type": "markdown",
   "metadata": {},
   "source": [
    "---"
   ]
  },
  {
   "cell_type": "markdown",
   "metadata": {},
   "source": [
    "### Linear Regression with Multiple Variables  \n",
    "In this part, you will implement linear regression with multiple variables to\n",
    "predict the prices of houses. Suppose you are selling your house and you\n",
    "want to know what a good market price would be. One way to do this is to\n",
    "first collect information on recent houses sold and make a model of housing\n",
    "prices.  \n",
    "The file ex1data2.txt contains a training set of housing prices in Portland, Oregon. The first column is the size of the house (in square feet), the\n",
    "second column is the number of bedrooms, and the third column is the price\n",
    "of the house."
   ]
  },
  {
   "cell_type": "markdown",
   "metadata": {},
   "source": [
    "### Feature Normalization "
   ]
  },
  {
   "cell_type": "code",
   "execution_count": 49,
   "metadata": {},
   "outputs": [
    {
     "name": "stdout",
     "output_type": "stream",
     "text": [
      "Created file 'C:\\Users\\Makana\\Documents\\MATLABfiles\\machinelearn_NG\\Matlab_track\\featureNormalize.m'.\n"
     ]
    }
   ],
   "source": [
    "%%file \"featureNormalize.m\"\n",
    "\n",
    "function [X_norm, mu, sigma] = featureNormalize(X)\n",
    "%FEATURENORMALIZE Normalizes the features in X \n",
    "%   FEATURENORMALIZE(X) returns a normalized version of X where\n",
    "%   the mean value of each feature is 0 and the standard deviation\n",
    "%   is 1. This is often a good preprocessing step to do when\n",
    "%   working with learning algorithms.\n",
    "\n",
    "X_norm = X;\n",
    "mu = zeros(1, size(X, 2));\n",
    "sigma = zeros(1, size(X, 2));\n",
    "\n",
    "for col = 1: size(X,2)\n",
    "    mu(1,col) = mean(X(:,col));\n",
    "    sigma(1,col) = std(X(:,col));\n",
    "    X_norm(:,col) = (X(:,col) - mu(1,col)) / sigma(1,col); \n",
    "end\n",
    "\n",
    "end"
   ]
  },
  {
   "cell_type": "code",
   "execution_count": 50,
   "metadata": {},
   "outputs": [
    {
     "name": "stdout",
     "output_type": "stream",
     "text": [
      "\n"
     ]
    }
   ],
   "source": [
    "% Loading data\n",
    "\n",
    "data = load('.\\ex1\\ex1data2.txt');\n",
    "X = data(:, 1:2);\n",
    "y = data(:, 3);\n",
    "m = length(y);"
   ]
  },
  {
   "cell_type": "code",
   "execution_count": 51,
   "metadata": {},
   "outputs": [
    {
     "name": "stdout",
     "output_type": "stream",
     "text": [
      "\n",
      "ans =\n",
      "\n",
      "        2104           3\n",
      "        1600           3\n",
      "        2400           3\n",
      "        1416           2\n",
      "        3000           4\n",
      "\n",
      "\n",
      "ans =\n",
      "\n",
      "      399900\n",
      "      329900\n",
      "      369000\n",
      "      232000\n",
      "      539900\n",
      "\n",
      "\n"
     ]
    }
   ],
   "source": [
    "% column 1 is size of house (in sq. ft)\n",
    "% column 2 is number of bedrooms\n",
    "% column 3 is price of house\n",
    "\n",
    "X(1:5,:), y(1:5,:)"
   ]
  },
  {
   "cell_type": "code",
   "execution_count": null,
   "metadata": {
    "scrolled": true
   },
   "outputs": [],
   "source": [
    "% Print out some data points\n",
    "fprintf('First 10 examples from the dataset: \\n');\n",
    "fprintf(' x = [%.0f %.0f], y = %.0f \\n', [X(1:10,:) y(1:10,:)]');\n",
    "\n",
    "fprintf('Program paused. Press enter to continue.\\n');\n",
    "\n",
    "\n",
    "% Scale features and set them to zero mean\n",
    "fprintf('Normalizing Features ...\\n');\n",
    "\n",
    "[X mu sigma] = featureNormalize(X);\n",
    "\n",
    "% Add intercept term to X\n",
    "X = [ones(m, 1) X];\n",
    "\n",
    "X(1:5,:)\n"
   ]
  },
  {
   "cell_type": "code",
   "execution_count": 59,
   "metadata": {},
   "outputs": [
    {
     "name": "stdout",
     "output_type": "stream",
     "text": [
      "Running gradient descent ...\n",
      "Theta computed from gradient descent: \n",
      " 340412.659574 \n",
      " 110631.050279 \n",
      " -6649.474271 \n",
      "\n",
      "\n"
     ]
    },
    {
     "data": {
      "image/png": "[encoded data removed]",
      "text/plain": [
       "<IPython.core.display.Image object>"
      ]
     },
     "metadata": {},
     "output_type": "display_data"
    }
   ],
   "source": [
    "fprintf('Running gradient descent ...\\n');\n",
    "\n",
    "% Choose some alpha value\n",
    "alpha = 1.0;\n",
    "num_iters = 100;\n",
    "\n",
    "% Init Theta and Run Gradient Descent \n",
    "theta = zeros(3, 1);\n",
    "[theta, J_history] = gradientDescentMulti(X, y, theta, alpha, num_iters);\n",
    "\n",
    "% Plot the convergence graph\n",
    "figure;\n",
    "plot(1:numel(J_history), J_history, '-b', 'LineWidth', 2);\n",
    "xlabel('Number of iterations');\n",
    "ylabel('Cost J');\n",
    "\n",
    "% Display gradient descent's result\n",
    "fprintf('Theta computed from gradient descent: \\n');\n",
    "fprintf(' %f \\n', theta);\n",
    "fprintf('\\n');\n"
   ]
  },
  {
   "cell_type": "code",
   "execution_count": 62,
   "metadata": {},
   "outputs": [
    {
     "name": "stdout",
     "output_type": "stream",
     "text": [
      "Predicted price of a 1650 sq-ft, 3 br house (using gradient descent):\n",
      " $293081.464335\n",
      "\n"
     ]
    }
   ],
   "source": [
    "% Estimate the price of a 1650 sq-ft, 3 br house\n",
    "\n",
    "% the first column of X is all-ones. Thus, it doesnot need to be normalized\n",
    "% \n",
    "\n",
    "% normalizing [1650 3]\n",
    "\n",
    "est = [1650 3];\n",
    "norm_est = est;\n",
    "\n",
    "for col = 1: size(est,2)\n",
    "    norm_est(:,col) = (est(:,col) - mu(1,col)) / sigma(1,col);\n",
    "end\n",
    "\n",
    "% Include 1 to first column\n",
    "input_est = [1 norm_est(:,1) norm_est(:,2)];\n",
    "\n",
    "price = input_est * theta;\n",
    "\n",
    "fprintf(['Predicted price of a 1650 sq-ft, 3 br house ' ...\n",
    "         '(using gradient descent):\\n $%f\\n'], price);\n",
    "\n"
   ]
  },
  {
   "cell_type": "markdown",
   "metadata": {},
   "source": [
    "The price of a 1650 sq-ft, 3 br house is essentially __$293k__ based on this gradient descent"
   ]
  },
  {
   "cell_type": "markdown",
   "metadata": {},
   "source": [
    "### Choosing learning rates, \\alpha\n"
   ]
  },
  {
   "cell_type": "markdown",
   "metadata": {},
   "source": [
    "What value of \\alpha would be best to use?\n"
   ]
  },
  {
   "cell_type": "code",
   "execution_count": 37,
   "metadata": {
    "scrolled": false
   },
   "outputs": [
    {
     "name": "stdout",
     "output_type": "stream",
     "text": [
      "\n"
     ]
    },
    {
     "data": {
      "image/png": "[encoded data removed]",
      "text/plain": [
       "<IPython.core.display.Image object>"
      ]
     },
     "metadata": {},
     "output_type": "display_data"
    },
    {
     "data": {
      "image/png": "[encoded data removed]",
      "text/plain": [
       "<IPython.core.display.Image object>"
      ]
     },
     "metadata": {},
     "output_type": "display_data"
    }
   ],
   "source": [
    "% (Optional exercise) Choosing learning rates\n",
    "\n",
    "% Choose some alpha values\n",
    "alpha1 = 0.3; alpha2 = 0.1; alpha3 = 0.03; alpha4 = 0.01; alpha5 = 0.8;\n",
    "\n",
    "num_iters = 300;\n",
    "\n",
    "% Init Theta and Run Gradient Descent \n",
    "theta_orig = zeros(3, 1);\n",
    "\n",
    "[theta1, J1] = gradientDescentMulti(X, y, theta_orig, alpha1, num_iters);\n",
    "[theta2, J2] = gradientDescentMulti(X, y, theta_orig, alpha2, num_iters);\n",
    "[theta3, J3] = gradientDescentMulti(X, y, theta_orig, alpha3, num_iters);\n",
    "[theta4, J4] = gradientDescentMulti(X, y, theta_orig, alpha4, num_iters);\n",
    "[theta5, J5] = gradientDescentMulti(X, y, theta_orig, alpha5, num_iters);\n",
    "\n",
    "\n",
    "figure\n",
    "subplot(2,2,1);\n",
    "plot(1:numel(J1), J1, 'b');legend('\\alpha = 0.3');\n",
    "xlabel('Number of iterations'); ylabel('Cost J');\n",
    "subplot(2,2,2);\n",
    "plot(1:numel(J2), J2, 'r');legend('\\alpha = 0.1');\n",
    "xlabel('Number of iterations'); ylabel('Cost J');\n",
    "subplot(2,2,3);\n",
    "plot(1:numel(J3), J3, 'k');legend('\\alpha = 0.03');\n",
    "xlabel('Number of iterations'); ylabel('Cost J');\n",
    "subplot(2,2,4);\n",
    "plot(1:numel(J4), J4, 'g');legend('\\alpha = 0.01');\n",
    "xlabel('Number of iterations'); ylabel('Cost J');\n",
    "\n",
    "\n",
    "figure \n",
    "plot(1:numel(J1), J1, 'b'); hold on;\n",
    "plot(1:numel(J2), J2, 'r');\n",
    "plot(1:numel(J3), J3, 'k');\n",
    "plot(1:numel(J4), J4, 'g');\n",
    "xlabel('Number of iterations'); ylabel('Cost J');title('Cost function, J, with differing \\alpha')\n",
    "legend('\\alpha = 0.3','\\alpha = 0.1','\\alpha = 0.03','\\alpha = 0.01', ...\n",
    "'Location','northeast')"
   ]
  },
  {
   "cell_type": "code",
   "execution_count": 26,
   "metadata": {},
   "outputs": [
    {
     "name": "stdout",
     "output_type": "stream",
     "text": [
      "\n",
      "ans =\n",
      "\n",
      "   1.0e+09 *\n",
      "\n",
      "   2.043280050602827   2.108850058400706\n",
      "\n",
      "\n"
     ]
    }
   ],
   "source": [
    "format LONG;\n",
    "[min(J1) min(J4)]"
   ]
  },
  {
   "cell_type": "markdown",
   "metadata": {},
   "source": [
    "__Observations__:\n",
    "\n",
    "In Fig.1, (BLUE) alpha1 = 0.30  \n",
    "In Fig. 4, (GREEN) alpha4 = 0.01  -> The small \\alpha value requires many more iterations to reach the minimum value of J\n",
    " "
   ]
  },
  {
   "cell_type": "markdown",
   "metadata": {},
   "source": [
    "### Using __Gradient Descent__ algorithm  \n",
    "\n",
    "Disdvantages \n",
    "1. Need to choose \\alpha\n",
    "2. Needs many iterations  \n",
    "\n",
    "Advantage:\n",
    "3. Works well even when n is large"
   ]
  },
  {
   "cell_type": "markdown",
   "metadata": {},
   "source": [
    "### Using Normal equation to solve \\theta analytically  \n",
    "Advantages:\n",
    "1. No need to choose \\alpha\n",
    "2. No need to iterate\n",
    "\n",
    "Disadvantages:\n",
    "3. Need to compute, (X^T X)^-1\n",
    "    - Slow if n is very large\n",
    "4. Effective to n = 10000"
   ]
  },
  {
   "cell_type": "markdown",
   "metadata": {},
   "source": [
    "#### Let's try using the normal equation method to solve for theta"
   ]
  },
  {
   "cell_type": "code",
   "execution_count": 66,
   "metadata": {},
   "outputs": [
    {
     "name": "stdout",
     "output_type": "stream",
     "text": [
      "Theta computed from the normal equations: \n",
      " 89597.909544 \n",
      " 139.210674 \n",
      " -8738.019113 \n",
      "\n",
      "\n"
     ]
    }
   ],
   "source": [
    "% Loading data\n",
    "data = csvread('.\\ex1\\ex1data2.txt');\n",
    "X = data(:, 1:2);\n",
    "y = data(:, 3);\n",
    "m = length(y);\n",
    "\n",
    "% Add intercept term to X\n",
    "X = [ones(m, 1) X];\n",
    "\n",
    "% Calculate the parameters from the normal equation\n",
    "theta = normalEqn(X, y);\n",
    "\n",
    "% Display normal equation's result\n",
    "fprintf('Theta computed from the normal equations: \\n');\n",
    "fprintf(' %f \\n', theta);\n",
    "fprintf('\\n');\n"
   ]
  },
  {
   "cell_type": "markdown",
   "metadata": {},
   "source": [
    "Now estimate the price of a house, based on these theta values"
   ]
  },
  {
   "cell_type": "code",
   "execution_count": 68,
   "metadata": {},
   "outputs": [
    {
     "name": "stdout",
     "output_type": "stream",
     "text": [
      "Predicted price of a 1650 sq-ft, 3 br house (using normal equations):\n",
      " $293081.464335\n",
      "\n"
     ]
    }
   ],
   "source": [
    " \n",
    "% Estimate the price of a 1650 sq-ft, 3 br house\n",
    "%\n",
    "\n",
    "\n",
    "est = [1 1650 3];\n",
    "\n",
    "price = est * theta;\n",
    "\n",
    "fprintf(['Predicted price of a 1650 sq-ft, 3 br house ' ...\n",
    "         '(using normal equations):\\n $%f\\n'], price);\n",
    "\n"
   ]
  },
  {
   "cell_type": "markdown",
   "metadata": {},
   "source": [
    "Basically, using this method we arrive at house __$293k__, which is about the same as the gradient descent method used earlier"
   ]
  }
 ],
 "metadata": {
  "kernelspec": {
   "display_name": "Matlab",
   "language": "matlab",
   "name": "matlab"
  },
  "language_info": {
   "codemirror_mode": "octave",
   "file_extension": ".m",
   "help_links": [
    {
     "text": "MetaKernel Magics",
     "url": "https://github.com/calysto/metakernel/blob/master/metakernel/magics/README.md"
    }
   ],
   "mimetype": "text/x-octave",
   "name": "matlab",
   "version": "0.15.1"
  }
 },
 "nbformat": 4,
 "nbformat_minor": 2
}
