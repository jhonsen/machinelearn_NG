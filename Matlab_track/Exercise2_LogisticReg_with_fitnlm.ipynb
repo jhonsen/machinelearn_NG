{
 "cells": [
  {
   "cell_type": "markdown",
   "metadata": {},
   "source": [
    "# Exercise 2   \n",
    "(with Matlab's statistics and ML Toolbox)  \n",
    "- Going through this exercise using the toolbox"
   ]
  },
  {
   "cell_type": "markdown",
   "metadata": {},
   "source": [
    "__Section 1.2.2__   \n",
    "- Use Tables to manage data  \n",
    "- Use fitnlm  from Statistics and ML toolbox  \n",
    "\n"
   ]
  },
  {
   "cell_type": "code",
   "execution_count": 3,
   "metadata": {},
   "outputs": [
    {
     "name": "stdout",
     "output_type": "stream",
     "text": [
      "\n"
     ]
    }
   ],
   "source": [
    "data = load('./ex2/ex2data1.txt');\n",
    "df = table(data(:,1), data(:,2), data(:,3), ...\n",
    "'VariableNames',{'Exam_1','Exam_2','Admittance'});\n"
   ]
  },
  {
   "cell_type": "code",
   "execution_count": 4,
   "metadata": {},
   "outputs": [
    {
     "name": "stdout",
     "output_type": "stream",
     "text": [
      "\n",
      "ans =\n",
      "\n",
      "  8×3 table\n",
      "\n",
      "    Exam_1    Exam_2    Admittance\n",
      "    ______    ______    __________\n",
      "\n",
      "    34.624    78.025    0         \n",
      "    30.287    43.895    0         \n",
      "    35.847    72.902    0         \n",
      "    60.183    86.309    1         \n",
      "    79.033    75.344    1         \n",
      "    45.083    56.316    0         \n",
      "    61.107    96.511    1         \n",
      "    75.025    46.554    1         \n",
      "\n",
      "\n"
     ]
    }
   ],
   "source": [
    "head(df)"
   ]
  },
  {
   "cell_type": "code",
   "execution_count": null,
   "metadata": {},
   "outputs": [],
   "source": []
  },
  {
   "cell_type": "code",
   "execution_count": null,
   "metadata": {},
   "outputs": [],
   "source": []
  },
  {
   "cell_type": "code",
   "execution_count": null,
   "metadata": {},
   "outputs": [],
   "source": []
  }
 ],
 "metadata": {
  "kernelspec": {
   "display_name": "Matlab",
   "language": "matlab",
   "name": "matlab"
  },
  "language_info": {
   "codemirror_mode": "octave",
   "file_extension": ".m",
   "help_links": [
    {
     "text": "MetaKernel Magics",
     "url": "https://github.com/calysto/metakernel/blob/master/metakernel/magics/README.md"
    }
   ],
   "mimetype": "text/x-octave",
   "name": "matlab",
   "version": "0.15.1"
  }
 },
 "nbformat": 4,
 "nbformat_minor": 2
}
