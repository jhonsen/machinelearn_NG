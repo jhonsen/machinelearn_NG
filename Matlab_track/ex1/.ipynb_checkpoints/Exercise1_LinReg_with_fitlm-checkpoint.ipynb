{
 "cells": [
  {
   "cell_type": "markdown",
   "metadata": {},
   "source": [
    "# Exercise 1  \n",
    "(with Matlab's statistics and ML Toolbox)  \n",
    "- Going through this exercise using the toolbox"
   ]
  },
  {
   "cell_type": "markdown",
   "metadata": {},
   "source": [
    "### Using Tables to manage data"
   ]
  },
  {
   "cell_type": "code",
   "execution_count": 1,
   "metadata": {},
   "outputs": [
    {
     "name": "stdout",
     "output_type": "stream",
     "text": [
      "\n"
     ]
    }
   ],
   "source": [
    "% Loading the data \n",
    "\n",
    "data = load('.\\ex1\\ex1data1.txt'); % read comma separated data\n"
   ]
  },
  {
   "cell_type": "code",
   "execution_count": 9,
   "metadata": {},
   "outputs": [
    {
     "name": "stdout",
     "output_type": "stream",
     "text": [
      "\n",
      "ans =\n",
      "\n",
      "  8×2 table\n",
      "\n",
      "    Population    Profit\n",
      "    __________    ______\n",
      "\n",
      "    6.1101        17.592\n",
      "    5.5277        9.1302\n",
      "    8.5186        13.662\n",
      "    7.0032        11.854\n",
      "    5.8598        6.8233\n",
      "    8.3829        11.886\n",
      "    7.4764        4.3483\n",
      "    8.5781            12\n",
      "\n",
      "\n"
     ]
    }
   ],
   "source": [
    "tbl = table(data(:,1), data(:,2), 'VariableNames',{'Population','Profit'});\n",
    "head(tbl)"
   ]
  },
  {
   "cell_type": "code",
   "execution_count": 21,
   "metadata": {},
   "outputs": [
    {
     "name": "stdout",
     "output_type": "stream",
     "text": [
      "\n",
      "lm = \n",
      "\n",
      "\n",
      "Linear regression model:\n",
      "    Profit ~ 1 + Population\n",
      "\n",
      "Estimated Coefficients:\n",
      "                   Estimate       SE        tStat       pValue  \n",
      "                   ________    ________    _______    __________\n",
      "\n",
      "    (Intercept)    -3.8958      0.71948    -5.4147    4.6079e-07\n",
      "    Population       1.193     0.079744     14.961    1.0232e-26\n",
      "\n",
      "\n",
      "Number of observations: 97, Error degrees of freedom: 95\n",
      "Root Mean Squared Error: 3.02\n",
      "R-squared: 0.702,  Adjusted R-Squared 0.699\n",
      "F-statistic vs. constant model: 224, p-value = 1.02e-26\n",
      "\n"
     ]
    }
   ],
   "source": [
    "% Make a linear model\n",
    "\n",
    "lm = fitlm(tbl,'Profit~Population')\n",
    "% alternatively, we can do >> lm2 = fitlm(tbl,'linear')"
   ]
  },
  {
   "cell_type": "markdown",
   "metadata": {},
   "source": [
    "The result (above) shows that the thetas are __-3.8958__ and __1.193__\n"
   ]
  },
  {
   "cell_type": "markdown",
   "metadata": {},
   "source": [
    "### Visualizing the result"
   ]
  },
  {
   "cell_type": "code",
   "execution_count": 18,
   "metadata": {},
   "outputs": [
    {
     "name": "stdout",
     "output_type": "stream",
     "text": [
      "\n"
     ]
    },
    {
     "data": {
      "image/png": "[encoded data removed]",
      "text/plain": [
       "<IPython.core.display.Image object>"
      ]
     },
     "metadata": {},
     "output_type": "display_data"
    }
   ],
   "source": [
    "%plot inline\n",
    "plot(lm)"
   ]
  },
  {
   "cell_type": "markdown",
   "metadata": {},
   "source": [
    "Let's use this model to predict the 35,000 and 70,000"
   ]
  },
  {
   "cell_type": "code",
   "execution_count": 42,
   "metadata": {},
   "outputs": [
    {
     "name": "stdout",
     "output_type": "stream",
     "text": [
      "\n"
     ]
    }
   ],
   "source": [
    "% Making two entries in test_predictors, or X_pred\n",
    "\n",
    "Xpred = table([3.5; 7.0], 'VariableNames',{'Population'});\n",
    "\n",
    "ypred = predict(lm, Xpred);\n"
   ]
  },
  {
   "cell_type": "code",
   "execution_count": 39,
   "metadata": {},
   "outputs": [
    {
     "name": "stdout",
     "output_type": "stream",
     "text": [
      "Using fitlm from the Stats and ML toolbox:\n",
      "For population = 35,000, we predict a profit of 2798.368764\n",
      "For population = 70,000, we predict a profit of 44554.546310\n",
      "Whereas, when we do it from scratch (using gradient descent):\n",
      "For population = 35,000, we predicted a profit of 4519.767868\n",
      "For population = 70,000, we predicted a profit of 45342.450129\n",
      "\n"
     ]
    }
   ],
   "source": [
    "fprintf('Using fitlm from the Stats and ML toolbox:\\n')\n",
    "fprintf('For population = 35,000, we predict a profit of %f\\n', ...\n",
    "    ypred(1)*10000);\n",
    "fprintf('For population = 70,000, we predict a profit of %f\\n',...\n",
    "    ypred(2)*10000);\n",
    "    \n",
    "fprintf('Whereas, when we do it from scratch (using gradient descent):\\n')\n",
    "fprintf('For population = 35,000, we predicted a profit of 4519.767868\\n')\n",
    "fprintf('For population = 70,000, we predicted a profit of 45342.450129\\n')"
   ]
  },
  {
   "cell_type": "markdown",
   "metadata": {},
   "source": [
    "Basically, we don't get the identical values"
   ]
  }
 ],
 "metadata": {
  "kernelspec": {
   "display_name": "Matlab",
   "language": "matlab",
   "name": "matlab"
  },
  "language_info": {
   "codemirror_mode": "octave",
   "file_extension": ".m",
   "help_links": [
    {
     "text": "MetaKernel Magics",
     "url": "https://github.com/calysto/metakernel/blob/master/metakernel/magics/README.md"
    }
   ],
   "mimetype": "text/x-octave",
   "name": "matlab",
   "version": "0.15.1"
  }
 },
 "nbformat": 4,
 "nbformat_minor": 2
}
