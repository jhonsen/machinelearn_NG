{
 "cells": [
  {
   "cell_type": "markdown",
   "metadata": {},
   "source": [
    "# Exercise 2  \n",
    "(with Matlab, from scratch)\n",
    "- Going through this exercise, as guided by the course tutorial\n"
   ]
  },
  {
   "cell_type": "markdown",
   "metadata": {},
   "source": [
    "###  Scripts included in this exercise\n",
    "\n",
    "1.     mapFeature.m  \n",
    "2.     plotDecisionBoundary.m\n",
    "3.     sigmoid.m\n",
    "4.     plotData.m\n",
    "5.     predict.m\n",
    "6.     CostFunction.m\n",
    "7.     CostFunctionReg.m\n",
    "\n"
   ]
  },
  {
   "cell_type": "markdown",
   "metadata": {},
   "source": [
    "## Section 1. "
   ]
  },
  {
   "cell_type": "markdown",
   "metadata": {},
   "source": [
    "Suppose that you are the administrator of a university department and\n",
    "you want to determine each applicant's chance of admission based on their\n",
    "results on two exams. You have historical data from previous applicants\n",
    "that you can use as a training set for logistic regression. For each training example, you have the applicant's scores on two exams and the admissions decision.  \n",
    "Your task is to build a classi\f",
    "cation model that estimates an applicant's\n",
    "probability of admission based the scores from those two exams.  \n",
    "The workflow in this notebook follows the scripts included in __ex2.m__  "
   ]
  },
  {
   "cell_type": "markdown",
   "metadata": {},
   "source": [
    "__Section 1.1__  \n",
    "- Visualizing the data \n",
    "- ex2data1.txt contains 3 columns. 1st is exam1 score, 2nd is exam2 score, and 3rd is admitted/not-assignments"
   ]
  },
  {
   "cell_type": "code",
   "execution_count": 1,
   "metadata": {},
   "outputs": [],
   "source": [
    "%plot inline"
   ]
  },
  {
   "cell_type": "markdown",
   "metadata": {},
   "source": [
    "Create matrix data, X and y from ex2data1.txt"
   ]
  },
  {
   "cell_type": "code",
   "execution_count": 2,
   "metadata": {},
   "outputs": [
    {
     "name": "stdout",
     "output_type": "stream",
     "text": [
      "\n"
     ]
    }
   ],
   "source": [
    "data = load('./ex2data1.txt');\n",
    "X = data(:, [1, 2]); \n",
    "y = data(:, 3);"
   ]
  },
  {
   "cell_type": "code",
   "execution_count": 3,
   "metadata": {},
   "outputs": [
    {
     "name": "stdout",
     "output_type": "stream",
     "text": [
      "Plotting data with + indicating (y = 1) examples and o indicating (y = 0) examples.\n",
      "Warning: MATLAB has disabled some advanced graphics rendering features by switching to software OpenGL. For more information, click <a href=\"matlab:opengl('problems')\">here</a>.\n",
      "\n"
     ]
    },
    {
     "data": {
      "image/png": "[encoded data removed]",
      "text/plain": [
       "<IPython.core.display.Image object>"
      ]
     },
     "metadata": {},
     "output_type": "display_data"
    }
   ],
   "source": [
    "fprintf(['Plotting data with + indicating (y = 1) examples and o ' ...\n",
    "         'indicating (y = 0) examples.\\n']);\n",
    "plotlogregData(X,y); \n",
    "\n",
    "xlabel('Exam 1 score')\n",
    "ylabel('Exam 2 score')\n",
    "legend('Admitted', 'Not admitted')\n",
    "hold off;\n",
    "\n"
   ]
  },
  {
   "cell_type": "markdown",
   "metadata": {},
   "source": [
    "__Section 1,2__  \n",
    " - Make a sigmoid function  \n",
    " - Logistic Regression hypthesis function is\n",
    " $$h_\\theta(x) = g(\\theta^T x)$$  \n",
    " where function g is the sigmoid function dfined as  $$g(z) = \\frac{1}{(1+e^{-z})}$$  \n",
    " - So we want to create a sigmoid function where we could compute $h_\\theta(x)$  for any vector, or matrix  \n",
    " - The function is saved in a script called, __sigmoid.m__"
   ]
  },
  {
   "cell_type": "code",
   "execution_count": 4,
   "metadata": {},
   "outputs": [
    {
     "name": "stdout",
     "output_type": "stream",
     "text": [
      "\n"
     ]
    },
    {
     "data": {
      "image/png": "[encoded data removed]",
      "text/plain": [
       "<IPython.core.display.Image object>"
      ]
     },
     "metadata": {},
     "output_type": "display_data"
    }
   ],
   "source": [
    "% try the sigmoid function\n",
    "\n",
    "A = linspace(0,5,10); \n",
    "sigmoid(A);\n",
    "\n",
    "plot(A,sigmoid(A), 'r-');"
   ]
  },
  {
   "cell_type": "markdown",
   "metadata": {},
   "source": [
    "__Section 1.2.2.__ Cost function and gradient\n"
   ]
  },
  {
   "cell_type": "markdown",
   "metadata": {},
   "source": [
    "- The cost function for logistic regression is  \n",
    "$$J(\\theta) = \\frac{1}{m} \\sum_{i=1}^{m} [-y^{(i)}log(h_\\theta(x^{(i)})) - (1-y^{(i)})log(1-h_\\theta(x^{(i)}) )] $$  \n",
    "- The gradient of the cost function is a vector   \n",
    "$$\\frac{\\delta J(\\theta)}{\\delta\\theta_j} = \\frac{1}{m} \\sum_{i=1}^{m} (h_\\theta(x^{(i)})-y^{(i)}) x_j^{(i)} $$  \n",
    "   \n",
    "- These equations are explicitly coded in __CostFunction.m__\n",
    "\n",
    "- Apply gradient descent using thetas = [0 0 0], then thetas = [24 0.2 0.2]  \n",
    "\n",
    "  "
   ]
  },
  {
   "cell_type": "code",
   "execution_count": 5,
   "metadata": {},
   "outputs": [
    {
     "name": "stdout",
     "output_type": "stream",
     "text": [
      "Cost at initial theta (zeros): 0.693147\n",
      "Expected cost (approx): 0.693\n",
      "Gradient at initial theta (zeros): \n",
      " -0.100000 \n",
      " -12.009217 \n",
      " -11.262842 \n",
      "Expected gradients (approx):\n",
      " -0.1000\n",
      " -12.0092\n",
      " -11.2628\n",
      "\n",
      "Cost at test theta: 0.218330\n",
      "Expected cost (approx): 0.218\n",
      "Gradient at test theta: \n",
      " 0.042903 \n",
      " 2.566234 \n",
      " 2.646797 \n",
      "Expected gradients (approx):\n",
      " 0.043\n",
      " 2.566\n",
      " 2.647\n",
      "\n"
     ]
    }
   ],
   "source": [
    "% Setup the matrix \n",
    "[m, n] = size(X);\n",
    "\n",
    "% Add intercept to X and X_test\n",
    "X = [ones(m,1) X];\n",
    "\n",
    "% Initialize fitting parameters\n",
    "initial_theta = zeros(n+1, 1);\n",
    "\n",
    "% Compute and display initial cost and gradient\n",
    "[cost, grad] = costFunction(initial_theta, X, y);\n",
    "\n",
    "fprintf('Cost at initial theta (zeros): %f\\n', cost);\n",
    "fprintf('Expected cost (approx): 0.693\\n');\n",
    "fprintf('Gradient at initial theta (zeros): \\n');\n",
    "fprintf(' %f \\n', grad);\n",
    "fprintf('Expected gradients (approx):\\n -0.1000\\n -12.0092\\n -11.2628\\n');\n",
    "\n",
    "% Compute and display cost and gradient with non-zero theta\n",
    "test_theta = [-24; 0.2; 0.2];\n",
    "[cost, grad] = costFunction(test_theta, X, y);\n",
    "\n",
    "fprintf('\\nCost at test theta: %f\\n', cost);\n",
    "fprintf('Expected cost (approx): 0.218\\n');\n",
    "fprintf('Gradient at test theta: \\n');\n",
    "fprintf(' %f \\n', grad);\n",
    "fprintf('Expected gradients (approx):\\n 0.043\\n 2.566\\n 2.647\\n');\n",
    "\n"
   ]
  },
  {
   "cell_type": "code",
   "execution_count": null,
   "metadata": {},
   "outputs": [],
   "source": []
  },
  {
   "cell_type": "code",
   "execution_count": 15,
   "metadata": {
    "scrolled": true
   },
   "outputs": [
    {
     "name": "stdout",
     "output_type": "stream",
     "text": [
      "\n",
      "ans =\n",
      "\n",
      "     3     1\n",
      "\n",
      "\n"
     ]
    }
   ],
   "source": [
    "size(grad)\n"
   ]
  },
  {
   "cell_type": "markdown",
   "metadata": {},
   "source": [
    "__Section 1.2.3.__ Learning parameters using fminunc  \n",
    "- Instead of using gradient descent, we can use another optimization algorithm, built-in in Matlab/Octave  \n",
    "- Octave/MATLAB's __fminunc__ is an optimization solver that finds the min-\n",
    "imum of an unconstrained2 function. For logistic regression, you want to\n",
    "optimize the cost function $J(\\theta)$ with parameters .\n"
   ]
  },
  {
   "cell_type": "code",
   "execution_count": 6,
   "metadata": {},
   "outputs": [
    {
     "name": "stdout",
     "output_type": "stream",
     "text": [
      "Warning: Your current settings will run a different algorithm ('quasi-newton') in a future release. Either use optimoptions to set options (recommended), or set option Algorithm to 'trust-region' using optimset.\n",
      "> In throwFminuncGradObjandLargeScaleWarning (line 18)\n",
      "  In fminunc (line 170)\n",
      "\n",
      "Local minimum possible.\n",
      "\n",
      "fminunc stopped because the final change in function value relative to \n",
      "its initial value is less than the default value of the function tolerance.\n",
      "\n",
      "\n",
      "\n",
      "Cost at theta found by fminunc: 0.203506\n",
      "Expected cost (approx): 0.203\n",
      "theta: \n",
      " -24.932892 \n",
      " 0.204407 \n",
      " 0.199617 \n",
      "Expected theta (approx):\n",
      " -25.161\n",
      " 0.206\n",
      " 0.201\n",
      "\n"
     ]
    }
   ],
   "source": [
    "%  Set options for fminunc\n",
    "options = optimset('GradObj', 'on', 'MaxIter', 400);\n",
    "\n",
    "%  Run fminunc to obtain the optimal theta\n",
    "%  This function will return theta and the cost \n",
    "[theta, cost] = ...\n",
    "fminunc(@(t)(costFunction(t, X, y)), initial_theta, options);\n",
    "\n",
    "% Print theta to screen\n",
    "fprintf('Cost at theta found by fminunc: %f\\n', cost);\n",
    "fprintf('Expected cost (approx): 0.203\\n');\n",
    "fprintf('theta: \\n');\n",
    "fprintf(' %f \\n', theta);\n",
    "fprintf('Expected theta (approx):\\n');\n",
    "fprintf(' -25.161\\n 0.206\\n 0.201\\n');"
   ]
  },
  {
   "cell_type": "code",
   "execution_count": 7,
   "metadata": {},
   "outputs": [
    {
     "name": "stdout",
     "output_type": "stream",
     "text": [
      "\n"
     ]
    },
    {
     "data": {
      "image/png": "[encoded data removed]",
      "text/plain": [
       "<IPython.core.display.Image object>"
      ]
     },
     "metadata": {},
     "output_type": "display_data"
    }
   ],
   "source": [
    "% Time to plot the dataset and its  decision boundary \n",
    "\n",
    "plotDecisionBoundary(theta, X, y)\n",
    "xlabel('Exam 1 score')\n",
    "ylabel('Exam 2 score')\n",
    "legend('Admitted', 'Not admitted')\n"
   ]
  },
  {
   "cell_type": "markdown",
   "metadata": {},
   "source": [
    "__Section 1.2.4__ Evaluating logistic regression  \n",
    "- Another way to evaluate the quality of the parameters we have found\n",
    "is to see how well the learned model predicts on our training set. In thispart, your task is to complete the code in __predict.m__. The predict function will produce \"1\" or \"0\" predictions given a dataset and a learned parameter\n",
    "vector $\\theta$."
   ]
  },
  {
   "cell_type": "code",
   "execution_count": 8,
   "metadata": {},
   "outputs": [
    {
     "name": "stdout",
     "output_type": "stream",
     "text": [
      "For a student with scores 45 and 85,\n",
      "we predict an admission probability of 0.774322\n",
      "Expected value: 0.775 +/- 0.002\n",
      "\n",
      "Train Accuracy: 89.000000\n",
      "Expected accuracy (approx): 89.0\n",
      "\n",
      "\n"
     ]
    }
   ],
   "source": [
    "%  Predict probability for a student with score 45 on exam 1 \n",
    "%  and score 85 on exam 2 \n",
    "\n",
    "prob = sigmoid([1 45 85] * theta);\n",
    "fprintf(['For a student with scores 45 and 85,\\nwe predict an admission ' ...\n",
    "         'probability of %f\\n'], prob);\n",
    "fprintf('Expected value: 0.775 +/- 0.002\\n\\n');\n",
    "\n",
    "% Compute accuracy on our training set\n",
    "p = predict(theta, X);\n",
    "\n",
    "fprintf('Train Accuracy: %f\\n', mean(double(p == y)) * 100);\n",
    "fprintf('Expected accuracy (approx): 89.0\\n');\n",
    "fprintf('\\n');"
   ]
  },
  {
   "cell_type": "markdown",
   "metadata": {},
   "source": [
    "## Section 2.  "
   ]
  },
  {
   "cell_type": "markdown",
   "metadata": {},
   "source": [
    "Suppose you are the product manager of the factory and you have the\n",
    "test results for some microchips on two di\u000b",
    "erent tests. From these two tests, you would like to determine whether the microchips should be accepted or rejected. To help you make the decision, you have a dataset of test results on past microchips, from which you can build a logistic regression model.  \n",
    "The workflow for this section follows the scripts included in __ex2_reg.m__  "
   ]
  },
  {
   "cell_type": "code",
   "execution_count": 9,
   "metadata": {},
   "outputs": [
    {
     "name": "stdout",
     "output_type": "stream",
     "text": [
      "\n"
     ]
    }
   ],
   "source": [
    "clear;\n",
    "close all;\n"
   ]
  },
  {
   "cell_type": "markdown",
   "metadata": {},
   "source": [
    "__Section 2.1.__   \n",
    "- Visualizing the data"
   ]
  },
  {
   "cell_type": "code",
   "execution_count": 10,
   "metadata": {},
   "outputs": [
    {
     "name": "stdout",
     "output_type": "stream",
     "text": [
      "\n"
     ]
    },
    {
     "data": {
      "image/png": "[encoded data removed]",
      "text/plain": [
       "<IPython.core.display.Image object>"
      ]
     },
     "metadata": {},
     "output_type": "display_data"
    }
   ],
   "source": [
    "%  Load Data\n",
    "%  The first two columns contains the X values and the third column\n",
    "%  contains the label (y).\n",
    "\n",
    "data = load('./ex2data2.txt');\n",
    "X = data(:, [1, 2]);\n",
    "y = data(:, 3);\n",
    "\n",
    "plotlogregData(X, y);\n",
    "\n",
    "% Put some labels\n",
    "hold on;\n",
    "\n",
    "% Labels and Legend\n",
    "xlabel('Microchip Test 1')\n",
    "ylabel('Microchip Test 2')\n",
    "\n",
    "% Specified in plot order\n",
    "legend('y = 1', 'y = 0')\n",
    "hold off;\n"
   ]
  },
  {
   "cell_type": "markdown",
   "metadata": {},
   "source": [
    "One way to fit the data better is to create more features from each data\n",
    "point.  \n",
    "In the provided function __mapFeature.m__, we will map the features into\n",
    "all polynomial terms of x1 and x2 up to the sixth power.  \n",
    "$$\\mathbf{mapFeature(x)} = \\left[\\begin{array}\n",
    "{rrr}\n",
    "1  \\\\\n",
    "x_1 \\\\\n",
    "x_2 \\\\\n",
    "x_1^2 \\\\\n",
    "x_1x_2 \\\\\n",
    "x_2^2 \\\\\n",
    "x_1^3 \\\\\n",
    ". \\\\\n",
    ".\\\\\n",
    ".\\\\\n",
    "x_1x_2^5 \\\\\n",
    "x_2^6 \n",
    "\\end{array}\\right]\n",
    "$$  \n",
    "\n",
    "- Hence, our vector is transformed from 2 features to 28 features, which will fit better, (though) also more susceptible to overfitting.   \n"
   ]
  },
  {
   "cell_type": "markdown",
   "metadata": {},
   "source": [
    "__Section 2.3__ Cost function and gradient descent  \n",
    "\n",
    "- The regularized cost function  is  \n",
    "$$J(\\theta) = \\frac{1}{m} \\sum_{i=1}^{m} [-y^{(i)}log(h_\\theta(x^{(i)})) - (1-y^{(i)})log(1-h_\\theta(x^{(i)}) )] + \\frac{\\lambda}{2m} \\sum_{j=1}^n \\theta_j^2$$  \n",
    "\n",
    "- The gradient of the cost function is a vector   \n",
    "-\n",
    "for j=0,  \n",
    "$$\\frac{\\delta J(\\theta)}{\\delta\\theta_0} = \\frac{1}{m} \\sum_{i=1}^{m} (h_\\theta(x^{(i)})-y^{(i)}) x_j^{(i)} $$  \n",
    "-\n",
    "for j>=1,  \n",
    "$$\\frac{\\delta J(\\theta)}{\\delta\\theta_0} = ( \\frac{1}{m} \\sum_{i=1}^{m} (h_\\theta(x^{(i)})-y^{(i)}) x_j^{(i)}) + \\frac{\\lambda}{m}\\theta_j$$  \n",
    "__\n",
    "- These equations are explicitly coded in __CostFunctionReg.m__\n",
    "\n"
   ]
  },
  {
   "cell_type": "code",
   "execution_count": 11,
   "metadata": {},
   "outputs": [
    {
     "name": "stdout",
     "output_type": "stream",
     "text": [
      "Cost at initial theta (zeros): 0.693147\n",
      "Expected cost (approx): 0.693\n",
      "Gradient at initial theta (zeros) - first five values only:\n",
      " 0.008475 \n",
      " 0.018788 \n",
      " 0.000078 \n",
      " 0.050345 \n",
      " 0.011501 \n",
      "Expected gradients (approx) - first five values only:\n",
      " 0.0085\n",
      " 0.0188\n",
      " 0.0001\n",
      " 0.0503\n",
      " 0.0115\n",
      "\n"
     ]
    }
   ],
   "source": [
    "% Add Polynomial Features\n",
    "\n",
    "% Note that mapFeature also adds a column of ones for us, so the intercept\n",
    "% term is handled\n",
    "X = mapFeature(X(:,1), X(:,2));\n",
    "\n",
    "% Initialize fitting parameters\n",
    "initial_theta = zeros(size(X, 2), 1);\n",
    "\n",
    "% Set regularization parameter lambda to 1\n",
    "lambda = 1;\n",
    "\n",
    "% Compute and display initial cost and gradient for regularized logistic\n",
    "% regression\n",
    "[cost, grad] = costFunctionReg(initial_theta, X, y, lambda);\n",
    "\n",
    "fprintf('Cost at initial theta (zeros): %f\\n', cost);\n",
    "fprintf('Expected cost (approx): 0.693\\n');\n",
    "fprintf('Gradient at initial theta (zeros) - first five values only:\\n');\n",
    "fprintf(' %f \\n', grad(1:5));\n",
    "fprintf('Expected gradients (approx) - first five values only:\\n');\n",
    "fprintf(' 0.0085\\n 0.0188\\n 0.0001\\n 0.0503\\n 0.0115\\n');\n",
    "\n"
   ]
  },
  {
   "cell_type": "code",
   "execution_count": 12,
   "metadata": {},
   "outputs": [
    {
     "name": "stdout",
     "output_type": "stream",
     "text": [
      "\n",
      "Cost at test theta (with lambda = 10): 3.164509\n",
      "Expected cost (approx): 3.16\n",
      "Gradient at test theta - first five values only:\n",
      " 0.346045 \n",
      " 0.161352 \n",
      " 0.194796 \n",
      " 0.226863 \n",
      " 0.092186 \n",
      "Expected gradients (approx) - first five values only:\n",
      " 0.3460\n",
      " 0.1614\n",
      " 0.1948\n",
      " 0.2269\n",
      " 0.0922\n",
      "\n"
     ]
    }
   ],
   "source": [
    "% Compute and display cost and gradient\n",
    "% with all-ones theta and lambda = 10\n",
    "test_theta = ones(size(X,2),1);\n",
    "lambda=10;\n",
    "[cost, grad] = costFunctionReg(test_theta, X, y, lambda);\n",
    "\n",
    "fprintf('\\nCost at test theta (with lambda = 10): %f\\n', cost);\n",
    "fprintf('Expected cost (approx): 3.16\\n');\n",
    "fprintf('Gradient at test theta - first five values only:\\n');\n",
    "fprintf(' %f \\n', grad(1:5));\n",
    "fprintf('Expected gradients (approx) - first five values only:\\n');\n",
    "fprintf(' 0.3460\\n 0.1614\\n 0.1948\\n 0.2269\\n 0.0922\\n');"
   ]
  },
  {
   "cell_type": "markdown",
   "metadata": {},
   "source": [
    "__Section 2.4__  \n",
    "- plotting decision boundaries  \n",
    "- examining the effect of lambda's  "
   ]
  },
  {
   "cell_type": "code",
   "execution_count": 13,
   "metadata": {},
   "outputs": [
    {
     "name": "stdout",
     "output_type": "stream",
     "text": [
      "Warning: Your current settings will run a different algorithm ('quasi-newton') in a future release. Either use optimoptions to set options (recommended), or set option Algorithm to 'trust-region' using optimset.\n",
      "> In throwFminuncGradObjandLargeScaleWarning (line 18)\n",
      "  In fminunc (line 170)\n",
      "\n",
      "Solver stopped prematurely.\n",
      "\n",
      "fminunc stopped because it exceeded the iteration limit,\n",
      "options.MaxIterations = 400 (the selected value).\n",
      "\n",
      "Warning: Your current settings will run a different algorithm ('quasi-newton') in a future release. Either use optimoptions to set options (recommended), or set option Algorithm to 'trust-region' using optimset.\n",
      "> In throwFminuncGradObjandLargeScaleWarning (line 18)\n",
      "  In fminunc (line 170)\n",
      "\n",
      "Local minimum possible.\n",
      "\n",
      "fminunc stopped because the final change in function value relative to \n",
      "its initial value is less than the default value of the function tolerance.\n",
      "\n",
      "\n",
      "\n",
      "Warning: Your current settings will run a different algorithm ('quasi-newton') in a future release. Either use optimoptions to set options (recommended), or set option Algorithm to 'trust-region' using optimset.\n",
      "> In throwFminuncGradObjandLargeScaleWarning (line 18)\n",
      "  In fminunc (line 170)\n",
      "\n",
      "Local minimum possible.\n",
      "\n",
      "fminunc stopped because the final change in function value relative to \n",
      "its initial value is less than the default value of the function tolerance.\n",
      "\n",
      "\n",
      "\n",
      "Warning: Your current settings will run a different algorithm ('quasi-newton') in a future release. Either use optimoptions to set options (recommended), or set option Algorithm to 'trust-region' using optimset.\n",
      "> In throwFminuncGradObjandLargeScaleWarning (line 18)\n",
      "  In fminunc (line 170)\n",
      "\n",
      "Local minimum possible.\n",
      "\n",
      "fminunc stopped because the final change in function value relative to \n",
      "its initial value is less than the default value of the function tolerance.\n",
      "\n",
      "\n",
      "\n",
      "\n"
     ]
    }
   ],
   "source": [
    "%  Try the following values of lambda (0, 1, 10, 100).\n",
    "%\n",
    "%  How does the decision boundary change when you vary lambda? How does\n",
    "%  the training set accuracy vary?\n",
    "%\n",
    "\n",
    "% Initialize fitting parameters\n",
    "initial_theta = zeros(size(X, 2), 1);\n",
    "\n",
    "% Set regularization parameter lambda to 1 (you should vary this)\n",
    "lambda_0 = 0;\n",
    "lambda_1 = 1;\n",
    "lambda_10 = 10;\n",
    "lambda_100 = 100;\n",
    "\n",
    "% Set Options\n",
    "options = optimset('GradObj', 'on', 'MaxIter', 400);\n",
    "\n",
    "% Optimize\n",
    "[theta_0, J_0, exit_flag] = ...\n",
    "fminunc(@(t)(costFunctionReg(t, X, y, lambda_0)), initial_theta, options);\n",
    "[theta_1, J_1, exit_flag] = ...\n",
    "fminunc(@(t)(costFunctionReg(t, X, y, lambda_1)), initial_theta, options);\n",
    "[theta_10, J_10, exit_flag] = ...\n",
    "fminunc(@(t)(costFunctionReg(t, X, y, lambda_10)), initial_theta, options);\n",
    "[theta_100, J_100, exit_flag] = ...\n",
    "fminunc(@(t)(costFunctionReg(t, X, y, lambda_100)), initial_theta, options);\n",
    "\n",
    "\n"
   ]
  },
  {
   "cell_type": "code",
   "execution_count": 14,
   "metadata": {},
   "outputs": [
    {
     "name": "stdout",
     "output_type": "stream",
     "text": [
      "Train Accuracy: 87.288136\n",
      "Expected accuracy (with lambda = 1): 83.1 (approx)\n",
      "\n"
     ]
    },
    {
     "data": {
      "image/png": "[encoded data removed]",
      "text/plain": [
       "<IPython.core.display.Image object>"
      ]
     },
     "metadata": {},
     "output_type": "display_data"
    }
   ],
   "source": [
    "% Lambda = 0\n",
    "%            Overfitting scenario\n",
    "\n",
    "plotDecisionBoundary(theta_0, X, y);\n",
    "hold on;\n",
    "title(sprintf('lambda = %g', lambda_0))\n",
    "\n",
    "% Labels and Legend\n",
    "xlabel('Microchip Test 1')\n",
    "ylabel('Microchip Test 2')\n",
    "\n",
    "legend('y = 1', 'y = 0', 'Decision boundary')\n",
    "hold off;\n",
    "\n",
    "% Compute accuracy on our training set\n",
    "p = predict(theta_0, X);\n",
    "\n",
    "fprintf('Train Accuracy: %f\\n', mean(double(p == y)) * 100);\n",
    "fprintf('Expected accuracy (with lambda = 1): 83.1 (approx)\\n');"
   ]
  },
  {
   "cell_type": "code",
   "execution_count": 15,
   "metadata": {},
   "outputs": [
    {
     "name": "stdout",
     "output_type": "stream",
     "text": [
      "Train Accuracy: 83.050847\n",
      "\n"
     ]
    },
    {
     "data": {
      "image/png": "[encoded data removed]",
      "text/plain": [
       "<IPython.core.display.Image object>"
      ]
     },
     "metadata": {},
     "output_type": "display_data"
    }
   ],
   "source": [
    "% Lambda = 1\n",
    "\n",
    "plotDecisionBoundary(theta_1, X, y);\n",
    "hold on;\n",
    "title(sprintf('lambda = %g', lambda_1))\n",
    "\n",
    "% Labels and Legend\n",
    "xlabel('Microchip Test 1')\n",
    "ylabel('Microchip Test 2')\n",
    "\n",
    "legend('y = 1', 'y = 0', 'Decision boundary')\n",
    "hold off;\n",
    "\n",
    "% Compute accuracy on our training set\n",
    "p = predict(theta_1, X);\n",
    "\n",
    "fprintf('Train Accuracy: %f\\n', mean(double(p == y)) * 100);\n"
   ]
  },
  {
   "cell_type": "code",
   "execution_count": 57,
   "metadata": {},
   "outputs": [
    {
     "name": "stdout",
     "output_type": "stream",
     "text": [
      "Train Accuracy: 74.576271\n",
      "\n"
     ]
    },
    {
     "data": {
      "image/png": "[encoded data removed]",
      "text/plain": [
       "<IPython.core.display.Image object>"
      ]
     },
     "metadata": {},
     "output_type": "display_data"
    }
   ],
   "source": [
    "% Lambda = 10\n",
    "\n",
    "plotDecisionBoundary(theta_10, X, y);\n",
    "hold on;\n",
    "title(sprintf('lambda = %g', lambda_10))\n",
    "\n",
    "% Labels and Legend\n",
    "xlabel('Microchip Test 1')\n",
    "ylabel('Microchip Test 2')\n",
    "\n",
    "legend('y = 1', 'y = 0', 'Decision boundary')\n",
    "hold off;\n",
    "\n",
    "% Compute accuracy on our training set\n",
    "p = predict(theta_10, X);\n",
    "\n",
    "fprintf('Train Accuracy: %f\\n', mean(double(p == y)) * 100);\n"
   ]
  },
  {
   "cell_type": "code",
   "execution_count": 60,
   "metadata": {},
   "outputs": [
    {
     "name": "stdout",
     "output_type": "stream",
     "text": [
      "Train Accuracy: 61.016949\n",
      "\n"
     ]
    },
    {
     "data": {
      "image/png": "[encoded data removed]",
      "text/plain": [
       "<IPython.core.display.Image object>"
      ]
     },
     "metadata": {},
     "output_type": "display_data"
    }
   ],
   "source": [
    "% Lambda = 100\n",
    "%              Severly Underfitting the data\n",
    "\n",
    "\n",
    "plotDecisionBoundary(theta_100, X, y);\n",
    "hold on;\n",
    "title(sprintf('lambda = %g', lambda_100))\n",
    "\n",
    "% Labels and Legend\n",
    "xlabel('Microchip Test 1')\n",
    "ylabel('Microchip Test 2')\n",
    "\n",
    "legend('y = 1', 'y = 0', 'Decision boundary')\n",
    "hold off;\n",
    "\n",
    "% Compute accuracy on our training set\n",
    "p = predict(theta_100, X);\n",
    "\n",
    "fprintf('Train Accuracy: %f\\n', mean(double(p == y)) * 100);\n"
   ]
  }
 ],
 "metadata": {
  "kernelspec": {
   "display_name": "Matlab",
   "language": "matlab",
   "name": "matlab"
  },
  "language_info": {
   "codemirror_mode": "octave",
   "file_extension": ".m",
   "help_links": [
    {
     "text": "MetaKernel Magics",
     "url": "https://github.com/calysto/metakernel/blob/master/metakernel/magics/README.md"
    }
   ],
   "mimetype": "text/x-octave",
   "name": "matlab",
   "version": "0.15.1"
  }
 },
 "nbformat": 4,
 "nbformat_minor": 2
}
