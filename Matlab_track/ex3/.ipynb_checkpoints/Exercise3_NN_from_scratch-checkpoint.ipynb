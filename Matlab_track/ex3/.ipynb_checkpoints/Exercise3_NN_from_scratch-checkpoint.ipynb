{
 "cells": [
  {
   "cell_type": "markdown",
   "metadata": {},
   "source": [
    "# Exercise 3  \n",
    "(with Matlab, from scratch)\n",
    "- Going through this exercise, as guided by the course tutorial\n"
   ]
  },
  {
   "cell_type": "markdown",
   "metadata": {},
   "source": [
    "###    Jupyter Configuration Notes  \n",
    "The dataset is pretty big to open for jupyter notebook.  Without any reconfiguration, you might get an error like below:   \n",
    "\n",
    "IOPub data rate exceeded.   \n",
    "The notebook server will temporarily stop sending output  \n",
    "to the client in order to avoid crashing it.   \n",
    "To change this limit, set the config variable   \n",
    "`--NotebookApp.iopub_data_rate_limit`.   \n",
    "  \n",
    "Current values:  \n",
    "NotebookApp.iopub_data_rate_limit=1000000.0 (bytes/sec)  \n",
    "NotebookApp.rate_limit_window=3.0 (secs)  \n",
    "  \n",
    "__The solution__ is found [here](https://stackoverflow.com/questions/43490495/how-to-set-notebookapp-iopub-data-rate-limit-and-others-notebookapp-settings-in)  \n",
    "Basically, when opening jupyter on the terminal, you need to fire it up with the following config:  \n",
    "> jupyter notebook --NotebookApp.iopub_data_rate_limit=10000000000\n",
    "\n"
   ]
  },
  {
   "cell_type": "markdown",
   "metadata": {},
   "source": [
    "### Section 1.   Multi-class Classification\n",
    "  \n",
    "In the first part of the exercise, we will extend previous implementation of logistic regression and apply it to one-vs-all classification.\n"
   ]
  },
  {
   "cell_type": "code",
   "execution_count": 1,
   "metadata": {},
   "outputs": [],
   "source": [
    "%plot inline"
   ]
  },
  {
   "cell_type": "markdown",
   "metadata": {},
   "source": [
    "The original dataset called ex3data1.mat has been converted into __predictors.txt__ and __responses.txt__ for this notebook. This dataset  contains 5000 training examples of handwritten digits.  \n",
    "- There are 5000 training examples in the dataset, where each training example is a 20 pixel by 20 pixel grayscale image of the digit. Each pixel is represented by a floating point number indicating the grayscale intensity at that location. The 20 by 20 grid of pixels is \"unrolled\" into a 400-dimensional vector. \n",
    "- Each of these training examples becomes a single row in our data matrix X. This gives us a 5000 by 400 matrix X where every row is a training example for a handwritten digit image.  \n",
    "- The second part of the training set is a 5000-dimensional vector y that contains labels for the training set."
   ]
  },
  {
   "cell_type": "markdown",
   "metadata": {},
   "source": [
    "__Section 1.1.__ Loading the dataset"
   ]
  },
  {
   "cell_type": "code",
   "execution_count": 3,
   "metadata": {},
   "outputs": [
    {
     "name": "stdout",
     "output_type": "stream",
     "text": [
      "\n"
     ]
    }
   ],
   "source": [
    "% Set some parameters \n",
    "input_layer_size  = 400;  % 20x20 Input Images of Digits\n",
    "num_labels = 10;          % 10 labels, from 1 to 10\n",
    "                          % (note that we have mapped \"0\" to label 10)\n",
    "\n",
    "% Load saved matrices from files\n",
    "% The matrices X and y\n",
    "X = load('./ex3/predictors.txt');\n",
    "y = load('./ex3/responses.txt');"
   ]
  },
  {
   "cell_type": "code",
   "execution_count": 2,
   "metadata": {
    "scrolled": true
   },
   "outputs": [
    {
     "name": "stdout",
     "output_type": "stream",
     "text": [
      "\n",
      "ans =\n",
      "\n",
      "  Columns 1 through 13\n",
      "\n",
      "         0         0         0         0         0         0         0         0         0         0         0         0         0\n",
      "         0         0         0         0         0         0         0         0         0         0         0         0         0\n",
      "         0         0         0         0         0         0         0         0         0         0         0         0         0\n",
      "         0         0         0         0         0         0         0         0         0         0         0         0         0\n",
      "         0         0         0         0         0         0         0         0         0         0         0         0         0\n",
      "\n",
      "  Columns 14 through 26\n",
      "\n",
      "         0         0         0         0         0         0         0         0         0         0         0         0         0\n",
      "         0         0         0         0         0         0         0         0         0         0         0         0         0\n",
      "         0         0         0         0         0         0         0         0         0         0         0         0         0\n",
      "         0         0         0         0         0         0         0         0         0         0         0         0         0\n",
      "         0         0         0         0         0         0         0         0         0         0         0         0         0\n",
      "\n",
      "  Columns 27 through 39\n",
      "\n",
      "         0         0         0         0         0         0         0         0         0         0         0         0         0\n",
      "         0         0         0         0         0         0         0         0         0         0         0         0         0\n",
      "         0         0         0         0         0         0         0         0         0         0         0         0         0\n",
      "         0         0         0         0         0         0         0         0         0         0         0         0         0\n",
      "         0         0         0         0         0    0.0001   -0.0007   -0.0022    0.0002         0         0         0         0\n",
      "\n",
      "  Columns 40 through 52\n",
      "\n",
      "         0         0         0         0         0         0         0         0         0         0         0         0         0\n",
      "         0         0         0         0         0         0         0         0         0         0    0.0003   -0.0009   -0.0254\n",
      "         0         0         0         0         0         0         0         0         0         0         0         0         0\n",
      "         0         0         0         0         0         0         0         0         0         0         0         0         0\n",
      "         0         0         0         0         0         0         0         0         0         0    0.0009   -0.0065   -0.0245\n",
      "\n",
      "  Columns 53 through 65\n",
      "\n",
      "         0         0         0         0         0         0         0         0         0         0         0         0         0\n",
      "   -0.0386   -0.0384   -0.0194    0.0004    0.0001         0         0         0         0         0         0         0         0\n",
      "         0         0         0         0         0         0         0         0         0         0         0         0         0\n",
      "         0         0         0         0         0         0         0         0         0         0         0         0         0\n",
      "   -0.0203   -0.0145   -0.0241   -0.0220   -0.0065    0.0008         0         0         0         0         0         0         0\n",
      "\n",
      "  Columns 66 through 78\n",
      "\n",
      "         0         0    0.0000    0.0000   -0.0007   -0.0081   -0.0186   -0.0187   -0.0188   -0.0191   -0.0164   -0.0038    0.0003\n",
      "         0         0    0.0001   -0.0008   -0.0071   -0.0110    0.1969    0.3209    0.3189    0.1417   -0.0157   -0.0003    0.0000\n",
      "         0         0         0         0         0         0         0         0         0         0         0         0         0\n",
      "         0         0         0    0.0000    0.0001   -0.0011   -0.0043   -0.0036   -0.0048   -0.0037   -0.0035   -0.0000    0.0000\n",
      "    0.0000    0.0001   -0.0007   -0.0082   -0.0353    0.0255    0.1781    0.2322    0.3521    0.1613    0.1644    0.0258   -0.0201\n",
      "\n",
      "  Columns 79 through 91\n",
      "\n",
      "    0.0000         0         0         0         0         0         0         0    0.0001    0.0001   -0.0140   -0.0285    0.0804\n",
      "         0         0         0         0         0         0         0         0    0.0002   -0.0020   -0.0121    0.0056    0.2904\n",
      "         0         0         0         0         0         0         0         0         0         0         0         0    0.0005\n",
      "         0         0         0         0         0         0         0         0         0    0.0003   -0.0025   -0.0149   -0.0130\n",
      "    0.0007         0         0         0         0         0    0.0001   -0.0000   -0.0103   -0.0219    0.0787    0.4126    0.6236\n",
      "\n",
      "  Columns 92 through 104\n",
      "\n",
      "    0.2665    0.2738    0.2787    0.2743    0.2247    0.0278   -0.0071    0.0002         0         0         0         0         0\n",
      "    0.8644    0.9884    0.9855    0.7995    0.1567   -0.0174    0.0005         0         0         0         0         0         0\n",
      "   -0.0052   -0.0155   -0.0162   -0.0162   -0.0161   -0.0057    0.0007         0         0         0         0         0         0\n",
      "    0.0149    0.0071    0.0224    0.0089    0.0070   -0.0136    0.0002    0.0001         0         0         0         0         0\n",
      "    0.8934    0.9077    0.9577    0.8802    0.8525    0.6210    0.1619   -0.0106         0         0         0         0    0.0000\n",
      "\n",
      "  Columns 105 through 117\n",
      "\n",
      "         0    0.0000   -0.0003   -0.0139    0.0816    0.3828    0.8579    1.0011    0.9697    0.9309    1.0038    0.9642    0.4493\n",
      "         0    0.0000   -0.0011   -0.0291    0.2357    0.7925    1.0027    1.0586    0.8762    0.9291    1.0634    0.7318    0.0360\n",
      "         0    0.0000    0.0000   -0.0000   -0.0000    0.0014   -0.0142    0.0024    0.0863    0.0914    0.0916    0.0900    0.0173\n",
      "         0         0    0.0001   -0.0020    0.0007    0.0567    0.2980    0.7452    0.6632    0.8011    0.6871    0.6390    0.0841\n",
      "    0.0004   -0.0079    0.0228    0.3193    0.8856    0.9930    1.0353    0.9732    0.9277    0.9256    0.9381    1.0006    1.0296\n",
      "\n",
      "  Columns 118 through 130\n",
      "\n",
      "   -0.0056   -0.0038         0         0         0         0    0.0000    0.0004   -0.0040   -0.0269    0.1008    0.6420    1.0314\n",
      "   -0.0131    0.0004         0         0         0         0         0    0.0002   -0.0011   -0.0303    0.2229    0.8569    1.0072\n",
      "   -0.0076    0.0004         0         0         0         0         0         0    0.0000    0.0004   -0.0177   -0.0209   -0.0364\n",
      "   -0.0126    0.0000         0         0         0         0         0         0    0.0006   -0.0079   -0.0301    0.2547    0.7308\n",
      "    0.8056   -0.0210         0         0         0         0    0.0002   -0.0176    0.0759    0.6053    0.9282    1.0196    1.0119\n",
      "\n",
      "  Columns 131 through 143\n",
      "\n",
      "    0.8510    0.5431    0.3426    0.2689    0.6684    1.0126    0.9038    0.1045   -0.0166         0         0         0         0\n",
      "    0.4526    0.4226    0.1824    0.2299    0.7637    0.9840    0.4545   -0.0013   -0.0042         0         0         0         0\n",
      "    0.0870    0.5372    0.7533    0.7682    0.7715    0.7766    0.4321   -0.0078   -0.0046         0         0         0         0\n",
      "    0.9001    1.0213    1.0137    1.0168    1.0138    0.9954    0.6829    0.0517   -0.0105         0         0         0         0\n",
      "    0.7105    0.3677    0.2251    0.2369    0.2632    0.8963    1.0226    0.8554   -0.0207         0         0         0         0\n",
      "\n",
      "  Columns 144 through 156\n",
      "\n",
      "    0.0000   -0.0031    0.0075    0.1775    0.7929    0.9656    0.4632    0.0692   -0.0036   -0.0412   -0.0502    0.1561    0.9018\n",
      "    0.0000   -0.0012   -0.0146    0.2278    0.8498    1.0379    0.5896   -0.0463   -0.0531   -0.0239   -0.0655    0.4976    1.0193\n",
      "    0.0000   -0.0002   -0.0050   -0.0297    0.2727    0.5118    0.6258    0.8737    1.0144    1.0245    1.0495    1.0568    1.0223\n",
      "         0         0   -0.0031    0.0276    0.0818    0.6617    1.0482    1.0019    0.9386    0.9331    0.8173    0.9913    0.9935\n",
      "   -0.0011   -0.0202    0.3483    1.0143    1.0204    0.9248    0.5554    0.0650   -0.0178   -0.0322   -0.0320   -0.0457    0.4561\n",
      "\n",
      "  Columns 157 through 169\n",
      "\n",
      "    1.0475    0.1511   -0.0216         0         0         0    0.0001   -0.0006   -0.0323    0.2782    0.9367    1.0432    0.5980\n",
      "    0.9173    0.1070   -0.0170         0         0         0         0   -0.0001   -0.0168    0.1154    0.8066    1.0273    0.7509\n",
      "    0.9826    0.4802   -0.0193         0         0         0    0.0001   -0.0006   -0.0027    0.0088    0.1466    0.9160    1.0203\n",
      "    1.0368    0.1481   -0.0213         0         0         0         0    0.0003   -0.0048   -0.0558    0.4243    0.8243    0.9951\n",
      "    1.0465    0.8498   -0.0207         0         0         0    0.0005   -0.0199    0.2086    0.9062    1.0090    1.0120    0.4187\n",
      "\n",
      "  Columns 170 through 182\n",
      "\n",
      "   -0.0036   -0.0217   -0.0048    0.0001   -0.0124    0.1555    0.9149    0.9204    0.1092   -0.0171         0         0    0.0002\n",
      "    0.1011   -0.0201    0.0001         0   -0.0190    0.2727    0.9735    0.9892    0.1347   -0.0198         0         0         0\n",
      "    1.0105    1.0084    0.9685    0.9497    0.7262    0.6948    0.9771    1.0140    0.8478   -0.0208         0         0         0\n",
      "    1.0009    0.4526    0.2512    0.3559    0.1840    0.8502    1.0186    0.8573    0.0928   -0.0153         0         0    0.0002\n",
      "   -0.0608   -0.0101   -0.0024    0.0003   -0.0004   -0.0325    0.3188    1.0539    0.8498   -0.0207         0         0         0\n",
      "\n",
      "  Columns 183 through 195\n",
      "\n",
      "   -0.0004   -0.0251    0.1305    0.7817    1.0284    0.7571    0.2847    0.0049   -0.0032         0    0.0008   -0.0371    0.4526\n",
      "         0   -0.0009   -0.0272    0.4070    1.0147    0.8122    0.0961    0.0005    0.0000   -0.0000    0.0001   -0.0298    0.4519\n",
      "    0.0011   -0.0149    0.0268    0.6524    0.8597    1.0083    1.0233    0.9898    0.6067    0.2071    0.2145    0.0302    0.3831\n",
      "   -0.0015   -0.0149    0.0434    0.1657    0.6894    1.0515    0.8244    0.6130    0.0124   -0.0253   -0.0433    0.1847    0.8774\n",
      "   -0.0059    0.0198    0.6092    1.0162    1.0112    0.6195    0.0617   -0.0072         0         0         0   -0.0004   -0.0323\n",
      "\n",
      "  Columns 196 through 208\n",
      "\n",
      "    1.0318    0.5390   -0.0024   -0.0048         0         0   -0.0007   -0.0127    0.1617    0.7799    1.0368    0.8045    0.1606\n",
      "    1.0201    0.7173    0.0457   -0.0102         0         0    0.0000    0.0010   -0.0180    0.0824    0.8851    1.0191    0.8775\n",
      "    0.9848    1.0321    0.4705   -0.0213         0         0         0   -0.0210    0.1637    0.6936    0.9970    1.0165    0.8781\n",
      "    1.0398    0.5793    0.0030   -0.0056         0         0   -0.0009    0.0062    0.0146    0.5181    0.9063    0.9685    1.0203\n",
      "    0.3204    1.0542    0.8597   -0.0207         0         0         0   -0.0286    0.2256    0.9139    1.0115    1.0155    0.4489\n",
      "\n",
      "  Columns 209 through 221\n",
      "\n",
      "   -0.0138    0.0021   -0.0002    0.0002   -0.0069    0.0004    0.7207    0.8481    0.1514   -0.0228    0.0002         0         0\n",
      "    0.5057    0.2230   -0.0088   -0.0008    0.0010   -0.0442    0.5571    1.0212    0.4574   -0.0132   -0.0032         0         0\n",
      "    0.6928    0.3373    0.0325   -0.0505   -0.0506    0.3229    0.9106    1.0086    0.8335    0.2159   -0.0148         0         0\n",
      "    0.4679   -0.0368   -0.0022   -0.0012   -0.0295    0.4489    1.0498    0.9137    0.2921   -0.0199   -0.0013         0         0\n",
      "   -0.0209    0.0000         0    0.0000    0.0000   -0.0017   -0.0210    0.5550    1.0439    0.7954   -0.0207         0         0\n",
      "\n",
      "  Columns 222 through 234\n",
      "\n",
      "   -0.0094    0.0375    0.6944    1.0284    1.0165    0.8805    0.3921   -0.0174   -0.0001    0.0001   -0.0022   -0.0276    0.3686\n",
      "    0.0004   -0.0141    0.0548    0.5133    0.9862    1.0038    1.0278    0.8817    0.1757   -0.0202    0.0001   -0.0260    0.1416\n",
      "         0   -0.0515    0.4418    1.0653    0.9888    1.0145    0.2696   -0.0735   -0.0404   -0.0358    0.0780    0.4122    0.9306\n",
      "   -0.0150    0.1039    0.7130    0.8877    1.0049    1.0104    0.7716    0.1407   -0.0338   -0.0144   -0.0358    0.2904    0.8463\n",
      "         0   -0.0510    0.4383    1.0544    0.9909    1.0186    0.7924    0.0496   -0.0132   -0.0060    0.0006   -0.0008   -0.0300\n",
      "\n",
      "  Columns 235 through 247\n",
      "\n",
      "    0.9364    0.4590   -0.0425    0.0012    0.0000         0         0   -0.0194    0.1300    0.9798    0.9419    0.7752    0.8736\n",
      "    0.8072    0.7407    0.0994   -0.0174    0.0002         0         0   -0.0067    0.0228    0.5187    0.9435    0.9506    0.9068\n",
      "    1.0424    0.9339    0.2205   -0.0478    0.0009         0         0         0   -0.0507    0.4358    1.0461    1.0093    0.7000\n",
      "    1.0447    0.7085    0.0317   -0.0088    0.0001         0         0   -0.0180    0.1154    0.9555    1.0274    0.9839    1.0080\n",
      "    0.1879    0.9309    1.0377    0.4213   -0.0211         0         0         0   -0.0497    0.4255    1.0465    0.9914    0.8590\n",
      "\n",
      "  Columns 248 through 260\n",
      "\n",
      "    0.2128   -0.0172         0    0.0011   -0.0262    0.1229    0.8308    0.7265    0.0524   -0.0062         0         0         0\n",
      "    0.8262    0.2593   -0.0081   -0.0021   -0.0170   -0.0199    0.5628    0.9667    0.2692   -0.0292    0.0011         0         0\n",
      "    0.0515    0.0189    0.3647    0.7469    0.8150    0.9901    1.0318    0.6926    0.1913    0.0140   -0.0028         0         0\n",
      "    0.4644    0.1170    0.1408    0.1311    0.2344    0.6145    1.0391    0.8495    0.2050   -0.0248    0.0010         0         0\n",
      "    0.4198   -0.0162    0.0157    0.0112   -0.0350   -0.0379    0.2152    0.8166    0.9994    0.6423    0.0576   -0.0093         0\n",
      "\n",
      "  Columns 261 through 273\n",
      "\n",
      "         0   -0.0094    0.0368    0.6991    1.0029    0.6057    0.3273   -0.0322   -0.0483   -0.0434   -0.0575    0.0956    0.7265\n",
      "         0   -0.0219    0.1527    1.0574    1.0075    0.6907    0.3157    0.2884    0.0517   -0.0385   -0.0365    0.0555    0.5036\n",
      "         0         0   -0.0398    0.3316    0.9876    1.0085    0.8515    0.6773    0.6834    0.9304    1.0247    1.0375    0.7950\n",
      "         0   -0.0039   -0.0078    0.4925    0.8622    0.9962    0.9998    0.8034    0.8458    0.8378    0.8307    1.0477    0.8967\n",
      "         0         0   -0.0502    0.4299    1.0510    0.9919    0.7673    0.5678    0.3140    0.5943    0.5516    0.2192    0.2907\n",
      "\n",
      "  Columns 274 through 286\n",
      "\n",
      "    0.6954    0.1471   -0.0120   -0.0003         0         0         0         0   -0.0007   -0.0065    0.1173    0.4219    0.9932\n",
      "    0.9997    0.4995   -0.0217   -0.0021    0.0001         0         0         0   -0.0093    0.0438    0.6256    0.9987    0.9472\n",
      "    0.5895    0.0874   -0.0343   -0.0034    0.0005         0         0         0         0   -0.0055    0.0198    0.5390    0.9914\n",
      "    0.5336    0.1487   -0.0143   -0.0001         0         0         0         0   -0.0003   -0.0063    0.0826    0.1333    0.5851\n",
      "    0.8341    1.0552    0.7785    0.0526   -0.0187    0.0004         0         0         0   -0.0464    0.3938    1.0352    1.0151\n",
      "\n",
      "  Columns 287 through 299\n",
      "\n",
      "    0.8820    0.7458    0.7239    0.7233    0.7200    0.8453    0.8319    0.0689   -0.0278    0.0004    0.0001         0         0\n",
      "    0.8445    0.8656    0.7601    0.5743    0.5762    0.7587    1.0311    0.6833    0.0816   -0.0106   -0.0002         0         0\n",
      "    0.9968    1.0179    1.0116    0.9980    0.9355    0.6008    0.1156    0.0099   -0.0052    0.0004         0         0         0\n",
      "    0.9798    1.0257    1.0367    1.0293    1.0096    0.5992    0.3662    0.0025   -0.0203    0.0001    0.0001         0         0\n",
      "    1.0345    1.0315    0.9563    1.0279    1.0188    0.9341    0.9511    1.0245    0.9525    0.3160   -0.0320    0.0011         0\n",
      "\n",
      "  Columns 300 through 312\n",
      "\n",
      "         0         0    0.0002    0.0003   -0.0229   -0.0041    0.3870    0.5046    0.7749    0.9900    1.0077    1.0085    0.7379\n",
      "         0         0    0.0004   -0.0199    0.1099    0.6490    0.7755    0.7769    0.7739    0.7708    0.7686    0.7720    0.7835\n",
      "         0         0         0    0.0009   -0.0171    0.1244    0.3265    0.3264    0.3276    0.3254    0.3370    0.2412   -0.0137\n",
      "         0         0    0.0001    0.0007   -0.0131   -0.0305    0.0527    0.2924    0.5668    0.7590    0.8833    0.5269    0.0283\n",
      "         0         0         0   -0.0072    0.0373    0.5406    0.8781    0.8668    0.8677    0.8777    0.8678    0.8708    0.8899\n",
      "\n",
      "  Columns 313 through 325\n",
      "\n",
      "    0.2155   -0.0270    0.0013         0         0         0         0         0         0         0         0    0.0002   -0.0023\n",
      "    0.6107    0.0684   -0.0189    0.0003    0.0000         0         0         0         0    0.0000    0.0004   -0.0081    0.0057\n",
      "   -0.0155   -0.0073   -0.0004    0.0001         0         0         0         0         0         0         0    0.0006   -0.0095\n",
      "   -0.0096   -0.0058    0.0005         0         0         0         0         0         0         0         0    0.0000    0.0005\n",
      "    0.8316    0.5275    0.2841   -0.0125   -0.0008         0         0         0         0         0    0.0006   -0.0090    0.0454\n",
      "\n",
      "  Columns 326 through 338\n",
      "\n",
      "   -0.0252   -0.0374    0.0662    0.2911    0.3231    0.3063    0.0876   -0.0251    0.0002         0         0         0         0\n",
      "    0.0152    0.0140    0.0140    0.0147    0.0157    0.0155    0.0153    0.0025   -0.0082    0.0003    0.0000         0         0\n",
      "   -0.0220   -0.0220   -0.0221   -0.0219   -0.0226   -0.0172   -0.0023   -0.0001    0.0000         0         0         0         0\n",
      "   -0.0058   -0.0215    0.0017    0.0136    0.1841    0.0214   -0.0083   -0.0014    0.0000         0         0         0         0\n",
      "    0.1693    0.1714    0.1708    0.1708    0.1707    0.1713    0.1755    0.1447   -0.0275   -0.0205   -0.0011    0.0002         0\n",
      "\n",
      "  Columns 339 through 351\n",
      "\n",
      "         0         0         0         0         0         0         0    0.0000    0.0007   -0.0113   -0.0355   -0.0388   -0.0371\n",
      "         0         0         0         0    0.0000   -0.0001   -0.0046   -0.0063   -0.0061   -0.0061   -0.0061   -0.0061   -0.0061\n",
      "         0         0         0         0         0         0         0         0         0         0         0         0         0\n",
      "         0         0         0         0         0         0         0    0.0000    0.0001   -0.0038   -0.0061   -0.0242   -0.0055\n",
      "         0         0         0         0         0    0.0005   -0.0081   -0.0226   -0.0228   -0.0227   -0.0227   -0.0227   -0.0228\n",
      "\n",
      "  Columns 352 through 364\n",
      "\n",
      "   -0.0134    0.0010    0.0000         0         0         0         0         0         0         0         0         0         0\n",
      "   -0.0062   -0.0041    0.0001         0         0         0         0         0         0         0         0         0         0\n",
      "         0         0         0         0         0         0         0         0         0         0         0         0         0\n",
      "    0.0004         0         0         0         0         0         0         0         0         0         0         0         0\n",
      "   -0.0232   -0.0198   -0.0006    0.0001         0         0         0         0         0         0         0         0         0\n",
      "\n",
      "  Columns 365 through 377\n",
      "\n",
      "         0         0         0         0         0         0         0         0         0         0         0         0         0\n",
      "         0         0         0         0         0         0         0         0         0         0         0         0         0\n",
      "         0         0         0         0         0         0         0         0         0         0         0         0         0\n",
      "         0         0         0         0         0         0         0         0         0         0         0         0         0\n",
      "         0         0         0         0         0         0         0         0         0         0         0         0         0\n",
      "\n",
      "  Columns 378 through 390\n",
      "\n",
      "         0         0         0         0         0         0         0         0         0         0         0         0         0\n",
      "         0         0         0         0         0         0         0         0         0         0         0         0         0\n",
      "         0         0         0         0         0         0         0         0         0         0         0         0         0\n",
      "         0         0         0         0         0         0         0         0         0         0         0         0         0\n",
      "         0         0         0         0         0         0         0         0         0         0         0         0         0\n",
      "\n",
      "  Columns 391 through 400\n",
      "\n",
      "         0         0         0         0         0         0         0         0         0         0\n",
      "         0         0         0         0         0         0         0         0         0         0\n",
      "         0         0         0         0         0         0         0         0         0         0\n",
      "         0         0         0         0         0         0         0         0         0         0\n",
      "         0         0         0         0         0         0         0         0         0         0\n",
      "\n",
      "\n"
     ]
    }
   ],
   "source": [
    "% check out the first five lines in X \n",
    "\n",
    "X(1:5,:)\n"
   ]
  },
  {
   "cell_type": "code",
   "execution_count": 4,
   "metadata": {
    "scrolled": false
   },
   "outputs": [
    {
     "name": "stdout",
     "output_type": "stream",
     "text": [
      "\n",
      "ans =\n",
      "\n",
      "    10\n",
      "    10\n",
      "    10\n",
      "    10\n",
      "    10\n",
      "\n",
      "\n"
     ]
    }
   ],
   "source": [
    "% check out the first five lines in X \n",
    "\n",
    "y(1:5,:)"
   ]
  },
  {
   "cell_type": "markdown",
   "metadata": {},
   "source": [
    "__Section 1.2.__  Visualizing the Data"
   ]
  },
  {
   "cell_type": "code",
   "execution_count": 5,
   "metadata": {},
   "outputs": [
    {
     "name": "stdout",
     "output_type": "stream",
     "text": [
      "\n"
     ]
    }
   ],
   "source": [
    "% Randomly select 100 data points to display\n",
    "\n",
    "m = size(X, 1);\n",
    "rand_indices = randperm(m);\n",
    "sel = X(rand_indices(1:100), :);"
   ]
  },
  {
   "cell_type": "code",
   "execution_count": 6,
   "metadata": {},
   "outputs": [
    {
     "name": "stdout",
     "output_type": "stream",
     "text": [
      "Warning: MATLAB has disabled some advanced graphics rendering features by switching to software OpenGL. For more information, click <a href=\"matlab:opengl('problems')\">here</a>.\n",
      "\n"
     ]
    },
    {
     "data": {
      "image/png": "[encoded data removed]",
      "text/plain": [
       "<IPython.core.display.Image object>"
      ]
     },
     "metadata": {},
     "output_type": "display_data"
    }
   ],
   "source": [
    "% Use the provided script to display the random 100 datapoints in dataset\n",
    "\n",
    "displayData(sel);"
   ]
  },
  {
   "cell_type": "markdown",
   "metadata": {},
   "source": [
    "__Section 1.3.__ Vectorizing the Logistic Regression"
   ]
  },
  {
   "cell_type": "code",
   "execution_count": null,
   "metadata": {},
   "outputs": [],
   "source": []
  },
  {
   "cell_type": "code",
   "execution_count": null,
   "metadata": {},
   "outputs": [],
   "source": []
  },
  {
   "cell_type": "code",
   "execution_count": null,
   "metadata": {},
   "outputs": [],
   "source": []
  }
 ],
 "metadata": {
  "kernelspec": {
   "display_name": "Matlab",
   "language": "matlab",
   "name": "matlab"
  },
  "language_info": {
   "codemirror_mode": "octave",
   "file_extension": ".m",
   "help_links": [
    {
     "text": "MetaKernel Magics",
     "url": "https://github.com/calysto/metakernel/blob/master/metakernel/magics/README.md"
    }
   ],
   "mimetype": "text/x-octave",
   "name": "matlab",
   "version": "0.15.1"
  }
 },
 "nbformat": 4,
 "nbformat_minor": 2
}
