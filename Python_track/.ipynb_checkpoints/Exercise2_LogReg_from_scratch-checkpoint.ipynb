{
 "cells": [
  {
   "cell_type": "markdown",
   "metadata": {},
   "source": [
    "# Exercise 2\n",
    "(with Python, _from scratch_)\n",
    "\n",
    "---\n",
    "This notebook follows the one in [Matlab_track](https://github.com/jhonsen/machinelearn_NG/tree/master/Matlab_track) which focuses on doing __logistic regression from scratch__, i.e., defining a cost function and applying gradient descent to minimize this function, to arrive at an optimum theta values\n",
    "\n",
    "Another notebook that describes the use of __external library (scikit)__ is also available in the  parent folder [Python track](https://github.com/jhonsen/machinelearn_NG/tree/master/Python_track) \n"
   ]
  },
  {
   "cell_type": "markdown",
   "metadata": {},
   "source": [
    "## Section 1. "
   ]
  },
  {
   "cell_type": "markdown",
   "metadata": {},
   "source": [
    "__Section 1.1__  \n",
    "- Visualizing the data \n",
    "- ex2data1.txt contains 3 columns. 1st is exam1 score, 2nd is exam2 score, and 3rd is admitted/not-assignments"
   ]
  },
  {
   "cell_type": "markdown",
   "metadata": {},
   "source": [
    "Suppose that you are the administrator of a university department and\n",
    "you want to determine each applicant's chance of admission based on their\n",
    "results on two exams. You have historical data from previous applicants\n",
    "that you can use as a training set for logistic regression. For each training example, you have the applicant's scores on two exams and the admissions decision.  \n",
    "Your task is to build a classification model that estimates an applicant's\n",
    "probability of admission based the scores from those two exams.  \n",
    "The workflow in this notebook follows the notebook in [matlabtrack](https://github.com/jhonsen/machinelearn_NG/tree/master/Matlab_track)"
   ]
  },
  {
   "cell_type": "code",
   "execution_count": 534,
   "metadata": {},
   "outputs": [],
   "source": [
    "import numpy as np\n",
    "import seaborn as sns\n",
    "import matplotlib.pyplot as plt\n",
    "\n",
    "%matplotlib inline\n"
   ]
  },
  {
   "cell_type": "markdown",
   "metadata": {},
   "source": [
    "__Import data and check it__"
   ]
  },
  {
   "cell_type": "code",
   "execution_count": 535,
   "metadata": {
    "scrolled": true
   },
   "outputs": [
    {
     "name": "stdout",
     "output_type": "stream",
     "text": [
      "(100, 3)\n"
     ]
    },
    {
     "data": {
      "text/plain": [
       "array([[34.62365962, 78.02469282,  0.        ],\n",
       "       [30.28671077, 43.89499752,  0.        ],\n",
       "       [35.84740877, 72.90219803,  0.        ],\n",
       "       [60.18259939, 86.3085521 ,  1.        ],\n",
       "       [79.03273605, 75.34437644,  1.        ]])"
      ]
     },
     "execution_count": 535,
     "metadata": {},
     "output_type": "execute_result"
    }
   ],
   "source": [
    "data = np.loadtxt('ex2data1.txt',delimiter=',')\n",
    "\n",
    "print(data.shape)\n",
    "data[:5,:]"
   ]
  },
  {
   "cell_type": "code",
   "execution_count": 536,
   "metadata": {},
   "outputs": [
    {
     "data": {
      "text/plain": [
       "((100, 2), (100,))"
      ]
     },
     "execution_count": 536,
     "metadata": {},
     "output_type": "execute_result"
    }
   ],
   "source": [
    "X = data[:,:-1]\n",
    "y = data[:,-1]\n",
    "X.shape,y.shape"
   ]
  },
  {
   "cell_type": "code",
   "execution_count": 537,
   "metadata": {},
   "outputs": [],
   "source": [
    "def plotData(data, label_x, label_y, label_pos, label_neg, axes=None):\n",
    "    # Get indexes for class 0 and class 1\n",
    "    neg = data[:,2] == 0\n",
    "    pos = data[:,2] == 1\n",
    "    \n",
    "    # If no specific axes object has been passed, get the current axes.\n",
    "    if axes == None:\n",
    "        axes = plt.gca()\n",
    "    axes.scatter(data[pos][:,0], data[pos][:,1], marker='+', c='k', s=60, linewidth=2, label=label_pos)\n",
    "    axes.scatter(data[neg][:,0], data[neg][:,1], c='y', s=60, label=label_neg)\n",
    "    axes.set_xlabel(label_x)\n",
    "    axes.set_ylabel(label_y)\n",
    "    axes.legend(frameon= True, fancybox = True);"
   ]
  },
  {
   "cell_type": "code",
   "execution_count": 11,
   "metadata": {},
   "outputs": [],
   "source": [
    "# Define a function to plot dataset\n",
    "\n",
    "def plotdataset(X, y, label_x, label_y, axes = None):\n",
    "    ''' function returns a plot based on columns in X (col-1 vs col-2) \n",
    "    if X is a numpy-matrix with 2 columns,\n",
    "    y is anumpy-vector  \n",
    "    '''\n",
    "    accepted = X[y.flatten()==1]\n",
    "    rejected = X[y.flatten()==0] \n",
    "    \n",
    "    if axes == None:\n",
    "        axes = plt.gca()\n",
    "    axes.plot(accepted[:,0], accepted[:,1], 'k+', label = 'admitted')\n",
    "    axes.plot(rejected[:,0], rejected[:,1], 'yo', label = 'not admitted')\n",
    "    axes.set_xlabel(label_x)\n",
    "    axes.set_ylabel(label_y)\n",
    "    axes.legend()\n",
    "\n"
   ]
  },
  {
   "cell_type": "code",
   "execution_count": 620,
   "metadata": {},
   "outputs": [
    {
     "data": {
      "image/png": "[encoded data removed]",
      "text/plain": [
       "<Figure size 576x432 with 1 Axes>"
      ]
     },
     "metadata": {},
     "output_type": "display_data"
    }
   ],
   "source": [
    "# Plot the dataset\n",
    "\n",
    "plt.figure(figsize=(8,6))\n",
    "plotdataset(X,y,'Exam 1 score', 'Exam 2 score' )"
   ]
  },
  {
   "cell_type": "code",
   "execution_count": 540,
   "metadata": {},
   "outputs": [
    {
     "name": "stdout",
     "output_type": "stream",
     "text": [
      "xlimits are: (30.05882244669796, 99.82785779692128)\n",
      "ylimits are: (30.60326323428011, 98.86943574220611)\n"
     ]
    }
   ],
   "source": [
    "# Original x- and y-limits on the plot\n",
    "minmax_X = X[:,0].min(),X[:,0].max()\n",
    "minmax_Y = X[:,1].min(),X[:,1].max()\n",
    "print('xlimits are:', minmax_X)\n",
    "print('ylimits are:', minmax_Y)"
   ]
  },
  {
   "cell_type": "markdown",
   "metadata": {},
   "source": [
    "__Section 1.2__  \n",
    " - Make a sigmoid function  \n",
    " - Logistic Regression hypthesis function is\n",
    " $$h_\\theta(x) = g(\\theta^T x)$$  \n",
    " where function g is the sigmoid function dfined as  $$g(z) = \\frac{1}{(1+e^{-z})}$$  \n",
    " - So we want to create a sigmoid function where we could compute $h_\\theta(x)$  for any vector, or matrix  \n",
    " - The function is saved in a script called, __sigmoid.m__"
   ]
  },
  {
   "cell_type": "code",
   "execution_count": 20,
   "metadata": {},
   "outputs": [
    {
     "data": {
      "text/plain": [
       "[<matplotlib.lines.Line2D at 0x2018672d518>]"
      ]
     },
     "execution_count": 20,
     "metadata": {},
     "output_type": "execute_result"
    },
    {
     "data": {
      "image/png": "[encoded data removed]",
      "text/plain": [
       "<Figure size 432x288 with 1 Axes>"
      ]
     },
     "metadata": {
      "needs_background": "light"
     },
     "output_type": "display_data"
    }
   ],
   "source": [
    "# Define a sigmoid function\n",
    "def sigmoid(z):\n",
    "    g = 1 / (1 + np.exp(-z))\n",
    "    return g\n",
    "    \n",
    "# visualize this function \n",
    "A = np.linspace(0,5,10)\n",
    "plt.plot(A, sigmoid(A), 'r-')\n"
   ]
  },
  {
   "cell_type": "markdown",
   "metadata": {},
   "source": [
    "__Section 1.2.2.__ Cost function and gradient\n"
   ]
  },
  {
   "cell_type": "markdown",
   "metadata": {},
   "source": [
    "- The cost function for logistic regression is  \n",
    "$$J(\\theta) = \\frac{1}{m} \\sum_{i=1}^{m} [-y^{(i)}log(h_\\theta(x^{(i)})) - (1-y^{(i)})log(1-h_\\theta(x^{(i)}) )] $$  \n",
    "- The gradient of the cost function is a vector   \n",
    "$$\\frac{\\delta J(\\theta)}{\\delta\\theta_j} = \\frac{1}{m} \\sum_{i=1}^{m} (h_\\theta(x^{(i)})-y^{(i)}) x_j^{(i)} $$  \n",
    "   \n",
    "- These equations are explicitly coded in __CostFunction.m__\n",
    "\n",
    "- Apply gradient descent using thetas = [0 0 0], then thetas = [24 0.2 0.2]  \n",
    "\n",
    "  "
   ]
  },
  {
   "cell_type": "code",
   "execution_count": 542,
   "metadata": {},
   "outputs": [
    {
     "data": {
      "text/plain": [
       "(100, 3)"
      ]
     },
     "execution_count": 542,
     "metadata": {},
     "output_type": "execute_result"
    }
   ],
   "source": [
    "# Add intercept to first column of X, and then call it Xt\n",
    "\n",
    "Xt = np.c_[np.ones(X.shape[0]), X]\n",
    "Xt.shape"
   ]
  },
  {
   "cell_type": "code",
   "execution_count": 543,
   "metadata": {},
   "outputs": [
    {
     "data": {
      "text/plain": [
       "(100, 1)"
      ]
     },
     "execution_count": 543,
     "metadata": {},
     "output_type": "execute_result"
    }
   ],
   "source": [
    "y = y[:,np.newaxis]\n",
    "y.shape"
   ]
  },
  {
   "cell_type": "code",
   "execution_count": 544,
   "metadata": {},
   "outputs": [
    {
     "data": {
      "text/plain": [
       "((100, 3), (100, 1))"
      ]
     },
     "execution_count": 544,
     "metadata": {},
     "output_type": "execute_result"
    }
   ],
   "source": [
    "Xt.shape, y.shape"
   ]
  },
  {
   "cell_type": "code",
   "execution_count": 545,
   "metadata": {},
   "outputs": [
    {
     "data": {
      "text/plain": [
       "array([0., 0., 0.])"
      ]
     },
     "execution_count": 545,
     "metadata": {},
     "output_type": "execute_result"
    }
   ],
   "source": [
    "# Initialize fitting parameters, theta\n",
    "\n",
    "# initial_theta = np.zeros((Xt.shape[1], 1))\n",
    "\n",
    "initial_theta = np.zeros(Xt.shape[1])\n",
    "initial_theta"
   ]
  },
  {
   "cell_type": "markdown",
   "metadata": {},
   "source": [
    "- Define the cost function $J(\\theta)$ and the gradient $ \\frac {\\delta J(\\theta)}{\\delta \\theta_j}$ (described above)"
   ]
  },
  {
   "cell_type": "code",
   "execution_count": 546,
   "metadata": {},
   "outputs": [],
   "source": [
    "# define the costFunction and gradient\n",
    "\n",
    "def costfunction(theta, X, y):\n",
    "    ''' funtion returns J (scalar), grad (vector)\n",
    "    \n",
    "    theta = (3x1)-matrix\n",
    "    X = (nx3)-matrix\n",
    "    y = (nx1)-matrix\n",
    "    '''\n",
    "    y = y.reshape(y.shape[0],1)\n",
    "    \n",
    "    m = y.shape[0]\n",
    "    J = (-1/m) * (np.log(sigmoid(X @ theta)).T @ y + (np.log(1 - sigmoid(X @ theta)).T @ (1-y)) ) \n",
    "    \n",
    "    return J\n",
    "    \n",
    "def gradient(theta, X, y):\n",
    "    '''\n",
    "    '''\n",
    "    m = y.shape[0]\n",
    "    y = y.reshape(y.shape[0],1)\n",
    "    \n",
    "    g = (1/m) * (X.T @ (sigmoid(X @ theta.reshape(-1,1)) - y) )\n",
    "    \n",
    "    return g.flatten()\n"
   ]
  },
  {
   "cell_type": "code",
   "execution_count": 547,
   "metadata": {},
   "outputs": [
    {
     "name": "stdout",
     "output_type": "stream",
     "text": [
      "[ -0.1        -12.00921659 -11.26284221] \n",
      " [0.69314718]\n"
     ]
    }
   ],
   "source": [
    "# Try function with initial_theta = 0 0 0\n",
    "\n",
    "cost = costfunction(initial_theta, Xt, y)\n",
    "grad = gradient(initial_theta, Xt, y)\n",
    "print(grad,'\\n', cost)"
   ]
  },
  {
   "cell_type": "markdown",
   "metadata": {},
   "source": [
    "__Use function to compute cost and non-zero gradient__"
   ]
  },
  {
   "cell_type": "code",
   "execution_count": 548,
   "metadata": {},
   "outputs": [
    {
     "data": {
      "text/plain": [
       "array([-24. ,   0.2,   0.2])"
      ]
     },
     "execution_count": 548,
     "metadata": {},
     "output_type": "execute_result"
    }
   ],
   "source": [
    "test_theta = np.array([-24.0, 0.2, 0.2])\n",
    "test_theta"
   ]
  },
  {
   "cell_type": "code",
   "execution_count": 549,
   "metadata": {},
   "outputs": [
    {
     "name": "stdout",
     "output_type": "stream",
     "text": [
      "[0.04290299 2.56623412 2.64679737] \n",
      " [0.21833019]\n"
     ]
    }
   ],
   "source": [
    "cost = costfunction(test_theta, Xt, y)\n",
    "grad =  gradient(test_theta, Xt, y)\n",
    "print(grad,'\\n', cost)"
   ]
  },
  {
   "cell_type": "markdown",
   "metadata": {},
   "source": [
    "### Optimize cost function   \n",
    "- find the minimum of the cost function with parameters theta  "
   ]
  },
  {
   "cell_type": "code",
   "execution_count": 550,
   "metadata": {},
   "outputs": [
    {
     "data": {
      "text/plain": [
       "(array([-25.16113958,   0.20623013,   0.20147006]), 23, 1)"
      ]
     },
     "execution_count": 550,
     "metadata": {},
     "output_type": "execute_result"
    }
   ],
   "source": [
    "import scipy.optimize as opt\n",
    "\n",
    "temp = opt.fmin_tnc(func = costFunction, \n",
    "                    x0 = test_theta.ravel(), fprime = gradient, \n",
    "                    args = (Xt, y))\n",
    "\n",
    "temp"
   ]
  },
  {
   "cell_type": "code",
   "execution_count": 551,
   "metadata": {
    "scrolled": false
   },
   "outputs": [
    {
     "name": "stderr",
     "output_type": "stream",
     "text": [
      "C:\\Users\\Makana\\Anaconda3\\lib\\site-packages\\ipykernel_launcher.py:13: RuntimeWarning: divide by zero encountered in log\n",
      "  del sys.path[0]\n"
     ]
    },
    {
     "data": {
      "text/plain": [
       "      fun: 0.20349770158944375\n",
       " hess_inv: array([[ 3.31474479e+03, -2.63892205e+01, -2.70237122e+01],\n",
       "       [-2.63892205e+01,  2.23869433e-01,  2.02682332e-01],\n",
       "       [-2.70237122e+01,  2.02682332e-01,  2.35335117e-01]])\n",
       "      jac: array([-9.52476822e-09, -9.31921318e-07, -2.82608931e-07])\n",
       "  message: 'Optimization terminated successfully.'\n",
       "     nfev: 31\n",
       "      nit: 23\n",
       "     njev: 31\n",
       "   status: 0\n",
       "  success: True\n",
       "        x: array([-25.16133284,   0.2062317 ,   0.2014716 ])"
      ]
     },
     "execution_count": 551,
     "metadata": {},
     "output_type": "execute_result"
    }
   ],
   "source": [
    "import scipy.optimize as opt\n",
    "\n",
    "result = opt.minimize(costfunction,\n",
    "                     initial_theta,                   \n",
    "                     args = (Xt, y),\n",
    "                     method = None,\n",
    "                     jac = gradient,\n",
    "                     options = {'maxiter':400} \n",
    "                     )\n",
    "result\n",
    "\n"
   ]
  },
  {
   "cell_type": "code",
   "execution_count": 557,
   "metadata": {},
   "outputs": [
    {
     "data": {
      "text/plain": [
       "array([-25.16133284,   0.2062317 ,   0.2014716 ])"
      ]
     },
     "execution_count": 557,
     "metadata": {},
     "output_type": "execute_result"
    }
   ],
   "source": [
    "opt_theta = result.x\n",
    "opt_theta"
   ]
  },
  {
   "cell_type": "markdown",
   "metadata": {},
   "source": [
    "### Make a function to predict Xvalues using optimized theta values"
   ]
  },
  {
   "cell_type": "code",
   "execution_count": 558,
   "metadata": {},
   "outputs": [
    {
     "data": {
      "text/plain": [
       "(1, 3)"
      ]
     },
     "execution_count": 558,
     "metadata": {},
     "output_type": "execute_result"
    }
   ],
   "source": [
    "Xtest = np.array([[1, 45, 85]])\n",
    "Xtest.shape"
   ]
  },
  {
   "cell_type": "code",
   "execution_count": 559,
   "metadata": {},
   "outputs": [],
   "source": [
    "# define a function to predict Xtest\n",
    "\n",
    "def predict(theta, Xtest):\n",
    "    ''' function returns an (n x 1)-matrix \n",
    "    Xtest = a (n x 3)-matrix\n",
    "    theta = a (3 x 1)-matrix\n",
    "    '''\n",
    "    m = Xtest.shape[0]\n",
    "    p = np.zeros((m,1))\n",
    "    \n",
    "    prob = sigmoid(Xtest @ theta)[:,np.newaxis]\n",
    "    \n",
    "    for row in range(0,m):\n",
    "        \n",
    "        if prob[row,0] >= 0.5:\n",
    "            p[row,0] = 1\n",
    "            \n",
    "        else:\n",
    "            p[row,0] = 0\n",
    "            \n",
    "    return p\n",
    "    "
   ]
  },
  {
   "cell_type": "code",
   "execution_count": 560,
   "metadata": {},
   "outputs": [
    {
     "data": {
      "text/plain": [
       "array([[1.]])"
      ]
     },
     "execution_count": 560,
     "metadata": {},
     "output_type": "execute_result"
    }
   ],
   "source": [
    "# Testing function\n",
    "\n",
    "predictedy = predict(opt_theta, Xtest)\n",
    "predictedy"
   ]
  },
  {
   "cell_type": "code",
   "execution_count": 563,
   "metadata": {},
   "outputs": [
    {
     "name": "stdout",
     "output_type": "stream",
     "text": [
      "For a student with scores 45 and 85,\n",
      "we predict an admission probability of 0.776291\n",
      "\n",
      "Expected value: 0.775 +/- 0.002\n",
      "\n",
      "\n",
      "Train Accuracy: 0.600000\n",
      "\n",
      "Expected accuracy (approx): 89.0\n",
      "\n",
      "\n",
      "\n"
     ]
    }
   ],
   "source": [
    "print('For a student with scores 45 and 85,\\nwe predict an admission '\n",
    "         'probability of %f\\n' %(sigmoid(Xtest @ opt_theta)[:,np.newaxis]))\n",
    "print('Expected value: 0.775 +/- 0.002\\n\\n')\n",
    "\n",
    "#  Compute accuracy on our training set\n",
    "print('Train Accuracy: %f\\n' %np.mean(predictedy == y) );\n",
    "print('Expected accuracy (approx): 89.0\\n');\n",
    "print('\\n');"
   ]
  },
  {
   "cell_type": "markdown",
   "metadata": {},
   "source": [
    "### Plot decision boundary"
   ]
  },
  {
   "cell_type": "code",
   "execution_count": 592,
   "metadata": {},
   "outputs": [],
   "source": [
    "# define function to plot\n",
    "\n",
    "def plotboundary(X, y, labelx, labely, theta=opt_theta):\n",
    "    '''function returns a plot \n",
    "    X = an (n x 3)-matrix, with first column containing ones as intercept\n",
    "    '''\n",
    "    xlimval = (X[:,0].min(), X[:,0].max())\n",
    "    ylimval = (X[:,1].min(), X[:,1].max())\n",
    "    # plot the boundary line using contour\n",
    "    # make a grid of x and y values for the contour plot\n",
    "    # The value of 'step' argument in np.arange() determines the pixelation of contour lines\n",
    "    X1, X2 = np.meshgrid(np.arange(xlimval[0]-3, xlimval[1]+3, step= 0.25), \n",
    "                         np.arange(ylimval[0]-3, ylimval[1]+3, step= 0.25))\n",
    "\n",
    "    # Predict the y-values along the boundary line, Z \n",
    "    lenZ = X1.ravel().size\n",
    "    Z = np.array([np.ones(lenZ), X1.ravel(), X2.ravel()]).T      #<<< makes an (n x 3)-matrix\n",
    "    plt.contourf(X1,X2, predict(theta, Z).reshape(X1.shape),\n",
    "                alpha = 0.15, \n",
    "                cmap = 'coolwarm')\n",
    "    \n",
    "    # overlay the plot based on original dataset \n",
    "    plotdataset(X,y, labelx, labely)\n",
    "    \n",
    "    # Apply x- and y-limits of the original dataset\n",
    "    #\n",
    "    plt.xlim(xlimval[0]-3, xlimval[1]+3 )\n",
    "    plt.ylim(ylimval[0]-3, ylimval[1]+3 )\n",
    "    plt.xlabel(labelx)\n",
    "    plt.ylabel(labely)\n",
    "    plt.title('Logistic Regression')\n",
    "\n"
   ]
  },
  {
   "cell_type": "code",
   "execution_count": 593,
   "metadata": {},
   "outputs": [
    {
     "data": {
      "image/png": "[encoded data removed]",
      "text/plain": [
       "<Figure size 576x432 with 1 Axes>"
      ]
     },
     "metadata": {},
     "output_type": "display_data"
    }
   ],
   "source": [
    "plt.figure(figsize=(8,6))\n",
    "plotboundary(Xt[:,1:], y.flatten(), 'Exam score 1', 'Exam score 2', theta= opt_theta)"
   ]
  },
  {
   "cell_type": "markdown",
   "metadata": {},
   "source": [
    "---\n"
   ]
  },
  {
   "cell_type": "markdown",
   "metadata": {},
   "source": [
    "## Section 2. Regularization"
   ]
  },
  {
   "cell_type": "markdown",
   "metadata": {},
   "source": [
    "Suppose you are the product manager of the factory and you have the\n",
    "test results for some microchips on two diferent tests. From these two tests, you would like to determine whether the microchips should be accepted or rejected. To help you make the decision, you have a dataset of test results on past microchips, from which you can build a logistic regression model.  "
   ]
  },
  {
   "cell_type": "code",
   "execution_count": 8,
   "metadata": {},
   "outputs": [
    {
     "data": {
      "text/plain": [
       "(118, 3)"
      ]
     },
     "execution_count": 8,
     "metadata": {},
     "output_type": "execute_result"
    }
   ],
   "source": [
    "# Loading dataset and checking it\n",
    "import numpy as np\n",
    "import matplotlib.pyplot as plt\n",
    "\n",
    "data2 = np.loadtxt('ex2data2.txt', delimiter=',')\n",
    "data2.shape\n"
   ]
  },
  {
   "cell_type": "code",
   "execution_count": 9,
   "metadata": {},
   "outputs": [
    {
     "data": {
      "text/plain": [
       "array([[ 0.051267,  0.69956 ,  1.      ],\n",
       "       [-0.092742,  0.68494 ,  1.      ],\n",
       "       [-0.21371 ,  0.69225 ,  1.      ],\n",
       "       [-0.375   ,  0.50219 ,  1.      ],\n",
       "       [-0.51325 ,  0.46564 ,  1.      ]])"
      ]
     },
     "execution_count": 9,
     "metadata": {},
     "output_type": "execute_result"
    }
   ],
   "source": [
    "data2[:5,:]"
   ]
  },
  {
   "cell_type": "markdown",
   "metadata": {},
   "source": [
    "__Splitting__ X and y and __Plotting original dataset__"
   ]
  },
  {
   "cell_type": "code",
   "execution_count": 12,
   "metadata": {},
   "outputs": [
    {
     "data": {
      "text/plain": [
       "<matplotlib.legend.Legend at 0x20184554f28>"
      ]
     },
     "execution_count": 12,
     "metadata": {},
     "output_type": "execute_result"
    },
    {
     "data": {
      "image/png": "[encoded data removed]",
      "text/plain": [
       "<Figure size 576x432 with 1 Axes>"
      ]
     },
     "metadata": {
      "needs_background": "light"
     },
     "output_type": "display_data"
    }
   ],
   "source": [
    "X2 = data2[:,[0,1]]\n",
    "y2 = data2[:,-1]\n",
    "\n",
    "plt.figure(figsize=(8,6))\n",
    "plotdataset(X2, y2, 'Microchip Test 1', 'Microchip Test 2')\n",
    "plt.legend(['y=1','y=0'])"
   ]
  },
  {
   "cell_type": "markdown",
   "metadata": {},
   "source": [
    "One way to fit the data better is to create more features from each data\n",
    "point.  \n",
    "In the provided function __mapFeature__, we will map the features into\n",
    "all polynomial terms of x1 and x2 up to the sixth power.  \n",
    "$$\\mathbf{mapFeature(x)} = \\left[\\begin{array}\n",
    "{rrr}\n",
    "1  \\\\\n",
    "x_1 \\\\\n",
    "x_2 \\\\\n",
    "x_1^2 \\\\\n",
    "x_1x_2 \\\\\n",
    "x_2^2 \\\\\n",
    "x_1^3 \\\\\n",
    ". \\\\\n",
    ".\\\\\n",
    ".\\\\\n",
    "x_1x_2^5 \\\\\n",
    "x_2^6 \n",
    "\\end{array}\\right]\n",
    "$$  \n",
    "\n",
    "- Hence, our vector is transformed from 2 features to 28 features, which will fit better, (though) also more susceptible to overfitting.   \n"
   ]
  },
  {
   "cell_type": "code",
   "execution_count": 13,
   "metadata": {},
   "outputs": [],
   "source": [
    "# define function to add polynomial terms \n",
    "\n",
    "def mapFeature(X1, X2):\n",
    "    ''' function maps the two features X1 and X2 to 6degrees of quadratic features of themselves\n",
    "    \n",
    "    The output is a (n x 28)-matrix, and the 1st column is all ones (intercept)\n",
    "    '''\n",
    "    deg = 6\n",
    "    out = np.ones((X1.shape[0], 1))\n",
    "        \n",
    "    for i in range(1, deg+1):\n",
    "        for j in range(0,i+1):\n",
    "            out = np.hstack((out, ((X1**(i-j)) * (X2**j))[:,np.newaxis] ))\n",
    "    \n",
    "    return out \n",
    "    \n",
    "    "
   ]
  },
  {
   "cell_type": "code",
   "execution_count": 14,
   "metadata": {},
   "outputs": [
    {
     "data": {
      "text/plain": [
       "(118, 28)"
      ]
     },
     "execution_count": 14,
     "metadata": {},
     "output_type": "execute_result"
    }
   ],
   "source": [
    "# Use the mapFeature function\n",
    "\n",
    "Xpol = mapFeature(X2[:,0], X2[:,1])\n",
    "Xpol.shape\n"
   ]
  },
  {
   "cell_type": "code",
   "execution_count": 15,
   "metadata": {},
   "outputs": [
    {
     "data": {
      "text/plain": [
       "(118, 28)"
      ]
     },
     "execution_count": 15,
     "metadata": {},
     "output_type": "execute_result"
    }
   ],
   "source": [
    "# ALTERNATIVELY, try a module in sklearn library\n",
    "\n",
    "from sklearn.preprocessing import PolynomialFeatures\n",
    "\n",
    "poly = PolynomialFeatures(6)\n",
    "XX = poly.fit_transform(X2)\n",
    "XX.shape\n"
   ]
  },
  {
   "cell_type": "markdown",
   "metadata": {},
   "source": [
    "__Section 2.3__ Cost function and gradient descent  \n",
    "\n",
    "- The regularized cost function  is  \n",
    "$$J(\\theta) = \\frac{1}{m} \\sum_{i=1}^{m} [-y^{(i)}log(h_\\theta(x^{(i)})) - (1-y^{(i)})log(1-h_\\theta(x^{(i)}) )] + \\frac{\\lambda}{2m} \\sum_{j=1}^n \\theta_j^2$$  \n",
    "\n",
    "- The gradient of the cost function is a vector   \n",
    "-\n",
    "for j=0,  \n",
    "$$\\frac{\\delta J(\\theta)}{\\delta\\theta_0} = \\frac{1}{m} \\sum_{i=1}^{m} (h_\\theta(x^{(i)})-y^{(i)}) x_j^{(i)} $$  \n",
    "-\n",
    "for j>=1,  \n",
    "$$\\frac{\\delta J(\\theta)}{\\delta\\theta_0} = ( \\frac{1}{m} \\sum_{i=1}^{m} (h_\\theta(x^{(i)})-y^{(i)}) x_j^{(i)}) + \\frac{\\lambda}{m}\\theta_j$$  \n",
    "-\n",
    "- These equations are explicitly coded in the function below ↓\n",
    "\n",
    "\n"
   ]
  },
  {
   "cell_type": "code",
   "execution_count": 16,
   "metadata": {},
   "outputs": [],
   "source": [
    "# define costFunctionReg and gradientReg\n",
    "\n",
    "def costFunctionReg(theta, X, y, lamd):\n",
    "    m = y.size\n",
    "    h = sigmoid(X.dot(theta))\n",
    "    \n",
    "    J = -1*(1/m)*(np.log(h).T.dot(y)+np.log(1-h).T.dot(1-y)) + (lamd/(2*m))*np.sum(np.square(theta[1:]))\n",
    "               \n",
    "    if np.isnan(J[0]):\n",
    "        return np.inf \n",
    "    return J[0] \n",
    "\n",
    "def gradientReg(theta, X, y, lamd):\n",
    "    m = y.size\n",
    "    h = sigmoid(X.dot(theta.reshape(-1,1)))\n",
    "    \n",
    "    grad = (1/m) * X.T.dot(h-y) + (lamd/m) * np.r_[ [[0]], theta[1:].reshape(-1,1)]\n",
    "\n",
    "    return grad.flatten()"
   ]
  },
  {
   "cell_type": "code",
   "execution_count": 17,
   "metadata": {},
   "outputs": [
    {
     "data": {
      "text/plain": [
       "(28,)"
      ]
     },
     "execution_count": 17,
     "metadata": {},
     "output_type": "execute_result"
    }
   ],
   "source": [
    "initial_theta = np.zeros((XX).shape[1])\n",
    "initial_theta.shape"
   ]
  },
  {
   "cell_type": "code",
   "execution_count": 18,
   "metadata": {},
   "outputs": [],
   "source": [
    "# turn y2 into column vector\n",
    "y2 = y2[:, np.newaxis]"
   ]
  },
  {
   "cell_type": "code",
   "execution_count": 21,
   "metadata": {},
   "outputs": [
    {
     "name": "stdout",
     "output_type": "stream",
     "text": [
      "Cost at initial theta (zeros): 0.693147\n",
      "\n",
      "Expected cost (approx): 0.693\n",
      "\n",
      "Gradient at initial theta (zeros) - first five values only:\n",
      "\n",
      "[[8.47457627e-03]\n",
      " [1.87880932e-02]\n",
      " [7.77711864e-05]\n",
      " [5.03446395e-02]\n",
      " [1.15013308e-02]]  \n",
      "\n",
      "Expected gradients (approx) - first five values only:\n",
      "\n",
      " 0.0085\n",
      " 0.0188\n",
      " 0.0001\n",
      " 0.0503\n",
      " 0.0115\n",
      "\n"
     ]
    }
   ],
   "source": [
    "# \n",
    "\n",
    "lamd = 1\n",
    "cost = costFunctionReg(initial_theta, XX, y2, lamd)\n",
    "grad = gradientReg(initial_theta, XX, y2, lamd)\n",
    "print('Cost at initial theta (zeros): %f\\n' %(cost))\n",
    "print('Expected cost (approx): 0.693\\n')\n",
    "print('Gradient at initial theta (zeros) - first five values only:\\n')\n",
    "print(grad[:5].reshape(-1,1), ' \\n' )\n",
    "print('Expected gradients (approx) - first five values only:\\n')\n",
    "print(' 0.0085\\n 0.0188\\n 0.0001\\n 0.0503\\n 0.0115\\n')"
   ]
  },
  {
   "cell_type": "code",
   "execution_count": 22,
   "metadata": {},
   "outputs": [
    {
     "name": "stdout",
     "output_type": "stream",
     "text": [
      "\n",
      "Cost at test theta (with lambda = 10): 3.164509\n",
      "\n",
      "Expected cost (approx): 3.16\n",
      "\n",
      "Gradient at test theta - first five values only:\n",
      "\n",
      "[[0.34604507]\n",
      " [0.16135192]\n",
      " [0.19479576]\n",
      " [0.22686278]\n",
      " [0.09218568]]  \n",
      "\n",
      "Expected gradients (approx) - first five values only:\n",
      "\n",
      " 0.3460\n",
      " 0.1614\n",
      " 0.1948\n",
      " 0.2269\n",
      " 0.0922\n",
      "\n"
     ]
    }
   ],
   "source": [
    "# Compute and display cost and gradient\n",
    "# % with all-ones theta and lambda = 10\n",
    "\n",
    "test_theta = np.ones((XX).shape[1])\n",
    "lamd = 10\n",
    "\n",
    "cost = costFunctionReg(test_theta, XX, y2, lamd)\n",
    "grad = gradientReg(test_theta, XX,y2, lamd)\n",
    "\n",
    "print('\\nCost at test theta (with lambda = 10): %f\\n'  %cost);\n",
    "print('Expected cost (approx): 3.16\\n');\n",
    "print('Gradient at test theta - first five values only:\\n');\n",
    "print( grad[:5].reshape(-1,1), ' \\n' );\n",
    "print('Expected gradients (approx) - first five values only:\\n');\n",
    "print(' 0.3460\\n 0.1614\\n 0.1948\\n 0.2269\\n 0.0922\\n');"
   ]
  },
  {
   "cell_type": "markdown",
   "metadata": {},
   "source": [
    "__Section 2.4__  \n",
    "- plotting decision boundaries  \n",
    "- examining the effect of lambda's  "
   ]
  },
  {
   "cell_type": "code",
   "execution_count": 700,
   "metadata": {},
   "outputs": [
    {
     "data": {
      "text/plain": [
       "(array([   9.98677897,   11.76973523,    7.16516622, -104.18293009,\n",
       "         -63.95021808,  -29.28414753, -104.77450512, -101.17130373,\n",
       "         -24.09168927,    6.72026561,  388.14923679,  388.22256434,\n",
       "         375.77974294,  172.10481784,   15.84571126,  199.27265424,\n",
       "         326.61356544,  321.97374744,  141.04612252,  -18.57743211,\n",
       "         -21.47354964, -471.7293639 , -673.28230113, -847.51273749,\n",
       "        -639.09206174, -434.62170708, -133.59294772,    5.06151324]), 280, 3)"
      ]
     },
     "execution_count": 700,
     "metadata": {},
     "output_type": "execute_result"
    }
   ],
   "source": [
    "import scipy.optimize as opt\n",
    "\n",
    "lamd = 0\n",
    "temp = opt.fmin_tnc(func = costFunctionReg, \n",
    "                    x0 = initial_theta.ravel(), \n",
    "                    fprime = gradientReg, \n",
    "                    args = (XX, y2, lamd ))\n",
    "\n",
    "temp"
   ]
  },
  {
   "cell_type": "code",
   "execution_count": 25,
   "metadata": {},
   "outputs": [
    {
     "data": {
      "text/plain": [
       "array([   35.10191109,    44.11915704,    69.27188386,  -344.27905423,\n",
       "        -198.23461469,  -184.22840191,  -295.82039545,  -621.73272389,\n",
       "        -510.84934054,  -328.31185314,  1094.70031546,  1269.58585438,\n",
       "        1757.74903756,   900.93787655,   436.58883669,   471.1202957 ,\n",
       "        1236.23863753,  1822.82032594,  1929.66767397,  1131.0532147 ,\n",
       "         463.79931472, -1142.11734197, -2020.95911413, -3463.39975857,\n",
       "       -3484.51062434, -3252.26759951, -1546.00945045,  -510.41271123])"
      ]
     },
     "execution_count": 25,
     "metadata": {},
     "output_type": "execute_result"
    }
   ],
   "source": [
    "lamd=0\n",
    "import scipy.optimize as opt \n",
    "\n",
    "result = opt.minimize(costFunctionReg,\n",
    "                       initial_theta, \n",
    "                       args=(XX, y2, lamd),\n",
    "                       method=None,\n",
    "                       jac=gradientReg,\n",
    "                       options={'maxiter':3000})\n",
    "result.x"
   ]
  },
  {
   "cell_type": "code",
   "execution_count": 701,
   "metadata": {},
   "outputs": [
    {
     "name": "stderr",
     "output_type": "stream",
     "text": [
      "C:\\Users\\Makana\\Anaconda3\\lib\\site-packages\\ipykernel_launcher.py:3: RuntimeWarning: overflow encountered in exp\n",
      "  This is separate from the ipykernel package so we can avoid doing imports until\n"
     ]
    },
    {
     "data": {
      "image/png": "[encoded data removed]",
      "text/plain": [
       "<Figure size 1224x360 with 3 Axes>"
      ]
     },
     "metadata": {},
     "output_type": "display_data"
    }
   ],
   "source": [
    "fig, axes = plt.subplots(1,3, sharey = True, figsize=(17,5))\n",
    "\n",
    "for i, C in enumerate([0, 1, 100]):\n",
    "    # Optimize costFunctionReg\n",
    "    res2 = opt.minimize(costFunctionReg,\n",
    "                       initial_theta, \n",
    "                       args=(XX, y2, C),\n",
    "                       method=None,\n",
    "                       jac=gradientReg,\n",
    "                       options={'maxiter':3000})\n",
    "    # Accuracy\n",
    "    accuracy = np.mean(predict(res2.x, XX) == y2.ravel() )*100    \n",
    "\n",
    "    # Scatter plot of X,y\n",
    "    plotdataset(X2, y2, 'Microchip Test 1','Microchip Test 2', axes = axes[i])\n",
    "    axes.flatten()[i].legend(['y=1','y=0'])\n",
    "    \n",
    "    # Plot decisionboundary\n",
    "    x1_min, x1_max = X2[:,0].min(), X2[:,0].max(),\n",
    "    x2_min, x2_max = X2[:,1].min(), X2[:,1].max(),\n",
    "    xx1, xx2 = np.meshgrid(np.linspace(x1_min, x1_max), np.linspace(x2_min, x2_max))\n",
    "\n",
    "    h = sigmoid(poly.fit_transform(np.c_[xx1.ravel(), xx2.ravel()]).dot(res2.x))\n",
    "    h = h.reshape(xx1.shape)\n",
    "\n",
    "#     axes.flatten()[i].contour(xx1, xx2, h , [0.5], linewidths=1, colors='g');       \n",
    "    axes.flatten()[i].contourf(xx1, xx2, h, \n",
    "                              alpha = 0.15,cmap = 'coolwarm')\n",
    "                                    \n",
    "    axes.flatten()[i].set_title('Train accuracy {}% with Lambda = {}'.format(np.round(accuracy, decimals=2), C))\n"
   ]
  },
  {
   "cell_type": "code",
   "execution_count": 707,
   "metadata": {
    "scrolled": true
   },
   "outputs": [
    {
     "name": "stderr",
     "output_type": "stream",
     "text": [
      "C:\\Users\\Makana\\Anaconda3\\lib\\site-packages\\ipykernel_launcher.py:3: RuntimeWarning: overflow encountered in exp\n",
      "  This is separate from the ipykernel package so we can avoid doing imports until\n"
     ]
    },
    {
     "data": {
      "image/png": "[encoded data removed]",
      "text/plain": [
       "<Figure size 1224x360 with 3 Axes>"
      ]
     },
     "metadata": {},
     "output_type": "display_data"
    }
   ],
   "source": [
    "fig, axes = plt.subplots(1,3, sharey = True, figsize=(17,5))\n",
    "\n",
    "for i, C in enumerate([0, 1, 100]):\n",
    "    # Optimize costFunctionReg\n",
    "    res2 = opt.minimize(costFunctionReg,\n",
    "                       initial_theta, \n",
    "                       args=(XX, y2, C),\n",
    "                       method=None,\n",
    "                       jac=gradientReg,\n",
    "                       options={'maxiter':3000})\n",
    "    # Accuracy\n",
    "    accuracy = np.mean(predict(res2.x, XX) == y2.ravel() )*100    \n",
    "\n",
    "    # Scatter plot of X,y\n",
    "    plotdataset(X2, y2, 'Microchip Test 1','Microchip Test 2', axes = axes[i])\n",
    "    axes.flatten()[i].legend(['y=1','y=0'])\n",
    "    \n",
    "    # Plot decisionboundary\n",
    "    x1_min, x1_max = X2[:,0].min(), X2[:,0].max(),\n",
    "    x2_min, x2_max = X2[:,1].min(), X2[:,1].max(),\n",
    "    xx1, xx2 = np.meshgrid(np.linspace(x1_min, x1_max), np.linspace(x2_min, x2_max))\n",
    "\n",
    "    h = sigmoid(poly.fit_transform(np.c_[xx1.ravel(), xx2.ravel()]).dot(res2.x))\n",
    "    h = h.reshape(xx1.shape)\n",
    "\n",
    "    axes.flatten()[i].contour(xx1, xx2, h , [0.5], linewidths=1, colors='g');       \n",
    "#     axes.flatten()[i].contourf(xx1, xx2, h, \n",
    "#                               alpha = 0.15,cmap = 'coolwarm')\n",
    "                                    \n",
    "    axes.flatten()[i].set_title('Train accuracy {}% with Lambda = {}'.format(np.round(accuracy, decimals=2), C))\n"
   ]
  },
  {
   "cell_type": "markdown",
   "metadata": {},
   "source": [
    "__To do:__    \n",
    "[ ] Train accuracy is off  "
   ]
  }
 ],
 "metadata": {
  "kernelspec": {
   "display_name": "Python 3",
   "language": "python",
   "name": "python3"
  },
  "language_info": {
   "codemirror_mode": {
    "name": "ipython",
    "version": 3
   },
   "file_extension": ".py",
   "mimetype": "text/x-python",
   "name": "python",
   "nbconvert_exporter": "python",
   "pygments_lexer": "ipython3",
   "version": "3.5.6"
  }
 },
 "nbformat": 4,
 "nbformat_minor": 2
}
