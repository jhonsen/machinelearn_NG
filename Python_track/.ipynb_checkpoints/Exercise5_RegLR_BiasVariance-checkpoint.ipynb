{
 "cells": [
  {
   "cell_type": "markdown",
   "metadata": {},
   "source": [
    "## Exercise 5. Regularization of Linear Regression and Bias-Variance Trade-off\n",
    "(with Python, _from scratch_)\n",
    "\n",
    "---\n",
    "This notebook follows the one in [Matlab_track](https://github.com/jhonsen/machinelearn_NG/tree/master/Matlab_track) which focuses on doing __Regularization on a linear regression model__, i.e., defining cost regularized function and plotting training and validation errors\n"
   ]
  },
  {
   "cell_type": "markdown",
   "metadata": {},
   "source": [
    "#### To do list:\n",
    "- [ ] The minimization didn't reach convergence. So, the polynomial model isn't fitting well with the dataset."
   ]
  },
  {
   "cell_type": "markdown",
   "metadata": {},
   "source": [
    "---"
   ]
  },
  {
   "cell_type": "markdown",
   "metadata": {},
   "source": [
    "### Section 1.1. Visualizing the dataset\n",
    "This dataset is divided into three parts:  \n",
    "- A training set that your model will learn on: X, y\n",
    "- A cross validation set for determining the regularization parameter:\n",
    "Xval, yval\n",
    "- A test set for evaluating performance. These are \"unseen\" examples\n",
    "which your model did not see during training: Xtest, ytest"
   ]
  },
  {
   "cell_type": "code",
   "execution_count": 45,
   "metadata": {},
   "outputs": [],
   "source": [
    "import numpy as np\n",
    "import matplotlib.pyplot as plt\n",
    "import pandas as pd\n",
    "%matplotlib inline\n",
    "\n",
    "from yellowbrick.model_selection import LearningCurve\n",
    "from sklearn.linear_model import LinearRegression\n",
    "from scipy.io import loadmat\n",
    "from scipy.optimize import fmin_cg\n",
    "from scipy.optimize import minimize\n",
    "from sklearn.preprocessing import PolynomialFeatures\n",
    "from sklearn.linear_model import LinearRegression"
   ]
  },
  {
   "cell_type": "code",
   "execution_count": 46,
   "metadata": {},
   "outputs": [
    {
     "data": {
      "text/plain": [
       "dict_keys(['__header__', '__version__', '__globals__', 'X', 'y', 'Xtest', 'ytest', 'Xval', 'yval'])"
      ]
     },
     "execution_count": 46,
     "metadata": {},
     "output_type": "execute_result"
    }
   ],
   "source": [
    "data = loadmat('../Matlab_track/ex5/ex5data1.mat')\n",
    "data.keys()"
   ]
  },
  {
   "cell_type": "code",
   "execution_count": 47,
   "metadata": {},
   "outputs": [
    {
     "name": "stdout",
     "output_type": "stream",
     "text": [
      "X: (12, 1)\n",
      "y: (12, 1)\n",
      "Xval: (21, 1)\n",
      "yval: (21, 1)\n",
      "Xtest: (21, 1)\n",
      "ytest: (21, 1)\n"
     ]
    }
   ],
   "source": [
    "y = data['y']\n",
    "X = data['X']\n",
    "\n",
    "y_val = data['yval']\n",
    "X_val = data['Xval']\n",
    "\n",
    "X_test = data['Xtest']\n",
    "y_test = data['ytest']\n",
    "\n",
    "print('X:', X.shape)\n",
    "print('y:', y.shape)\n",
    "print('Xval:', X_val.shape)\n",
    "print('yval:', y_val.shape)\n",
    "print('Xtest:' , X_test.shape)\n",
    "print('ytest:', y_test.shape)"
   ]
  },
  {
   "cell_type": "code",
   "execution_count": 48,
   "metadata": {},
   "outputs": [
    {
     "data": {
      "image/png": "[encoded data removed]",
      "text/plain": [
       "<Figure size 432x288 with 1 Axes>"
      ]
     },
     "metadata": {
      "needs_background": "light"
     },
     "output_type": "display_data"
    }
   ],
   "source": [
    "plt.figure()\n",
    "plt.plot(X, y,'r.',markersize=10, linewidth=1.5)\n",
    "plt.xlabel('Change in water level (x)')\n",
    "plt.ylabel('Water flowing out of the dam (y)')\n",
    "plt.show()"
   ]
  },
  {
   "cell_type": "markdown",
   "metadata": {},
   "source": [
    "### Section 1.2. Regularized linear regression cost function\n",
    "\n",
    "Recall that the cost function and gradient are:  \n",
    "  \n",
    "  \n",
    "- [x] Write the cost function and partial derivative for $\\theta$, define __linearRegCostFunction__"
   ]
  },
  {
   "cell_type": "code",
   "execution_count": 86,
   "metadata": {},
   "outputs": [],
   "source": [
    "def linearRegCostFunction(theta, X,y,lamd):\n",
    "    m = X.shape[0]\n",
    "    \n",
    "    # hypothesis function\n",
    "    h = X.dot(theta)        #<-- size: (12x2).(2x1)= (12x1)\n",
    "    \n",
    "    # cost function\n",
    "    J = (1/(2*m)) * np.sum(np.square(h-y)) #<-- sum(--12x1)--) is scalar\n",
    "    \n",
    "    # Apply Regularization\n",
    "    J = J + (lamd/(2*m)) * np.sum( np.square(theta[1:]) )  #<-- scalar + scalar\n",
    "\n",
    "    return J"
   ]
  },
  {
   "cell_type": "code",
   "execution_count": 87,
   "metadata": {},
   "outputs": [],
   "source": [
    "def gradRegCostFunction(theta,X,y, lamd):\n",
    "    m = X.shape[0]\n",
    "    \n",
    "    # hypothesis function\n",
    "    h = X.dot(theta).reshape(-1,1)        #<-- size: (12x2).(2x1)= (12x1)\n",
    "    \n",
    "    # derivative\n",
    "    grad = (1/m) * X.T @ (h-y)    #<-- grad is  (2x12).(12x1) = (2x1)\n",
    "    \n",
    "    grad = grad + (lamd/m)*np.r_[[[0]],theta[1:].reshape(-1,1)]  #<-- (2x1) + scalar x (2x1)\n",
    "    \n",
    "    return grad.flatten()"
   ]
  },
  {
   "cell_type": "code",
   "execution_count": 51,
   "metadata": {},
   "outputs": [
    {
     "name": "stdout",
     "output_type": "stream",
     "text": [
      "Cost at theta = [1 ; 1]: 303.9931922202643 (which should be about 303.993192)\n",
      "\n",
      "Gradient at theta = [1; 1] is:\n",
      "[-15.30301567 598.25074417] \n",
      "(which should be about\n",
      "[-15.303016; 598.250744])\n",
      "\n"
     ]
    }
   ],
   "source": [
    "# Calculate cost function and gradient\n",
    "theta = np.array([[1],[1]])\n",
    "J = linearRegCostFunction(theta, np.c_[np.ones_like(X), X], y, 1)\n",
    "grad = gradRegCostFunction(theta, np.c_[np.ones_like(X), X], y, 1)\n",
    "print('Cost at theta = [1 ; 1]: %s (which should be about 303.993192)\\n' %J)\n",
    "print('Gradient at theta = [1; 1] is:\\n%s \\n(which should be about\\n[-15.303016; 598.250744])\\n' %(grad))"
   ]
  },
  {
   "cell_type": "markdown",
   "metadata": {},
   "source": [
    "### Section 1.3. Fitting Linear Regression  \n",
    "In this part, we set regularization parameter $\\theta$ to zero. Because our current implementation of linear regression is trying to fit a 2-dimensional $\\theta$, regularization will not be incredibly helpful for a $\\theta$ of such low dimension.  \n",
    "The best fit line tells us that the model is not a good fit to the data because the data has a non-linear pattern. While visualizing the best fit as shown is one possible way to debug your learning algorithm, it is not always easy to visualize the data and model.  \n",
    "- [x] Training LR model on the dataset using function __trainLinearReg__, which finds theta parameters\n",
    "- [x] Plot the best fit line on the dataset "
   ]
  },
  {
   "cell_type": "markdown",
   "metadata": {},
   "source": [
    "#### Try scipy's optimize.minimize module"
   ]
  },
  {
   "cell_type": "code",
   "execution_count": 91,
   "metadata": {},
   "outputs": [],
   "source": [
    "def trainLinearReg(X, y, reg):\n",
    "#     initial_theta = np.array( [[1],[1]] )\n",
    "    initial_theta = (np.ones((X.shape[1],1))*15)\n",
    "    # For some reason the minimize() function does not converge when using\n",
    "    # zeros as initial theta.\n",
    "        \n",
    "    res = minimize(linearRegCostFunction, initial_theta, args=(X,y,reg), method=None, jac=gradRegCostFunction,\n",
    "                   options={'maxiter':5000})\n",
    "    \n",
    "    return(res)"
   ]
  },
  {
   "cell_type": "code",
   "execution_count": 92,
   "metadata": {},
   "outputs": [
    {
     "name": "stdout",
     "output_type": "stream",
     "text": [
      "      fun: 1604.4002999186634\n",
      " hess_inv: array([[1.03142187, 0.00617881],\n",
      "       [0.00617881, 0.001215  ]])\n",
      "      jac: array([ 3.42437788e-12, -5.70374113e-10])\n",
      "  message: 'Optimization terminated successfully.'\n",
      "     nfev: 6\n",
      "      nit: 4\n",
      "     njev: 6\n",
      "   status: 0\n",
      "  success: True\n",
      "        x: array([13.08790351,  0.36777923])\n"
     ]
    }
   ],
   "source": [
    "fit = trainLinearReg(np.c_[np.ones_like(X), X], y, 0)\n",
    "print(fit)"
   ]
  },
  {
   "cell_type": "markdown",
   "metadata": {},
   "source": [
    "#### Try scipy's optimize.fmin_cg module, to follow the method in [MATLAB](https://github.com/jhonsen/machinelearn_NG/tree/master/Matlab_track)  track\n"
   ]
  },
  {
   "cell_type": "code",
   "execution_count": 93,
   "metadata": {},
   "outputs": [],
   "source": [
    "def trainLinearReg(X, y, lamda):\n",
    "    \n",
    "    #initial_theta = np.asarray([[0],[0]])\n",
    "    #For some reason the minimize() function does not converge when using\n",
    "    # zeros as initial theta.\n",
    "    \n",
    "#     initial_theta = np.array([[15],[15]])\n",
    "    initial_theta = (np.ones((X.shape[1],1))*15)\n",
    "    \n",
    "    res = fmin_cg(f=linearRegCostFunction, \n",
    "                        x0=initial_theta, \n",
    "                      args =( X, y, lamda),   \n",
    "                      fprime=gradRegCostFunction,\n",
    "                         maxiter=5000)\n",
    "              \n",
    "    return res"
   ]
  },
  {
   "cell_type": "code",
   "execution_count": 94,
   "metadata": {},
   "outputs": [
    {
     "name": "stdout",
     "output_type": "stream",
     "text": [
      "Warning: Desired error not necessarily achieved due to precision loss.\n",
      "         Current function value: 1604.438977\n",
      "         Iterations: 4\n",
      "         Function evaluations: 21\n",
      "         Gradient evaluations: 10\n"
     ]
    },
    {
     "data": {
      "text/plain": [
       "array([13.08975938,  0.36778987])"
      ]
     },
     "execution_count": 94,
     "metadata": {},
     "output_type": "execute_result"
    }
   ],
   "source": [
    "lamda = 0\n",
    "theta_opt = trainLinearReg(np.c_[np.ones_like(X), X], y, lamda)\n",
    "theta_opt"
   ]
  },
  {
   "cell_type": "code",
   "execution_count": 95,
   "metadata": {},
   "outputs": [
    {
     "data": {
      "text/plain": [
       "array([ 7.22838115,  2.36758888, 26.39990884, 26.87900617, -4.58579136,\n",
       "        9.80118171, 18.71981057,  0.32514632, 13.60067629, -3.23413798,\n",
       "       15.66925442, 21.4616679 ])"
      ]
     },
     "execution_count": 95,
     "metadata": {},
     "output_type": "execute_result"
    }
   ],
   "source": [
    "# Calculate best fit values (line)\n",
    "fitJ = np.c_[np.ones_like(X), X] @ theta_opt\n",
    "fitJ"
   ]
  },
  {
   "cell_type": "markdown",
   "metadata": {},
   "source": [
    "### Visualize dataset with the best fit line"
   ]
  },
  {
   "cell_type": "code",
   "execution_count": 96,
   "metadata": {},
   "outputs": [
    {
     "data": {
      "image/png": "[encoded data removed]",
      "text/plain": [
       "<Figure size 432x288 with 1 Axes>"
      ]
     },
     "metadata": {
      "needs_background": "light"
     },
     "output_type": "display_data"
    }
   ],
   "source": [
    "plt.figure()\n",
    "plt.plot(X,y, 'r.',markersize=10, linewidth=1.5)\n",
    "plt.xlabel('Change in water level (x)')\n",
    "plt.ylabel('Water flowing out of the dam (y)')\n",
    "\n",
    "plt.plot(X, fitJ, '--', linewidth=2)\n",
    "\n",
    "plt.show()\n"
   ]
  },
  {
   "cell_type": "markdown",
   "metadata": {},
   "source": [
    "### Section 2. Bias-Variance  \n",
    "Models with high bias are not complex enough for the data and tend to underfit, while models with high variance overfit to the training data.  "
   ]
  },
  {
   "cell_type": "markdown",
   "metadata": {},
   "source": [
    "### Section 2.1. Learning Curves\n",
    "You will now implement code to generate the learning curves that will be useful in debugging learning algorithms. Recall that a learning curve plots training and cross validation error as a function of training set size. \n",
    "- [x] Define __learningCurve__, which returns a vector of errors for the training set and cross validation set.  \n",
    "- [x] Split X into training and cross-validation sets \n",
    "- [x] Find theta parameters using __trainLinearReg__ \n",
    "- [x] Compute error on the training and cross validation sets, by defining __linearRegCostFunction__ with lambda =0 (no regularization). Then, Store them into _errortrain_ and _errorval_\n",
    "- [x] plot the learning curve, using training- and cross-validation set errors.  \n"
   ]
  },
  {
   "cell_type": "code",
   "execution_count": 97,
   "metadata": {},
   "outputs": [],
   "source": [
    "def learningCurve(X, y, Xval, yval, lamda):\n",
    "    m = X.shape[0]\n",
    "    \n",
    "    error_train = np.zeros((m,1))\n",
    "    error_val = np.zeros((m,1))\n",
    "    \n",
    "    for i in range(m):\n",
    "        X_sub = X[:i+1, :]\n",
    "        y_sub = y[:i+1]\n",
    "        \n",
    "        theta = trainLinearReg(X_sub, y_sub, lamda)\n",
    "        \n",
    "        error_train[i] = linearRegCostFunction(theta, X_sub, y_sub,0)\n",
    "        error_val[i] = linearRegCostFunction(theta, Xval, yval,0)               \n",
    "   \n",
    "    return error_train, error_val"
   ]
  },
  {
   "cell_type": "code",
   "execution_count": 98,
   "metadata": {},
   "outputs": [
    {
     "name": "stdout",
     "output_type": "stream",
     "text": [
      "Optimization terminated successfully.\n",
      "         Current function value: 0.000000\n",
      "         Iterations: 1\n",
      "         Function evaluations: 4\n",
      "         Gradient evaluations: 4\n",
      "Optimization terminated successfully.\n",
      "         Current function value: 0.461812\n",
      "         Iterations: 2\n",
      "         Function evaluations: 7\n",
      "         Gradient evaluations: 7\n",
      "Optimization terminated successfully.\n",
      "         Current function value: 703.694232\n",
      "         Iterations: 5\n",
      "         Function evaluations: 9\n",
      "         Gradient evaluations: 9\n",
      "Warning: Desired error not necessarily achieved due to precision loss.\n",
      "         Current function value: 1140.492066\n",
      "         Iterations: 1\n",
      "         Function evaluations: 96\n",
      "         Gradient evaluations: 84\n",
      "Warning: Desired error not necessarily achieved due to precision loss.\n",
      "         Current function value: 1282.995119\n",
      "         Iterations: 1\n",
      "         Function evaluations: 54\n",
      "         Gradient evaluations: 43\n",
      "Warning: Desired error not necessarily achieved due to precision loss.\n",
      "         Current function value: 1383.631241\n",
      "         Iterations: 1\n",
      "         Function evaluations: 90\n",
      "         Gradient evaluations: 78\n",
      "Optimization terminated successfully.\n",
      "         Current function value: 1365.425393\n",
      "         Iterations: 5\n",
      "         Function evaluations: 9\n",
      "         Gradient evaluations: 9\n",
      "Optimization terminated successfully.\n",
      "         Current function value: 1463.456498\n",
      "         Iterations: 5\n",
      "         Function evaluations: 10\n",
      "         Gradient evaluations: 10\n",
      "Warning: Desired error not necessarily achieved due to precision loss.\n",
      "         Current function value: 1467.431366\n",
      "         Iterations: 4\n",
      "         Function evaluations: 21\n",
      "         Gradient evaluations: 10\n",
      "Optimization terminated successfully.\n",
      "         Current function value: 1488.020294\n",
      "         Iterations: 5\n",
      "         Function evaluations: 10\n",
      "         Gradient evaluations: 10\n",
      "Warning: Desired error not necessarily achieved due to precision loss.\n",
      "         Current function value: 1460.505538\n",
      "         Iterations: 4\n",
      "         Function evaluations: 21\n",
      "         Gradient evaluations: 10\n",
      "Warning: Desired error not necessarily achieved due to precision loss.\n",
      "         Current function value: 1604.438977\n",
      "         Iterations: 4\n",
      "         Function evaluations: 21\n",
      "         Gradient evaluations: 10\n"
     ]
    }
   ],
   "source": [
    "lamd = 0\n",
    "error_train, error_val = learningCurve(np.c_[np.ones_like(X),X], y,\n",
    "                                      np.c_[np.ones_like(X_val), X_val],\n",
    "                                       y_val,\n",
    "                                       lamd)"
   ]
  },
  {
   "cell_type": "code",
   "execution_count": 99,
   "metadata": {},
   "outputs": [
    {
     "data": {
      "image/png": "[encoded data removed]",
      "text/plain": [
       "<Figure size 432x288 with 1 Axes>"
      ]
     },
     "metadata": {
      "needs_background": "light"
     },
     "output_type": "display_data"
    }
   ],
   "source": [
    "# Plot learning curves\n",
    "plt.figure()\n",
    "plt.plot(range(X.shape[0]), error_train, label='Train')\n",
    "plt.plot(range(X.shape[0]), error_val, label='Validation')\n",
    "plt.title('Learning curve for linear regression')\n",
    "plt.xlabel('Number of training examples')\n",
    "plt.ylabel('Error')\n",
    "\n",
    "plt.legend()\n",
    "plt.show()"
   ]
  },
  {
   "cell_type": "code",
   "execution_count": 100,
   "metadata": {},
   "outputs": [
    {
     "name": "stderr",
     "output_type": "stream",
     "text": [
      "/anaconda3/envs/temp/lib/python3.6/site-packages/sklearn/model_selection/_split.py:2053: FutureWarning: You should specify a value for 'cv' instead of relying on the default value. The default value will change from 3 to 5 in version 0.22.\n",
      "  warnings.warn(CV_WARNING, FutureWarning)\n"
     ]
    },
    {
     "data": {
      "image/png": "[encoded data removed]",
      "text/plain": [
       "<Figure size 432x288 with 1 Axes>"
      ]
     },
     "metadata": {
      "needs_background": "light"
     },
     "output_type": "display_data"
    }
   ],
   "source": [
    "viz = LearningCurve(LinearRegression(),  scoring='r2')\n",
    "viz.fit(X, y)\n",
    "viz.poof()"
   ]
  },
  {
   "cell_type": "code",
   "execution_count": 62,
   "metadata": {},
   "outputs": [
    {
     "data": {
      "text/html": [
       "<div>\n",
       "<style scoped>\n",
       "    .dataframe tbody tr th:only-of-type {\n",
       "        vertical-align: middle;\n",
       "    }\n",
       "\n",
       "    .dataframe tbody tr th {\n",
       "        vertical-align: top;\n",
       "    }\n",
       "\n",
       "    .dataframe thead th {\n",
       "        text-align: right;\n",
       "    }\n",
       "</style>\n",
       "<table border=\"1\" class=\"dataframe\">\n",
       "  <thead>\n",
       "    <tr style=\"text-align: right;\">\n",
       "      <th></th>\n",
       "      <th>Training_error</th>\n",
       "      <th>Validation_error</th>\n",
       "    </tr>\n",
       "  </thead>\n",
       "  <tbody>\n",
       "    <tr>\n",
       "      <th>0</th>\n",
       "      <td>6.037806e-24</td>\n",
       "      <td>8535.691205</td>\n",
       "    </tr>\n",
       "    <tr>\n",
       "      <th>1</th>\n",
       "      <td>4.618122e-01</td>\n",
       "      <td>2778.992416</td>\n",
       "    </tr>\n",
       "    <tr>\n",
       "      <th>2</th>\n",
       "      <td>7.036942e+02</td>\n",
       "      <td>4375.516616</td>\n",
       "    </tr>\n",
       "    <tr>\n",
       "      <th>3</th>\n",
       "      <td>1.140492e+03</td>\n",
       "      <td>4554.546297</td>\n",
       "    </tr>\n",
       "    <tr>\n",
       "      <th>4</th>\n",
       "      <td>1.282995e+03</td>\n",
       "      <td>3497.989746</td>\n",
       "    </tr>\n",
       "    <tr>\n",
       "      <th>5</th>\n",
       "      <td>1.383631e+03</td>\n",
       "      <td>3605.047588</td>\n",
       "    </tr>\n",
       "    <tr>\n",
       "      <th>6</th>\n",
       "      <td>1.365425e+03</td>\n",
       "      <td>3450.749266</td>\n",
       "    </tr>\n",
       "    <tr>\n",
       "      <th>7</th>\n",
       "      <td>1.463456e+03</td>\n",
       "      <td>3340.370767</td>\n",
       "    </tr>\n",
       "    <tr>\n",
       "      <th>8</th>\n",
       "      <td>1.467431e+03</td>\n",
       "      <td>3281.661817</td>\n",
       "    </tr>\n",
       "    <tr>\n",
       "      <th>9</th>\n",
       "      <td>1.488020e+03</td>\n",
       "      <td>3011.568950</td>\n",
       "    </tr>\n",
       "    <tr>\n",
       "      <th>10</th>\n",
       "      <td>1.460506e+03</td>\n",
       "      <td>2933.224016</td>\n",
       "    </tr>\n",
       "    <tr>\n",
       "      <th>11</th>\n",
       "      <td>1.604439e+03</td>\n",
       "      <td>2958.216787</td>\n",
       "    </tr>\n",
       "  </tbody>\n",
       "</table>\n",
       "</div>"
      ],
      "text/plain": [
       "    Training_error  Validation_error\n",
       "0     6.037806e-24       8535.691205\n",
       "1     4.618122e-01       2778.992416\n",
       "2     7.036942e+02       4375.516616\n",
       "3     1.140492e+03       4554.546297\n",
       "4     1.282995e+03       3497.989746\n",
       "5     1.383631e+03       3605.047588\n",
       "6     1.365425e+03       3450.749266\n",
       "7     1.463456e+03       3340.370767\n",
       "8     1.467431e+03       3281.661817\n",
       "9     1.488020e+03       3011.568950\n",
       "10    1.460506e+03       2933.224016\n",
       "11    1.604439e+03       2958.216787"
      ]
     },
     "execution_count": 62,
     "metadata": {},
     "output_type": "execute_result"
    }
   ],
   "source": [
    "# Print out training and validation errors\n",
    "pd.DataFrame(np.c_[error_train, error_val], columns=['Training_error','Validation_error'])"
   ]
  },
  {
   "cell_type": "markdown",
   "metadata": {},
   "source": [
    "### Section 3. Polynomial Regression  \n",
    "For use of polynomial Regression, the hypothesis has the form: \n",
    "$$h_\\theta(x) = \\theta_0 + \\theta_1*(waterLevel) + \\theta_2*(waterLevel)^2 + ... + \\theta_p*(waterLevel)^p$$\n",
    "$$h_\\theta(x) = \\theta_0 + \\theta_1x_1 + \\theta_2x_2 + ... + \\theta_px_p$$\n"
   ]
  },
  {
   "cell_type": "markdown",
   "metadata": {},
   "source": [
    "Notice that by defining x1 = (waterLevel); x2 = (waterLevel)2; ...; xp =(waterLevel)p, we obtain a linear regression model where the features are the various powers of the original value (waterLevel).\n",
    "- [x] Complete the code in __polyFeatures__, so that the function maps original X (mx1) into its higher power"
   ]
  },
  {
   "cell_type": "code",
   "execution_count": 101,
   "metadata": {},
   "outputs": [],
   "source": [
    "def polyFeatures(X, p):\n",
    "    \n",
    "    X_poly= np.zeros((X.shape[0], p))\n",
    "    \n",
    "    for i in range(p):\n",
    "        X_poly[:,i] = np.power(X[:,0], i+1)           \n",
    "    \n",
    "    return X_poly"
   ]
  },
  {
   "cell_type": "code",
   "execution_count": 102,
   "metadata": {},
   "outputs": [],
   "source": [
    "# Testing the fucntion with polynomial degree 8\n",
    "p = 8 \n",
    "\n",
    "# Map X onto Polynomial Features \n",
    "X_poly = polyFeatures(X, p)\n",
    "X_val_poly = polyFeatures(X_val, p)\n",
    "X_test_poly = polyFeatures(X_test, p)"
   ]
  },
  {
   "cell_type": "code",
   "execution_count": 103,
   "metadata": {},
   "outputs": [
    {
     "name": "stdout",
     "output_type": "stream",
     "text": [
      "X_poly_sc\n",
      "Mean of each column:\n",
      "  [-8.32667268e-17  2.26670534e-16 -9.25185854e-18  0.00000000e+00\n",
      "  6.47630098e-17  3.70074342e-17 -1.85037171e-17  1.01770444e-16]\n",
      "Standard Deviation of each column:\n",
      "  [1. 1. 1. 1. 1. 1. 1. 1.] \n",
      "\n",
      "X_poly_val_sc\n",
      "Mean of each column:\n",
      "  [-5.28677631e-18 -2.43191710e-16  3.17206578e-17  6.87280920e-17\n",
      "  6.34413157e-17 -1.58603289e-16  7.93016446e-18 -5.81545394e-17]\n",
      "Standard Deviation of each column:\n",
      "  [1. 1. 1. 1. 1. 1. 1. 1.] \n",
      "\n",
      "X_poly_test_sc\n",
      "Mean of each column:\n",
      "  [-6.60847038e-17 -3.54214013e-16  4.49375986e-17 -1.58603289e-16\n",
      "  2.64338815e-18  8.45884209e-17  1.58603289e-17  4.75809868e-17]\n",
      "Standard Deviation of each column:\n",
      "  [1. 1. 1. 1. 1. 1. 1. 1.] \n",
      "\n"
     ]
    }
   ],
   "source": [
    "# Feature normalize the datasets\n",
    "from sklearn.preprocessing import StandardScaler\n",
    "in_sets = [X_poly, X_val_poly, X_test_poly]\n",
    "out_sets_name = ['X_poly_sc','X_poly_val_sc','X_poly_test_sc']\n",
    "\n",
    "for ind, each in enumerate(in_sets):\n",
    "    scaler = StandardScaler()\n",
    "    scaler.fit(each)\n",
    "    X_sc = scaler.transform(each)\n",
    "    \n",
    "    print(out_sets_name[ind])\n",
    "    print('Mean of each column:\\n ', X_sc.mean(axis=0))\n",
    "    print('Standard Deviation of each column:\\n ', X_sc.std(axis=0),'\\n')\n",
    "    \n",
    "    # Create variables within this loop\n",
    "    # This method may not be recommeded (coding-standards wise)\n",
    "    globals()[out_sets_name[ind]] = X_sc\n",
    "    \n",
    "    "
   ]
  },
  {
   "cell_type": "markdown",
   "metadata": {},
   "source": [
    "Next: \n",
    "- [x] Plot the training data and best fit line  \n",
    "- [x] Plot the learning curves"
   ]
  },
  {
   "cell_type": "code",
   "execution_count": 104,
   "metadata": {},
   "outputs": [],
   "source": [
    "X_poly_sc = np.c_[np.ones((X_poly_sc.shape[0],1)), X_poly_sc]\n",
    "X_poly_val_sc = np.c_[np.ones((X_poly_val_sc.shape[0],1)), X_poly_val_sc]\n",
    "X_poly_test_sc = np.c_[np.ones((X_poly_test_sc.shape[0],1)), X_poly_test_sc]"
   ]
  },
  {
   "cell_type": "code",
   "execution_count": 105,
   "metadata": {},
   "outputs": [
    {
     "data": {
      "text/plain": [
       "((12, 9), (21, 9), (21, 9))"
      ]
     },
     "execution_count": 105,
     "metadata": {},
     "output_type": "execute_result"
    }
   ],
   "source": [
    "X_poly_sc.shape, X_poly_val_sc.shape, X_poly_test_sc.shape"
   ]
  },
  {
   "cell_type": "code",
   "execution_count": 106,
   "metadata": {},
   "outputs": [
    {
     "name": "stdout",
     "output_type": "stream",
     "text": [
      "Normalized Training example:\n",
      "\n",
      "[[ 1.        ]\n",
      " [-0.3782437 ]\n",
      " [-0.78866232]\n",
      " [ 0.19032872]\n",
      " [-0.7375913 ]\n",
      " [ 0.32025197]\n",
      " [-0.6171516 ]\n",
      " [ 0.35983501]\n",
      " [-0.53109126]]\n"
     ]
    }
   ],
   "source": [
    "print('Normalized Training example:\\n')\n",
    "print(X_poly_sc[0,:].reshape(-1,1))"
   ]
  },
  {
   "cell_type": "code",
   "execution_count": 107,
   "metadata": {},
   "outputs": [
    {
     "name": "stdout",
     "output_type": "stream",
     "text": [
      "Warning: Desired error not necessarily achieved due to precision loss.\n",
      "         Current function value: 1799.004553\n",
      "         Iterations: 5\n",
      "         Function evaluations: 106\n",
      "         Gradient evaluations: 94\n"
     ]
    },
    {
     "data": {
      "text/plain": [
       "[[11.781785491835603],\n",
       " [9.929055028676725],\n",
       " [1.8259292244903877],\n",
       " [-0.5266443234444202],\n",
       " [1.4575096936108283],\n",
       " [2.645807573623159],\n",
       " [4.454096113208353],\n",
       " [7.694752791895338],\n",
       " [6.8416227574369195]]"
      ]
     },
     "execution_count": 107,
     "metadata": {},
     "output_type": "execute_result"
    }
   ],
   "source": [
    "lamd =0\n",
    "theta = trainLinearReg(X_poly_sc, y, lamd)\n",
    "theta.reshape(-1,1).tolist()"
   ]
  },
  {
   "cell_type": "code",
   "execution_count": 108,
   "metadata": {},
   "outputs": [],
   "source": [
    "def polyfit(X,p):\n",
    "    x = np.arange(X.min()-15, X.max()+25, 0.05 ).reshape(-1,1)\n",
    "    x_poly = polyFeatures(x, p)\n",
    "    x_poly = np.c_[np.ones((x_poly.shape[0],1)), x_poly]\n",
    "    \n",
    "    return x, x_poly"
   ]
  },
  {
   "cell_type": "code",
   "execution_count": 109,
   "metadata": {},
   "outputs": [
    {
     "data": {
      "text/plain": [
       "((2512, 9), (2512, 1))"
      ]
     },
     "execution_count": 109,
     "metadata": {},
     "output_type": "execute_result"
    }
   ],
   "source": [
    "polyfit(X,8)[1].shape, polyfit(X,8)[0].shape"
   ]
  },
  {
   "cell_type": "code",
   "execution_count": 110,
   "metadata": {},
   "outputs": [
    {
     "name": "stdout",
     "output_type": "stream",
     "text": [
      "Optimization terminated successfully.\n",
      "         Current function value: 0.000000\n",
      "         Iterations: 1\n",
      "         Function evaluations: 4\n",
      "         Gradient evaluations: 4\n",
      "Warning: Desired error not necessarily achieved due to precision loss.\n",
      "         Current function value: 0.364509\n",
      "         Iterations: 1\n",
      "         Function evaluations: 88\n",
      "         Gradient evaluations: 76\n",
      "Warning: Desired error not necessarily achieved due to precision loss.\n",
      "         Current function value: 710.308958\n",
      "         Iterations: 2\n",
      "         Function evaluations: 93\n",
      "         Gradient evaluations: 81\n",
      "Warning: Desired error not necessarily achieved due to precision loss.\n",
      "         Current function value: 1155.817683\n",
      "         Iterations: 4\n",
      "         Function evaluations: 102\n",
      "         Gradient evaluations: 90\n",
      "Warning: Desired error not necessarily achieved due to precision loss.\n",
      "         Current function value: 1364.422985\n",
      "         Iterations: 5\n",
      "         Function evaluations: 99\n",
      "         Gradient evaluations: 87\n",
      "Warning: Desired error not necessarily achieved due to precision loss.\n",
      "         Current function value: 1518.505298\n",
      "         Iterations: 3\n",
      "         Function evaluations: 109\n",
      "         Gradient evaluations: 97\n",
      "Warning: Desired error not necessarily achieved due to precision loss.\n",
      "         Current function value: 1516.193763\n",
      "         Iterations: 3\n",
      "         Function evaluations: 96\n",
      "         Gradient evaluations: 84\n",
      "Warning: Desired error not necessarily achieved due to precision loss.\n",
      "         Current function value: 1596.209529\n",
      "         Iterations: 3\n",
      "         Function evaluations: 118\n",
      "         Gradient evaluations: 106\n",
      "Warning: Desired error not necessarily achieved due to precision loss.\n",
      "         Current function value: 1640.368958\n",
      "         Iterations: 3\n",
      "         Function evaluations: 111\n",
      "         Gradient evaluations: 99\n",
      "Warning: Desired error not necessarily achieved due to precision loss.\n",
      "         Current function value: 1721.441998\n",
      "         Iterations: 2\n",
      "         Function evaluations: 105\n",
      "         Gradient evaluations: 93\n",
      "Warning: Desired error not necessarily achieved due to precision loss.\n",
      "         Current function value: 1726.055319\n",
      "         Iterations: 2\n",
      "         Function evaluations: 42\n",
      "         Gradient evaluations: 33\n",
      "Warning: Desired error not necessarily achieved due to precision loss.\n",
      "         Current function value: 1799.004553\n",
      "         Iterations: 5\n",
      "         Function evaluations: 106\n",
      "         Gradient evaluations: 94\n"
     ]
    },
    {
     "data": {
      "image/png": "[encoded data removed]",
      "text/plain": [
       "<Figure size 720x576 with 2 Axes>"
      ]
     },
     "metadata": {
      "needs_background": "light"
     },
     "output_type": "display_data"
    }
   ],
   "source": [
    "fig, axes = plt.subplots(2,1, figsize=(10,8))\n",
    "axes[0].plot(X, y, 'r.')\n",
    "temp = polyfit(X,8)\n",
    "\n",
    "axes[0].plot(temp[0], temp[1] @ theta.reshape(-1,1), '--')\n",
    "axes[0].set_xlabel('Change in water level (x)')\n",
    "axes[0].set_ylabel('Water flowing out of the dam (y)')\n",
    "axes[0].set_title('Polynomial Regression Fit (lamda = %s)' %lamd)\n",
    "\n",
    "error_train, error_val = learningCurve(X_poly_sc, y, X_poly_val_sc, y_val,\n",
    "                                       lamd)\n",
    "axes[1].plot(range(X_poly_sc.shape[0]), error_train, label='train')\n",
    "axes[1].plot(range(X_poly_sc.shape[0]), error_val, label = 'validation')\n",
    "axes[1].set_xlabel('Number of training examples')\n",
    "axes[1].set_ylabel('Error')\n",
    "axes[1].legend()\n",
    "plt.show()\n"
   ]
  },
  {
   "cell_type": "markdown",
   "metadata": {},
   "source": [
    "### Section 3.2. Adjusting the regularization parameter  \n",
    "Try to plot diffferent lambdas:__0,1,100__"
   ]
  },
  {
   "cell_type": "code",
   "execution_count": 80,
   "metadata": {},
   "outputs": [
    {
     "name": "stdout",
     "output_type": "stream",
     "text": [
      "Warning: Desired error not necessarily achieved due to precision loss.\n",
      "         Current function value: 1799.004553\n",
      "         Iterations: 5\n",
      "         Function evaluations: 106\n",
      "         Gradient evaluations: 94\n",
      "Optimization terminated successfully.\n",
      "         Current function value: 0.000000\n",
      "         Iterations: 1\n",
      "         Function evaluations: 4\n",
      "         Gradient evaluations: 4\n",
      "Warning: Desired error not necessarily achieved due to precision loss.\n",
      "         Current function value: 0.364509\n",
      "         Iterations: 1\n",
      "         Function evaluations: 88\n",
      "         Gradient evaluations: 76\n",
      "Warning: Desired error not necessarily achieved due to precision loss.\n",
      "         Current function value: 710.308958\n",
      "         Iterations: 2\n",
      "         Function evaluations: 93\n",
      "         Gradient evaluations: 81\n",
      "Warning: Desired error not necessarily achieved due to precision loss.\n",
      "         Current function value: 1155.817683\n",
      "         Iterations: 4\n",
      "         Function evaluations: 102\n",
      "         Gradient evaluations: 90\n",
      "Warning: Desired error not necessarily achieved due to precision loss.\n",
      "         Current function value: 1364.422985\n",
      "         Iterations: 5\n",
      "         Function evaluations: 99\n",
      "         Gradient evaluations: 87\n",
      "Warning: Desired error not necessarily achieved due to precision loss.\n",
      "         Current function value: 1518.505298\n",
      "         Iterations: 3\n",
      "         Function evaluations: 109\n",
      "         Gradient evaluations: 97\n",
      "Warning: Desired error not necessarily achieved due to precision loss.\n",
      "         Current function value: 1516.193763\n",
      "         Iterations: 3\n",
      "         Function evaluations: 96\n",
      "         Gradient evaluations: 84\n",
      "Warning: Desired error not necessarily achieved due to precision loss.\n",
      "         Current function value: 1596.209529\n",
      "         Iterations: 3\n",
      "         Function evaluations: 118\n",
      "         Gradient evaluations: 106\n",
      "Warning: Desired error not necessarily achieved due to precision loss.\n",
      "         Current function value: 1640.368958\n",
      "         Iterations: 3\n",
      "         Function evaluations: 111\n",
      "         Gradient evaluations: 99\n",
      "Warning: Desired error not necessarily achieved due to precision loss.\n",
      "         Current function value: 1721.441998\n",
      "         Iterations: 2\n",
      "         Function evaluations: 105\n",
      "         Gradient evaluations: 93\n",
      "Warning: Desired error not necessarily achieved due to precision loss.\n",
      "         Current function value: 1726.055319\n",
      "         Iterations: 2\n",
      "         Function evaluations: 42\n",
      "         Gradient evaluations: 33\n",
      "Warning: Desired error not necessarily achieved due to precision loss.\n",
      "         Current function value: 1799.004553\n",
      "         Iterations: 5\n",
      "         Function evaluations: 106\n",
      "         Gradient evaluations: 94\n",
      "Warning: Desired error not necessarily achieved due to precision loss.\n",
      "         Current function value: 1748.259346\n",
      "         Iterations: 2\n",
      "         Function evaluations: 51\n",
      "         Gradient evaluations: 39\n",
      "Optimization terminated successfully.\n",
      "         Current function value: 0.000000\n",
      "         Iterations: 6\n",
      "         Function evaluations: 15\n",
      "         Gradient evaluations: 15\n",
      "Optimization terminated successfully.\n",
      "         Current function value: 0.293671\n",
      "         Iterations: 4\n",
      "         Function evaluations: 10\n",
      "         Gradient evaluations: 10\n",
      "Warning: Desired error not necessarily achieved due to precision loss.\n",
      "         Current function value: 610.838817\n",
      "         Iterations: 2\n",
      "         Function evaluations: 44\n",
      "         Gradient evaluations: 33\n",
      "Warning: Desired error not necessarily achieved due to precision loss.\n",
      "         Current function value: 1031.709191\n",
      "         Iterations: 3\n",
      "         Function evaluations: 49\n",
      "         Gradient evaluations: 38\n",
      "Warning: Desired error not necessarily achieved due to precision loss.\n",
      "         Current function value: 1315.383324\n",
      "         Iterations: 3\n",
      "         Function evaluations: 106\n",
      "         Gradient evaluations: 94\n",
      "Warning: Desired error not necessarily achieved due to precision loss.\n",
      "         Current function value: 1374.068810\n",
      "         Iterations: 4\n",
      "         Function evaluations: 105\n",
      "         Gradient evaluations: 93\n",
      "Warning: Desired error not necessarily achieved due to precision loss.\n",
      "         Current function value: 1403.338211\n",
      "         Iterations: 3\n",
      "         Function evaluations: 104\n",
      "         Gradient evaluations: 92\n",
      "Warning: Desired error not necessarily achieved due to precision loss.\n",
      "         Current function value: 1497.101623\n",
      "         Iterations: 3\n",
      "         Function evaluations: 58\n",
      "         Gradient evaluations: 47\n",
      "Warning: Desired error not necessarily achieved due to precision loss.\n",
      "         Current function value: 1507.272268\n",
      "         Iterations: 3\n",
      "         Function evaluations: 111\n",
      "         Gradient evaluations: 99\n",
      "Warning: Desired error not necessarily achieved due to precision loss.\n",
      "         Current function value: 1616.512568\n",
      "         Iterations: 2\n",
      "         Function evaluations: 40\n",
      "         Gradient evaluations: 28\n",
      "Warning: Desired error not necessarily achieved due to precision loss.\n",
      "         Current function value: 1624.883612\n",
      "         Iterations: 2\n",
      "         Function evaluations: 37\n",
      "         Gradient evaluations: 25\n",
      "Warning: Desired error not necessarily achieved due to precision loss.\n",
      "         Current function value: 1748.259346\n",
      "         Iterations: 2\n",
      "         Function evaluations: 51\n",
      "         Gradient evaluations: 39\n",
      "Warning: Desired error not necessarily achieved due to precision loss.\n",
      "         Current function value: 1024.391577\n",
      "         Iterations: 2\n",
      "         Function evaluations: 111\n",
      "         Gradient evaluations: 99\n",
      "Optimization terminated successfully.\n",
      "         Current function value: 0.000000\n",
      "         Iterations: 16\n",
      "         Function evaluations: 35\n",
      "         Gradient evaluations: 35\n",
      "Warning: Desired error not necessarily achieved due to precision loss.\n",
      "         Current function value: 0.231833\n",
      "         Iterations: 7\n",
      "         Function evaluations: 62\n",
      "         Gradient evaluations: 52\n",
      "Warning: Desired error not necessarily achieved due to precision loss.\n",
      "         Current function value: 370.126790\n",
      "         Iterations: 2\n",
      "         Function evaluations: 108\n",
      "         Gradient evaluations: 96\n",
      "Warning: Desired error not necessarily achieved due to precision loss.\n",
      "         Current function value: 594.155331\n",
      "         Iterations: 9\n",
      "         Function evaluations: 121\n",
      "         Gradient evaluations: 109\n",
      "Warning: Desired error not necessarily achieved due to precision loss.\n",
      "         Current function value: 712.836894\n",
      "         Iterations: 1\n",
      "         Function evaluations: 54\n",
      "         Gradient evaluations: 43\n",
      "Warning: Desired error not necessarily achieved due to precision loss.\n",
      "         Current function value: 784.096170\n",
      "         Iterations: 2\n",
      "         Function evaluations: 112\n",
      "         Gradient evaluations: 100\n",
      "Warning: Desired error not necessarily achieved due to precision loss.\n",
      "         Current function value: 782.981359\n",
      "         Iterations: 2\n",
      "         Function evaluations: 107\n",
      "         Gradient evaluations: 95\n",
      "Warning: Desired error not necessarily achieved due to precision loss.\n",
      "         Current function value: 853.485432\n",
      "         Iterations: 2\n",
      "         Function evaluations: 50\n",
      "         Gradient evaluations: 39\n",
      "Warning: Desired error not necessarily achieved due to precision loss.\n",
      "         Current function value: 857.398425\n",
      "         Iterations: 4\n",
      "         Function evaluations: 105\n",
      "         Gradient evaluations: 93\n",
      "Warning: Desired error not necessarily achieved due to precision loss.\n",
      "         Current function value: 952.970980\n",
      "         Iterations: 2\n",
      "         Function evaluations: 114\n",
      "         Gradient evaluations: 102\n",
      "Warning: Desired error not necessarily achieved due to precision loss.\n",
      "         Current function value: 898.056911\n",
      "         Iterations: 5\n",
      "         Function evaluations: 123\n",
      "         Gradient evaluations: 111\n",
      "Warning: Desired error not necessarily achieved due to precision loss.\n",
      "         Current function value: 1024.391577\n",
      "         Iterations: 2\n",
      "         Function evaluations: 111\n",
      "         Gradient evaluations: 99\n"
     ]
    },
    {
     "data": {
      "image/png": "[encoded data removed]",
      "text/plain": [
       "<Figure size 720x720 with 6 Axes>"
      ]
     },
     "metadata": {
      "needs_background": "light"
     },
     "output_type": "display_data"
    }
   ],
   "source": [
    "lamd_list = [0,1,100]\n",
    "\n",
    "fig, axes = plt.subplots(3,2, figsize=(10,10))\n",
    "\n",
    "for ind, each in enumerate(lamd_list):\n",
    "    \n",
    "    \n",
    "    theta = trainLinearReg(X_poly_sc, y, each)\n",
    "    axes[ind,0].plot(X, y, 'r.')\n",
    "    temp = polyfit(X,8)\n",
    "    axes[ind,0].plot(temp[0], temp[1] @ theta.reshape(-1,1), '--')\n",
    "    axes[ind,0].set_xlabel('Change in water level (x)')\n",
    "    axes[ind,0].set_ylabel('Water flowing out of the dam (y)')\n",
    "    axes[ind,0].set_title('Polynomial Regression Fit (lamda = %s)' %each)\n",
    "    \n",
    "    kk =1\n",
    "    error_train, error_val = learningCurve(X_poly_sc, \n",
    "                                           y, \n",
    "                                           X_poly_val_sc,\n",
    "                                           y_val,\n",
    "                                           each)\n",
    "    axes[ind,1].plot(range(X_poly_sc.shape[0]), error_train, label='train')\n",
    "    axes[ind,1].plot(range(X_poly_sc.shape[0]), error_val, label = 'validation')\n",
    "    axes[ind,1].set_xlabel('Number of training examples')\n",
    "    axes[ind,1].set_ylabel('Error')\n",
    "    axes[ind,1].legend()\n",
    "    \n",
    "plt.tight_layout()\n",
    "plt.show()\n"
   ]
  },
  {
   "cell_type": "markdown",
   "metadata": {},
   "source": [
    "### Using Scikit "
   ]
  },
  {
   "cell_type": "code",
   "execution_count": 11,
   "metadata": {},
   "outputs": [
    {
     "data": {
      "text/plain": [
       "LinearRegression(copy_X=True, fit_intercept=True, n_jobs=None,\n",
       "         normalize=False)"
      ]
     },
     "execution_count": 11,
     "metadata": {},
     "output_type": "execute_result"
    }
   ],
   "source": [
    "poly = PolynomialFeatures(degree=8)\n",
    "X_train_poly = poly.fit_transform(X[:,0].reshape(-1,1))\n",
    "\n",
    "reg = LinearRegression()\n",
    "reg.fit(X_train_poly, y)"
   ]
  },
  {
   "cell_type": "code",
   "execution_count": 14,
   "metadata": {},
   "outputs": [
    {
     "data": {
      "image/png": "[encoded data removed]",
      "text/plain": [
       "<Figure size 432x288 with 1 Axes>"
      ]
     },
     "metadata": {
      "needs_background": "light"
     },
     "output_type": "display_data"
    }
   ],
   "source": [
    "# plot range for x\n",
    "x_vec = np.linspace(-60,45)\n",
    "\n",
    "# using coefficients to calculate y\n",
    "y_vec = reg.intercept_+ np.sum(reg.coef_*poly.fit_transform(x_vec.reshape(-1,1)), axis=1)\n",
    "# plot_y2 = regr3.intercept_ + np.sum(regr3.coef_*poly.fit_transform(plot_x.reshape(-1,1)), axis=1)\n",
    "\n",
    "plt.plot(x_vec, y_vec, label='Scikit-learn LinearRegression')\n",
    "# plt.plot(plot_x, plot_y2, label='Scikit-learn Ridge (alpha={})'.format(regr3.alpha))\n",
    "plt.scatter(X[:,0], y, s=50, c='r', marker='x', linewidths=1)\n",
    "plt.xlabel('Change in water level (x)')\n",
    "plt.ylabel('Water flowing out of the dam (y)')\n",
    "plt.title('Polynomial regression degree 8')\n",
    "plt.legend(loc=4);"
   ]
  },
  {
   "cell_type": "code",
   "execution_count": null,
   "metadata": {},
   "outputs": [],
   "source": [
    "\n",
    "regr3 = Ridge(alpha=20)\n",
    "regr3.fit(X_train_poly, y_train)\n"
   ]
  },
  {
   "cell_type": "markdown",
   "metadata": {},
   "source": [
    "### Section 3.4. Computing test set error\n",
    "\n",
    "you should compute the test error using the best value of $\\lambda$ you found for $\\lambda$ = 3.\n"
   ]
  },
  {
   "cell_type": "code",
   "execution_count": 111,
   "metadata": {},
   "outputs": [
    {
     "name": "stdout",
     "output_type": "stream",
     "text": [
      "Optimization terminated successfully.\n",
      "         Current function value: 0.000000\n",
      "         Iterations: 19\n",
      "         Function evaluations: 34\n",
      "         Gradient evaluations: 34\n",
      "Warning: Desired error not necessarily achieved due to precision loss.\n",
      "         Current function value: 0.249042\n",
      "         Iterations: 6\n",
      "         Function evaluations: 116\n",
      "         Gradient evaluations: 104\n",
      "Warning: Desired error not necessarily achieved due to precision loss.\n",
      "         Current function value: 499.591726\n",
      "         Iterations: 2\n",
      "         Function evaluations: 47\n",
      "         Gradient evaluations: 36\n",
      "Warning: Desired error not necessarily achieved due to precision loss.\n",
      "         Current function value: 886.893879\n",
      "         Iterations: 3\n",
      "         Function evaluations: 110\n",
      "         Gradient evaluations: 98\n",
      "Warning: Desired error not necessarily achieved due to precision loss.\n",
      "         Current function value: 981.161617\n",
      "         Iterations: 5\n",
      "         Function evaluations: 130\n",
      "         Gradient evaluations: 118\n",
      "Warning: Desired error not necessarily achieved due to precision loss.\n",
      "         Current function value: 1240.528241\n",
      "         Iterations: 3\n",
      "         Function evaluations: 109\n",
      "         Gradient evaluations: 97\n",
      "Warning: Desired error not necessarily achieved due to precision loss.\n",
      "         Current function value: 1235.848258\n",
      "         Iterations: 4\n",
      "         Function evaluations: 116\n",
      "         Gradient evaluations: 104\n",
      "Warning: Desired error not necessarily achieved due to precision loss.\n",
      "         Current function value: 1246.526770\n",
      "         Iterations: 4\n",
      "         Function evaluations: 88\n",
      "         Gradient evaluations: 76\n",
      "Warning: Desired error not necessarily achieved due to precision loss.\n",
      "         Current function value: 1339.626952\n",
      "         Iterations: 3\n",
      "         Function evaluations: 109\n",
      "         Gradient evaluations: 97\n",
      "Warning: Desired error not necessarily achieved due to precision loss.\n",
      "         Current function value: 1350.358084\n",
      "         Iterations: 3\n",
      "         Function evaluations: 103\n",
      "         Gradient evaluations: 91\n",
      "Warning: Desired error not necessarily achieved due to precision loss.\n",
      "         Current function value: 1280.167762\n",
      "         Iterations: 4\n",
      "         Function evaluations: 116\n",
      "         Gradient evaluations: 104\n",
      "Warning: Desired error not necessarily achieved due to precision loss.\n",
      "         Current function value: 1219.481643\n",
      "         Iterations: 4\n",
      "         Function evaluations: 117\n",
      "         Gradient evaluations: 105\n"
     ]
    }
   ],
   "source": [
    "error_train,error_test = learningCurve(X_poly_sc, y, X_poly_test_sc, y_test, 3)"
   ]
  },
  {
   "cell_type": "code",
   "execution_count": 113,
   "metadata": {},
   "outputs": [
    {
     "name": "stdout",
     "output_type": "stream",
     "text": [
      "for lambda=3, the test error is: 2693.570691\n"
     ]
    }
   ],
   "source": [
    "print('for lambda=3, the test error is: %f' %error_test[-1])"
   ]
  },
  {
   "cell_type": "code",
   "execution_count": null,
   "metadata": {},
   "outputs": [],
   "source": []
  }
 ],
 "metadata": {
  "kernelspec": {
   "display_name": "Python 3",
   "language": "python",
   "name": "python3"
  },
  "language_info": {
   "codemirror_mode": {
    "name": "ipython",
    "version": 3
   },
   "file_extension": ".py",
   "mimetype": "text/x-python",
   "name": "python",
   "nbconvert_exporter": "python",
   "pygments_lexer": "ipython3",
   "version": "3.6.7"
  }
 },
 "nbformat": 4,
 "nbformat_minor": 2
}
