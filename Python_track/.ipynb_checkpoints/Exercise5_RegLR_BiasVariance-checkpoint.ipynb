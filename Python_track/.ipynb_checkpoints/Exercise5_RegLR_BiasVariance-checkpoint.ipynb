{
 "cells": [
  {
   "cell_type": "markdown",
   "metadata": {},
   "source": [
    "## Exercise 5. Regularization of Linear Regression and Bias-Variance Trade-off\n",
    "(with Python, _from scratch_)\n",
    "\n",
    "---\n",
    "This notebook follows the one in [Matlab_track](https://github.com/jhonsen/machinelearn_NG/tree/master/Matlab_track) which focuses on doing __Regularization on a linear regression model__, i.e., defining cost regularized function and plotting training and validation errors\n"
   ]
  },
  {
   "cell_type": "markdown",
   "metadata": {},
   "source": [
    "### Section 1.1. Visualizing the dataset\n",
    "This dataset is divided into three parts:  \n",
    "- A training set that your model will learn on: X, y\n",
    "- A cross validation set for determining the regularization parameter:\n",
    "Xval, yval\n",
    "- A test set for evaluating performance. These are \"unseen\" examples\n",
    "which your model did not see during training: Xtest, ytest"
   ]
  },
  {
   "cell_type": "code",
   "execution_count": 1,
   "metadata": {},
   "outputs": [],
   "source": [
    "import numpy as np\n",
    "import matplotlib.pyplot as plt\n",
    "import pandas as pd\n",
    "%matplotlib inline\n",
    "\n",
    "from scipy.io import loadmat\n",
    "from scipy.optimize import fmin_cg\n",
    "from scipy.optimize import minimize\n"
   ]
  },
  {
   "cell_type": "code",
   "execution_count": 2,
   "metadata": {},
   "outputs": [
    {
     "data": {
      "text/plain": [
       "dict_keys(['__header__', '__version__', '__globals__', 'X', 'y', 'Xtest', 'ytest', 'Xval', 'yval'])"
      ]
     },
     "execution_count": 2,
     "metadata": {},
     "output_type": "execute_result"
    }
   ],
   "source": [
    "data = loadmat('../Matlab_track/ex5/ex5data1.mat')\n",
    "data.keys()"
   ]
  },
  {
   "cell_type": "code",
   "execution_count": 3,
   "metadata": {},
   "outputs": [
    {
     "name": "stdout",
     "output_type": "stream",
     "text": [
      "X_train: (12, 2)\n",
      "y_train: (12, 1)\n",
      "Xval: (21, 2)\n",
      "yval: (21, 1)\n"
     ]
    }
   ],
   "source": [
    "y_train = data['y']\n",
    "X_train = np.c_[np.ones_like(data['X']), data['X']]\n",
    "\n",
    "yval = data['yval']\n",
    "Xval = np.c_[np.ones_like(data['Xval']), data['Xval']]\n",
    "\n",
    "\n",
    "print('X_train:', X_train.shape)\n",
    "print('y_train:', y_train.shape)\n",
    "print('Xval:', Xval.shape)\n",
    "print('yval:', yval.shape)"
   ]
  },
  {
   "cell_type": "code",
   "execution_count": 6,
   "metadata": {},
   "outputs": [
    {
     "data": {
      "text/plain": [
       "<function matplotlib.pyplot.show(*args, **kw)>"
      ]
     },
     "execution_count": 6,
     "metadata": {},
     "output_type": "execute_result"
    },
    {
     "data": {
      "image/png": "[encoded data removed]",
      "text/plain": [
       "<Figure size 432x288 with 1 Axes>"
      ]
     },
     "metadata": {
      "needs_background": "light"
     },
     "output_type": "display_data"
    }
   ],
   "source": [
    "plt.figure()\n",
    "plt.plot(X_train[:,1:], y_train,'rx',markersize=10, linewidth=1.5)\n",
    "plt.xlabel('Change in water level (x)')\n",
    "plt.ylabel('Water flowing out of the dam (y)')\n",
    "plt.show"
   ]
  },
  {
   "cell_type": "markdown",
   "metadata": {},
   "source": [
    "### Section 1.2. Regularized linear regression cost function\n",
    "\n",
    "Recall that the cost function and gradient are:  \n",
    "  \n",
    "  \n",
    "- [x] Write the cost function and partial derivative for $\\theta$, define __linearRegCostFunction__"
   ]
  },
  {
   "cell_type": "code",
   "execution_count": 76,
   "metadata": {},
   "outputs": [],
   "source": [
    "def linearRegCostFunction(theta, X,y,lamd):\n",
    "    m = X.shape[0]\n",
    "    \n",
    "    # hypothesis function\n",
    "    h = X  @ theta        #<-- size: (12x2).(2x1)= (12x1)\n",
    "    \n",
    "    # cost function\n",
    "    J = (1/(2*m)) * np.sum(np.square(h-y)) #<-- sum(--12x1)--) is scalar\n",
    "    \n",
    "    # Apply Regularization\n",
    "    J = J + (lamd/(2*m)) * np.sum( np.square(theta[1:]) )  #<-- scalar + scalar\n",
    "\n",
    "    return J"
   ]
  },
  {
   "cell_type": "code",
   "execution_count": 77,
   "metadata": {},
   "outputs": [],
   "source": [
    "def gradRegCostFunction(theta,X,y, lamd):\n",
    "    m = X.shape[0]\n",
    "    \n",
    "    # hypothesis function\n",
    "    h = X.dot(theta).reshape(-1,1)        #<-- size: (12x2).(2x1)= (12x1)\n",
    "    \n",
    "    # derivative\n",
    "    grad = (1/m) * X.T @ (h-y)    #<-- grad is  (2x12).(12x1) = (2x1)\n",
    "    \n",
    "    grad = grad + (lamd/m)*np.r_[[[0]],theta[1:].reshape(-1,1)]  #<-- (2x1) + scalar x (2x1)\n",
    "    \n",
    "    return grad.flatten()"
   ]
  },
  {
   "cell_type": "code",
   "execution_count": 78,
   "metadata": {},
   "outputs": [
    {
     "name": "stdout",
     "output_type": "stream",
     "text": [
      "Cost at theta = [1 ; 1]: 303.9931922202643 (which should be about 303.993192)\n",
      "\n",
      "Gradient at theta = [1; 1] is:\n",
      "[-15.30301567 598.25074417] \n",
      "(which should be about\n",
      "[-15.303016; 598.250744])\n",
      "\n"
     ]
    }
   ],
   "source": [
    "theta = np.asarray([[1],[1]])\n",
    "m = X_train.shape[0]\n",
    "\n",
    "J = linearRegCostFunction(theta, X_train, y_train, 1)\n",
    "grad = gradRegCostFunction(theta, X_train, y_train, 1)\n",
    "print('Cost at theta = [1 ; 1]: %s (which should be about 303.993192)\\n' %J)\n",
    "print('Gradient at theta = [1; 1] is:\\n%s \\n(which should be about\\n[-15.303016; 598.250744])\\n' %(grad))"
   ]
  },
  {
   "cell_type": "code",
   "execution_count": 79,
   "metadata": {},
   "outputs": [
    {
     "data": {
      "text/plain": [
       "array([-15.30301567, 598.16741084])"
      ]
     },
     "execution_count": 79,
     "metadata": {},
     "output_type": "execute_result"
    }
   ],
   "source": [
    "gradient = lrgradientReg(initial_theta, X_train, y_train, 0)\n",
    "gradient\n"
   ]
  },
  {
   "cell_type": "code",
   "execution_count": 80,
   "metadata": {},
   "outputs": [
    {
     "data": {
      "text/plain": [
       "array([-15.30301567, 598.16741084])"
      ]
     },
     "execution_count": 80,
     "metadata": {},
     "output_type": "execute_result"
    }
   ],
   "source": [
    "gradient = gradRegCostFunction(theta, X_train, y_train, 0)\n",
    "gradient"
   ]
  },
  {
   "cell_type": "code",
   "execution_count": 81,
   "metadata": {},
   "outputs": [],
   "source": [
    "def lrCostFunction(theta, X, y, reg):\n",
    "    m = y.size\n",
    "    h = X.dot(theta)\n",
    "    \n",
    "    J = (1/(2*m))*np.sum(np.square(h-y)) + (reg/(2*m))*np.sum(np.square(theta[1:]))\n",
    "   \n",
    "    return(J)\n"
   ]
  },
  {
   "cell_type": "code",
   "execution_count": 82,
   "metadata": {},
   "outputs": [],
   "source": [
    "def lrgradientReg(theta, X, y, reg):\n",
    "    m = y.size\n",
    "\n",
    "    h = X.dot(theta).reshape(-1,1)\n",
    "        \n",
    "    grad = (1/m)*(X.T.dot(h-y))+ (reg/m)*np.r_[[[0]],theta[1:].reshape(-1,1)]\n",
    "        \n",
    "    return(grad.flatten())"
   ]
  },
  {
   "cell_type": "code",
   "execution_count": 83,
   "metadata": {},
   "outputs": [
    {
     "name": "stdout",
     "output_type": "stream",
     "text": [
      "303.9515255535976\n",
      "[-15.30301567 598.16741084]\n"
     ]
    }
   ],
   "source": [
    "initial_theta = np.asarray([[1],[1]])\n",
    "\n",
    "cost = lrCostFunction(initial_theta, X_train, y_train, 0)\n",
    "gradient = lrgradientReg(initial_theta, X_train, y_train, 0)\n",
    "\n",
    "print(cost)\n",
    "print(gradient)\n"
   ]
  },
  {
   "cell_type": "markdown",
   "metadata": {},
   "source": [
    "### Section 1.3. Fitting Linear Regression  \n",
    "In this part, we set regularization parameter $\\theta$ to zero. Because our current implementation of linear regression is trying to fit a 2-dimensional $\\theta$, regularization will not be incredibly helpful for a $\\theta$ of such low dimension.  \n",
    "The best fit line tells us that the model is not a good fit to the data because the data has a non-linear pattern. While visualizing the best fit as shown is one possible way to debug your learning algorithm, it is not always easy to visualize the data and model.  \n",
    "- [x] Training LR model on the dataset using function __trainLinearReg__, which finds theta parameters\n",
    "- [x] Plot the best fit line on the dataset "
   ]
  },
  {
   "cell_type": "code",
   "execution_count": 96,
   "metadata": {},
   "outputs": [],
   "source": [
    "def trainLinearReg(X, y, reg):\n",
    "#     initial_theta = np.array( [[1],[1]] )\n",
    "    initial_theta = np.array([[15],[15]])\n",
    "    # For some reason the minimize() function does not converge when using\n",
    "    # zeros as initial theta.\n",
    "        \n",
    "    res = minimize(lrCostFunction, initial_theta, args=(X,y,reg), method=None, jac=lrgradientReg,\n",
    "                   options={'maxiter':5000})\n",
    "    \n",
    "    return(res)"
   ]
  },
  {
   "cell_type": "code",
   "execution_count": 97,
   "metadata": {},
   "outputs": [
    {
     "data": {
      "text/plain": [
       "      fun: 1604.4002999186634\n",
       " hess_inv: array([[1.03142187, 0.00617881],\n",
       "       [0.00617881, 0.001215  ]])\n",
       "      jac: array([ 3.42437190e-12, -5.70370264e-10])\n",
       "  message: 'Optimization terminated successfully.'\n",
       "     nfev: 6\n",
       "      nit: 4\n",
       "     njev: 6\n",
       "   status: 0\n",
       "  success: True\n",
       "        x: array([13.08790351,  0.36777923])"
      ]
     },
     "execution_count": 97,
     "metadata": {},
     "output_type": "execute_result"
    }
   ],
   "source": [
    "fit = trainLinearReg(X_train, y_train, 0)\n",
    "fit"
   ]
  },
  {
   "cell_type": "code",
   "execution_count": 115,
   "metadata": {},
   "outputs": [],
   "source": [
    "def trainLinearReg(X, y, lamda):\n",
    "    from scipy.optimize import fmin_cg\n",
    "    \n",
    "#     initial_theta = np.asarray([[1],[1]])\n",
    "    initial_theta = np.array([[15],[15]])\n",
    "\n",
    "    res = fmin_cg(f=linearRegCostFunction, \n",
    "                        x0=initial_theta, \n",
    "                      args =( X, y, lamda),   \n",
    "                      fprime=gradRegCostFunction,\n",
    "                         maxiter=100000)\n",
    "              \n",
    "    return res"
   ]
  },
  {
   "cell_type": "code",
   "execution_count": 116,
   "metadata": {},
   "outputs": [
    {
     "name": "stdout",
     "output_type": "stream",
     "text": [
      "Warning: Desired error not necessarily achieved due to precision loss.\n",
      "         Current function value: 1604.438977\n",
      "         Iterations: 4\n",
      "         Function evaluations: 21\n",
      "         Gradient evaluations: 10\n"
     ]
    },
    {
     "data": {
      "text/plain": [
       "array([13.08975938,  0.36778987])"
      ]
     },
     "execution_count": 116,
     "metadata": {},
     "output_type": "execute_result"
    }
   ],
   "source": [
    "lamda = 0\n",
    "trainLinearReg(X_train, y_train, lamda)\n"
   ]
  },
  {
   "cell_type": "code",
   "execution_count": null,
   "metadata": {},
   "outputs": [],
   "source": []
  },
  {
   "cell_type": "code",
   "execution_count": 124,
   "metadata": {},
   "outputs": [
    {
     "data": {
      "image/png": "[encoded data removed]",
      "text/plain": [
       "<Figure size 432x288 with 1 Axes>"
      ]
     },
     "metadata": {
      "needs_background": "light"
     },
     "output_type": "display_data"
    }
   ],
   "source": [
    "plt.figure()\n",
    "plt.plot(X_train[:,1:],y_train, 'rx',markersize=10, linewidth=1.5)\n",
    "plt.xlabel('Change in water level (x)')\n",
    "plt.ylabel('Water flowing out of the dam (y)')\n",
    "\n",
    "plt.plot(X_train[:,1:], X_train @ theta, '--', linewidth=2)\n",
    "\n",
    "plt.show()\n"
   ]
  },
  {
   "cell_type": "code",
   "execution_count": null,
   "metadata": {},
   "outputs": [],
   "source": []
  }
 ],
 "metadata": {
  "kernelspec": {
   "display_name": "Python 3",
   "language": "python",
   "name": "python3"
  },
  "language_info": {
   "codemirror_mode": {
    "name": "ipython",
    "version": 3
   },
   "file_extension": ".py",
   "mimetype": "text/x-python",
   "name": "python",
   "nbconvert_exporter": "python",
   "pygments_lexer": "ipython3",
   "version": "3.7.0"
  }
 },
 "nbformat": 4,
 "nbformat_minor": 2
}
