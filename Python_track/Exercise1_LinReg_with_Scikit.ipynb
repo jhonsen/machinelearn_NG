{
 "cells": [
  {
   "cell_type": "markdown",
   "metadata": {},
   "source": [
    "# Exercise 1\n",
    "(with Python and _with Scikit_)\n",
    "\n",
    "---\n",
    "This notebook describes the use of __scikit__ to accomplish the same linear regression exercise"
   ]
  },
  {
   "cell_type": "code",
   "execution_count": 1,
   "metadata": {},
   "outputs": [],
   "source": [
    "import numpy as np\n",
    "import pandas as pd\n",
    "import matplotlib.pyplot as plt\n",
    "\n",
    "%matplotlib inline"
   ]
  },
  {
   "cell_type": "markdown",
   "metadata": {},
   "source": [
    "### Loading the dataset\n",
    " - ex1data.txt"
   ]
  },
  {
   "cell_type": "code",
   "execution_count": 2,
   "metadata": {},
   "outputs": [
    {
     "name": "stdout",
     "output_type": "stream",
     "text": [
      "<class 'pandas.core.frame.DataFrame'>\n",
      "RangeIndex: 97 entries, 0 to 96\n",
      "Data columns (total 2 columns):\n",
      "profit        97 non-null float64\n",
      "population    97 non-null float64\n",
      "dtypes: float64(2)\n",
      "memory usage: 1.6 KB\n"
     ]
    }
   ],
   "source": [
    "# Loading the dataset\n",
    "\n",
    "data = pd.read_csv('ex1data1.txt', header=None, names =['profit', 'population'] )\n",
    "\n",
    "data.info()"
   ]
  },
  {
   "cell_type": "code",
   "execution_count": 6,
   "metadata": {},
   "outputs": [
    {
     "data": {
      "text/html": [
       "<div>\n",
       "<style scoped>\n",
       "    .dataframe tbody tr th:only-of-type {\n",
       "        vertical-align: middle;\n",
       "    }\n",
       "\n",
       "    .dataframe tbody tr th {\n",
       "        vertical-align: top;\n",
       "    }\n",
       "\n",
       "    .dataframe thead th {\n",
       "        text-align: right;\n",
       "    }\n",
       "</style>\n",
       "<table border=\"1\" class=\"dataframe\">\n",
       "  <thead>\n",
       "    <tr style=\"text-align: right;\">\n",
       "      <th></th>\n",
       "      <th>count</th>\n",
       "      <th>mean</th>\n",
       "      <th>std</th>\n",
       "      <th>min</th>\n",
       "      <th>25%</th>\n",
       "      <th>50%</th>\n",
       "      <th>75%</th>\n",
       "      <th>max</th>\n",
       "    </tr>\n",
       "  </thead>\n",
       "  <tbody>\n",
       "    <tr>\n",
       "      <th>profit</th>\n",
       "      <td>97.0</td>\n",
       "      <td>8.159800</td>\n",
       "      <td>3.869884</td>\n",
       "      <td>5.0269</td>\n",
       "      <td>5.7077</td>\n",
       "      <td>6.5894</td>\n",
       "      <td>8.5781</td>\n",
       "      <td>22.203</td>\n",
       "    </tr>\n",
       "    <tr>\n",
       "      <th>population</th>\n",
       "      <td>97.0</td>\n",
       "      <td>5.839135</td>\n",
       "      <td>5.510262</td>\n",
       "      <td>-2.6807</td>\n",
       "      <td>1.9869</td>\n",
       "      <td>4.5623</td>\n",
       "      <td>7.0467</td>\n",
       "      <td>24.147</td>\n",
       "    </tr>\n",
       "  </tbody>\n",
       "</table>\n",
       "</div>"
      ],
      "text/plain": [
       "            count      mean       std     min     25%     50%     75%     max\n",
       "profit       97.0  8.159800  3.869884  5.0269  5.7077  6.5894  8.5781  22.203\n",
       "population   97.0  5.839135  5.510262 -2.6807  1.9869  4.5623  7.0467  24.147"
      ]
     },
     "execution_count": 6,
     "metadata": {},
     "output_type": "execute_result"
    }
   ],
   "source": [
    "data.describe().transpose()"
   ]
  },
  {
   "cell_type": "code",
   "execution_count": 4,
   "metadata": {},
   "outputs": [
    {
     "data": {
      "text/html": [
       "<div>\n",
       "<style scoped>\n",
       "    .dataframe tbody tr th:only-of-type {\n",
       "        vertical-align: middle;\n",
       "    }\n",
       "\n",
       "    .dataframe tbody tr th {\n",
       "        vertical-align: top;\n",
       "    }\n",
       "\n",
       "    .dataframe thead th {\n",
       "        text-align: right;\n",
       "    }\n",
       "</style>\n",
       "<table border=\"1\" class=\"dataframe\">\n",
       "  <thead>\n",
       "    <tr style=\"text-align: right;\">\n",
       "      <th></th>\n",
       "      <th>profit</th>\n",
       "      <th>population</th>\n",
       "    </tr>\n",
       "  </thead>\n",
       "  <tbody>\n",
       "    <tr>\n",
       "      <th>0</th>\n",
       "      <td>6.1101</td>\n",
       "      <td>17.5920</td>\n",
       "    </tr>\n",
       "    <tr>\n",
       "      <th>1</th>\n",
       "      <td>5.5277</td>\n",
       "      <td>9.1302</td>\n",
       "    </tr>\n",
       "    <tr>\n",
       "      <th>2</th>\n",
       "      <td>8.5186</td>\n",
       "      <td>13.6620</td>\n",
       "    </tr>\n",
       "    <tr>\n",
       "      <th>3</th>\n",
       "      <td>7.0032</td>\n",
       "      <td>11.8540</td>\n",
       "    </tr>\n",
       "    <tr>\n",
       "      <th>4</th>\n",
       "      <td>5.8598</td>\n",
       "      <td>6.8233</td>\n",
       "    </tr>\n",
       "  </tbody>\n",
       "</table>\n",
       "</div>"
      ],
      "text/plain": [
       "   profit  population\n",
       "0  6.1101     17.5920\n",
       "1  5.5277      9.1302\n",
       "2  8.5186     13.6620\n",
       "3  7.0032     11.8540\n",
       "4  5.8598      6.8233"
      ]
     },
     "execution_count": 4,
     "metadata": {},
     "output_type": "execute_result"
    }
   ],
   "source": [
    "data.head()"
   ]
  },
  {
   "cell_type": "markdown",
   "metadata": {},
   "source": [
    "### Using LinearRegression from sklearn\n",
    "__Feature Normalization/Feature Scaling__ is already taken care of by the LinearRegression (scikit library)  \n",
    " - So we __don't__ have to manually do it! "
   ]
  },
  {
   "cell_type": "code",
   "execution_count": 8,
   "metadata": {},
   "outputs": [],
   "source": [
    "# Importing scikit library\n",
    "from sklearn.linear_model import LinearRegression"
   ]
  },
  {
   "cell_type": "code",
   "execution_count": 55,
   "metadata": {},
   "outputs": [
    {
     "data": {
      "text/plain": [
       "LinearRegression(copy_X=True, fit_intercept=True, n_jobs=1, normalize=False)"
      ]
     },
     "execution_count": 55,
     "metadata": {},
     "output_type": "execute_result"
    }
   ],
   "source": [
    "# In this case, all entries in dataset are considered as the training set\n",
    "\n",
    "# Assigning profit to X and population to y\n",
    "X_train = data.iloc[:,:-1].values\n",
    "y_train = data.iloc[:,-1].values\n",
    "\n",
    "# Implementing LinearRegression into the dataset\n",
    "lm = LinearRegression()\n",
    "lm.fit(X_train, y_train)\n"
   ]
  },
  {
   "cell_type": "code",
   "execution_count": 54,
   "metadata": {},
   "outputs": [
    {
     "name": "stdout",
     "output_type": "stream",
     "text": [
      "Using scikit, the thetas are -3.8957809 1.1930336\n",
      "\n",
      "Previously,\n",
      "Doing it from scratch, the thetas were -3.63029144 1.16636235\n"
     ]
    }
   ],
   "source": [
    "# Printing the results and comparing with the result obtained, using...\n",
    "# gradient descent of cost function (from scratch) \n",
    "\n",
    "print(\"Using scikit, the thetas are %.7f %.7f\\n\" %(lm.intercept_,lm.coef_[0]))\n",
    "print(\"Previously,\\nDoing it from scratch, the thetas were -3.63029144 1.16636235\")\n"
   ]
  },
  {
   "cell_type": "markdown",
   "metadata": {},
   "source": [
    "Lets plot this model to the dataset"
   ]
  },
  {
   "cell_type": "code",
   "execution_count": 104,
   "metadata": {},
   "outputs": [
    {
     "data": {
      "text/plain": [
       "<matplotlib.legend.Legend at 0x2a570ace898>"
      ]
     },
     "execution_count": 104,
     "metadata": {},
     "output_type": "execute_result"
    },
    {
     "data": {
      "image/png": "[encoded data removed]",
      "text/plain": [
       "<Figure size 864x720 with 1 Axes>"
      ]
     },
     "metadata": {
      "needs_background": "light"
     },
     "output_type": "display_data"
    }
   ],
   "source": [
    "# PLot dataset and scikit's linear model\n",
    "\n",
    "fig = plt.subplots(figsize= (12,10))\n",
    "plt.scatter(X_train, y_train, c='red', label = 'dataset')\n",
    "plt.plot(X_train, lm.predict(X_train), c='blue', label ='scikit lm model')\n",
    "plt.xlabel('Population in 10,000s')\n",
    "plt.ylabel('Profit in 10,000s')\n",
    "\n",
    "# Lets add old result, from gradient descent\n",
    "\n",
    "oldat = np.loadtxt('gradDescent.txt', delimiter=',')\n",
    "plt.plot(oldat[0,:], oldat[1,:], c ='green', label='gradient descent')\n",
    "\n",
    "# add legend\n",
    "plt.legend()\n"
   ]
  },
  {
   "cell_type": "markdown",
   "metadata": {},
   "source": [
    "  __Conclusions__\n",
    "  - Basically, the gradient descent and the scikit models are __not identical__!\n",
    "  - The slopes do not overlap nicely\n",
    "  - This means, prediction results with the two models won't be identical (as will be tested below)"
   ]
  },
  {
   "cell_type": "markdown",
   "metadata": {},
   "source": [
    "---"
   ]
  },
  {
   "cell_type": "markdown",
   "metadata": {},
   "source": [
    "### Predicting new values using this model"
   ]
  },
  {
   "cell_type": "code",
   "execution_count": 41,
   "metadata": {},
   "outputs": [],
   "source": [
    "# Create a test set, i.e., what to predict?\n",
    "# Make an array for X_test containing 3.5 and 7.0\n",
    "X_test = np.array([[3.5],[7.0]])\n",
    "\n",
    "y_test = lm.predict(X_test)\n",
    "\n"
   ]
  },
  {
   "cell_type": "code",
   "execution_count": 49,
   "metadata": {
    "scrolled": true
   },
   "outputs": [
    {
     "name": "stdout",
     "output_type": "stream",
     "text": [
      "With scikit, population 35k and 70k correspond to $2798.37 and $44554.55\n",
      "Whereas, from scratch, we predicted 35k and 70k:  $4519.77 and $45342.45\n"
     ]
    }
   ],
   "source": [
    "# Print the result and compare with the result from scratch\n",
    "\n",
    "print('With scikit, population 35k and 70k correspond to $%.2f and $%.2f' %(y_test[0]*10000,y_test[1]*10000 ))\n",
    "print('Whereas, from scratch, we predicted 35k and 70k:  $4519.77 and $45342.45')\n",
    "\n"
   ]
  },
  {
   "cell_type": "markdown",
   "metadata": {},
   "source": []
  }
 ],
 "metadata": {
  "kernelspec": {
   "display_name": "Python 3",
   "language": "python",
   "name": "python3"
  },
  "language_info": {
   "codemirror_mode": {
    "name": "ipython",
    "version": 3
   },
   "file_extension": ".py",
   "mimetype": "text/x-python",
   "name": "python",
   "nbconvert_exporter": "python",
   "pygments_lexer": "ipython3",
   "version": "3.6.6"
  }
 },
 "nbformat": 4,
 "nbformat_minor": 2
}
