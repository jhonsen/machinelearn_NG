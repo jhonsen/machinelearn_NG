{
 "cells": [
  {
   "cell_type": "markdown",
   "metadata": {},
   "source": [
    "# Exercise 2\n",
    "(with Python and _with Scikit_)\n",
    "\n",
    "---\n",
    "This notebook describes the use of __scikit__ to accomplish the same linear regression exercise"
   ]
  },
  {
   "cell_type": "code",
   "execution_count": 1,
   "metadata": {},
   "outputs": [],
   "source": [
    "import numpy as np\n",
    "import pandas as pd\n",
    "import seaborn as sns\n",
    "import matplotlib.pyplot as plt\n",
    "from matplotlib.colors import ListedColormap\n",
    "\n",
    "%matplotlib inline"
   ]
  },
  {
   "cell_type": "markdown",
   "metadata": {},
   "source": [
    "### Loading the dataset"
   ]
  },
  {
   "cell_type": "code",
   "execution_count": 2,
   "metadata": {},
   "outputs": [
    {
     "name": "stdout",
     "output_type": "stream",
     "text": [
      "<class 'pandas.core.frame.DataFrame'>\n",
      "RangeIndex: 100 entries, 0 to 99\n",
      "Data columns (total 3 columns):\n",
      "exam1         100 non-null float64\n",
      "exam2         100 non-null float64\n",
      "admittance    100 non-null int64\n",
      "dtypes: float64(2), int64(1)\n",
      "memory usage: 2.4 KB\n"
     ]
    }
   ],
   "source": [
    "data = pd.read_csv('ex2data1.txt', header = None, names = ['exam1','exam2','admittance'])\n",
    "data.info()"
   ]
  },
  {
   "cell_type": "code",
   "execution_count": 3,
   "metadata": {},
   "outputs": [
    {
     "data": {
      "text/html": [
       "<div>\n",
       "<style scoped>\n",
       "    .dataframe tbody tr th:only-of-type {\n",
       "        vertical-align: middle;\n",
       "    }\n",
       "\n",
       "    .dataframe tbody tr th {\n",
       "        vertical-align: top;\n",
       "    }\n",
       "\n",
       "    .dataframe thead th {\n",
       "        text-align: right;\n",
       "    }\n",
       "</style>\n",
       "<table border=\"1\" class=\"dataframe\">\n",
       "  <thead>\n",
       "    <tr style=\"text-align: right;\">\n",
       "      <th></th>\n",
       "      <th>exam1</th>\n",
       "      <th>exam2</th>\n",
       "      <th>admittance</th>\n",
       "    </tr>\n",
       "  </thead>\n",
       "  <tbody>\n",
       "    <tr>\n",
       "      <th>0</th>\n",
       "      <td>34.623660</td>\n",
       "      <td>78.024693</td>\n",
       "      <td>0</td>\n",
       "    </tr>\n",
       "    <tr>\n",
       "      <th>1</th>\n",
       "      <td>30.286711</td>\n",
       "      <td>43.894998</td>\n",
       "      <td>0</td>\n",
       "    </tr>\n",
       "    <tr>\n",
       "      <th>2</th>\n",
       "      <td>35.847409</td>\n",
       "      <td>72.902198</td>\n",
       "      <td>0</td>\n",
       "    </tr>\n",
       "    <tr>\n",
       "      <th>3</th>\n",
       "      <td>60.182599</td>\n",
       "      <td>86.308552</td>\n",
       "      <td>1</td>\n",
       "    </tr>\n",
       "    <tr>\n",
       "      <th>4</th>\n",
       "      <td>79.032736</td>\n",
       "      <td>75.344376</td>\n",
       "      <td>1</td>\n",
       "    </tr>\n",
       "  </tbody>\n",
       "</table>\n",
       "</div>"
      ],
      "text/plain": [
       "       exam1      exam2  admittance\n",
       "0  34.623660  78.024693           0\n",
       "1  30.286711  43.894998           0\n",
       "2  35.847409  72.902198           0\n",
       "3  60.182599  86.308552           1\n",
       "4  79.032736  75.344376           1"
      ]
     },
     "execution_count": 3,
     "metadata": {},
     "output_type": "execute_result"
    }
   ],
   "source": [
    "data.head()"
   ]
  },
  {
   "cell_type": "markdown",
   "metadata": {},
   "source": [
    "__Section 1.1__  \n",
    "- Visualizing the data \n",
    "- ex2data1.txt contains 3 columns:\n",
    "    - col 0 = exam1 score,  \n",
    "    - col 1 = exam2 score,  \n",
    "    - col 2 = admitted or not-admitted"
   ]
  },
  {
   "cell_type": "code",
   "execution_count": 5,
   "metadata": {},
   "outputs": [],
   "source": [
    "# Create a function to visualize the data\n",
    "\n",
    "def plotlogreg_pd(X):\n",
    "    ''' function takes a pandas dataframe and return the plot\n",
    "    '''\n",
    "    accepted = X[X.iloc[:,-1]==1]\n",
    "    rejected = X[X.iloc[:,-1]==0] \n",
    "    plt.plot(accepted.iloc[:,0], accepted.iloc[:,1], 'k+', label = 'admitted')\n",
    "    plt.plot(rejected.iloc[:,0], rejected.iloc[:,1], 'yo', label = 'not admitted')\n",
    "    \n",
    "    plt.xlabel('Exam 1 Score')\n",
    "    plt.ylabel('Exam 2 Score')\n",
    "    plt.legend()    \n"
   ]
  },
  {
   "cell_type": "code",
   "execution_count": 6,
   "metadata": {},
   "outputs": [
    {
     "data": {
      "image/png": "[encoded data removed]",
      "text/plain": [
       "<Figure size 432x288 with 1 Axes>"
      ]
     },
     "metadata": {
      "needs_background": "light"
     },
     "output_type": "display_data"
    }
   ],
   "source": [
    "# Plot from pandas (dataframe) dataset\n",
    "\n",
    "plotlogreg_pd(data)"
   ]
  },
  {
   "cell_type": "code",
   "execution_count": 7,
   "metadata": {},
   "outputs": [
    {
     "data": {
      "text/plain": [
       "((100, 2), (100,))"
      ]
     },
     "execution_count": 7,
     "metadata": {},
     "output_type": "execute_result"
    }
   ],
   "source": [
    "# Try numpy arrays format \n",
    "# Convert the Dataframe into ndarray\n",
    "\n",
    "Xorig = data[['exam1','exam2']].values #<<<This is a matrix\n",
    "yorig = data['admittance'].values      #<<<This is a vector\n",
    "Xorig.shape, yorig.shape"
   ]
  },
  {
   "cell_type": "code",
   "execution_count": 45,
   "metadata": {},
   "outputs": [],
   "source": [
    "# Create function to visualize data\n",
    "\n",
    "def plotlogreg_np(X, y,defax=0):\n",
    "    ''' function returns a plot based on columns in X (col-1 vs col-2) \n",
    "    if X is a numpy-matrix with 2 columns,\n",
    "    y is anumpy-vector  \n",
    "    '''\n",
    "    accepted = X[y==1]\n",
    "    rejected = X[y==0] \n",
    "    \n",
    "    plt.plot(accepted[:,0], accepted[:,1], 'k+', label = 'admitted')\n",
    "    plt.plot(rejected[:,0], rejected[:,1], 'yo', label = 'not admitted')\n",
    "    \n",
    "    plt.xlabel('Exam 1 Score')\n",
    "    plt.ylabel('Exam 2 Score')\n",
    "    plt.legend()\n",
    "\n"
   ]
  },
  {
   "cell_type": "code",
   "execution_count": 46,
   "metadata": {},
   "outputs": [
    {
     "data": {
      "image/png": "[encoded data removed]",
      "text/plain": [
       "<Figure size 432x288 with 1 Axes>"
      ]
     },
     "metadata": {
      "needs_background": "light"
     },
     "output_type": "display_data"
    }
   ],
   "source": [
    "# Plotting from numpy \n",
    "\n",
    "plotlogreg_np(Xorig, yorig)\n",
    "\n"
   ]
  },
  {
   "cell_type": "markdown",
   "metadata": {},
   "source": [
    "### Building the Logistic Model"
   ]
  },
  {
   "cell_type": "code",
   "execution_count": 10,
   "metadata": {},
   "outputs": [],
   "source": [
    "from sklearn.linear_model import LogisticRegression\n",
    "from sklearn.metrics import classification_report\n",
    "from sklearn.metrics import confusion_matrix\n",
    "\n",
    "from sklearn.preprocessing import StandardScaler\n"
   ]
  },
  {
   "cell_type": "code",
   "execution_count": 11,
   "metadata": {},
   "outputs": [],
   "source": [
    "# Applying feature scaling \n",
    "\n",
    "sc = StandardScaler()\n",
    "Xtrain = sc.fit_transform(Xorig) # Xtrain is feature-scaled, for model-training that follows\n",
    "\n",
    "\n",
    "ytrain = yorig\n"
   ]
  },
  {
   "cell_type": "code",
   "execution_count": 13,
   "metadata": {},
   "outputs": [
    {
     "data": {
      "text/plain": [
       "LogisticRegression(C=1.0, class_weight=None, dual=False, fit_intercept=True,\n",
       "          intercept_scaling=1, max_iter=100, multi_class='ovr', n_jobs=1,\n",
       "          penalty='l2', random_state=None, solver='liblinear', tol=0.0001,\n",
       "          verbose=0, warm_start=False)"
      ]
     },
     "execution_count": 13,
     "metadata": {},
     "output_type": "execute_result"
    }
   ],
   "source": [
    "# Making a model\n",
    "\n",
    "logmodel = LogisticRegression()\n",
    "logmodel.fit(Xtrain, ytrain)\n"
   ]
  },
  {
   "cell_type": "markdown",
   "metadata": {},
   "source": [
    "__Try make up some Xtest__, i.e., values to be predicted using this regression model"
   ]
  },
  {
   "cell_type": "code",
   "execution_count": 137,
   "metadata": {},
   "outputs": [
    {
     "name": "stderr",
     "output_type": "stream",
     "text": [
      "C:\\Users\\Makana\\Anaconda3\\envs\\jmatlab\\lib\\site-packages\\sklearn\\utils\\validation.py:475: DataConversionWarning: Data with input dtype int32 was converted to float64 by StandardScaler.\n",
      "  warnings.warn(msg, DataConversionWarning)\n"
     ]
    },
    {
     "data": {
      "text/plain": [
       "array([[-1.32455395,  0.85334304],\n",
       "       [-1.06629865,  1.0155961 ],\n",
       "       [-0.80804335,  0.74517433],\n",
       "       [-0.29153274, -0.06609098],\n",
       "       [ 0.74148847, -1.41819983]])"
      ]
     },
     "execution_count": 137,
     "metadata": {},
     "output_type": "execute_result"
    }
   ],
   "source": [
    "# Making a dataFrame of Xvalues to be predicted\n",
    "\n",
    "Xtest = np.array([[40, 82],\n",
    "                  [45, 85],\n",
    "                  [50, 80],\n",
    "                  [60, 65],\n",
    "                  [80, 40]])\n",
    "\n",
    "Xtest = sc.transform(Xtest) # <<< testing data uses transform not fit_transform\n",
    "Xtest"
   ]
  },
  {
   "cell_type": "code",
   "execution_count": 138,
   "metadata": {
    "scrolled": true
   },
   "outputs": [
    {
     "data": {
      "text/plain": [
       "array([0, 1, 1, 1, 0], dtype=int64)"
      ]
     },
     "execution_count": 138,
     "metadata": {},
     "output_type": "execute_result"
    }
   ],
   "source": [
    "# Making prediction for the X values above\n",
    "\n",
    "predictedy = logmodel.predict(Xtest)\n",
    "predictedy"
   ]
  },
  {
   "cell_type": "markdown",
   "metadata": {},
   "source": [
    "#### before plotting the results, X_train needs to be invert_transformed into invX_train"
   ]
  },
  {
   "cell_type": "code",
   "execution_count": 139,
   "metadata": {},
   "outputs": [],
   "source": [
    "# Inverse Transforming the X_train and X_test\n",
    "\n",
    "invX_train = sc.inverse_transform(Xtrain)\n",
    "invX_test = sc.inverse_transform(Xtest)\n"
   ]
  },
  {
   "cell_type": "code",
   "execution_count": 140,
   "metadata": {},
   "outputs": [
    {
     "name": "stdout",
     "output_type": "stream",
     "text": [
      "[[34.62365962 78.02469282]\n",
      " [30.28671077 43.89499752]\n",
      " [35.84740877 72.90219803]\n",
      " [60.18259939 86.3085521 ]] \n",
      "\n",
      " [[34.62365962 78.02469282]\n",
      " [30.28671077 43.89499752]\n",
      " [35.84740877 72.90219803]\n",
      " [60.18259939 86.3085521 ]]\n"
     ]
    }
   ],
   "source": [
    "# Checking inverseTransformation\n",
    "\n",
    "print(invX_train[:4,:],'\\n\\n', Xorig[:4,:])\n"
   ]
  },
  {
   "cell_type": "code",
   "execution_count": 146,
   "metadata": {},
   "outputs": [],
   "source": [
    "# PLotting the prediction result into the dataset\n",
    "\n",
    "def plotpredicted(iXtrain, ytrain, iXtest, predictedy):\n",
    "    ''' Function returns a plot of predicted value on top of the dataset vis\n",
    "    -\n",
    "    iXtrain = numpy-matrix, after inverse_transformation \n",
    "    iXtest = numpy-vector, after inverse_transformation of \n",
    "    predicted = numpy array, contains prediction result\n",
    "    '''\n",
    "    \n",
    "    plotlogreg_np(iXtrain, ytrain)\n",
    "    \n",
    "    for row in range(len(predictedy)):\n",
    "        \n",
    "        if predictedy[row]==1:\n",
    "            markerchoice = 'r+'            \n",
    "        else:\n",
    "            markerchoice = 'ro'            \n",
    "        plt.plot(iXtest[row,0], iXtest[row,1], markerchoice,\n",
    "             label = 'predicted values')\n",
    "    \n",
    "    plt.legend(('admitted','not','predicted','predicted'))\n",
    "    \n",
    "    \n",
    "    "
   ]
  },
  {
   "cell_type": "code",
   "execution_count": 150,
   "metadata": {
    "scrolled": false
   },
   "outputs": [
    {
     "data": {
      "image/png": "[encoded data removed]",
      "text/plain": [
       "<Figure size 576x432 with 1 Axes>"
      ]
     },
     "metadata": {
      "needs_background": "light"
     },
     "output_type": "display_data"
    }
   ],
   "source": [
    "# visualizing the prediction results\n",
    "\n",
    "plt.figure(figsize=(8,6))\n",
    "plotpredicted(invX_train, ytrain, invX_test, predictedy)"
   ]
  },
  {
   "cell_type": "markdown",
   "metadata": {},
   "source": [
    "__Observation:__  \n",
    "    \n",
    " - It would be better to visualize the prediction result, with boundary lines separating the two responses (y) "
   ]
  },
  {
   "cell_type": "markdown",
   "metadata": {},
   "source": [
    "### Plotting Decision Boundary    \n",
    "- before plotting the decision boundary, make sure that we have the same x and y-limits between the original dataset and the inverse_transformed dataset    \n",
    "-   \n"
   ]
  },
  {
   "cell_type": "code",
   "execution_count": 151,
   "metadata": {},
   "outputs": [
    {
     "name": "stdout",
     "output_type": "stream",
     "text": [
      "The original dataset's x- and y-limits are:\n",
      "30.05882244669796 99.82785779692128\n",
      "30.60326323428011 98.86943574220612\n",
      "\n",
      "The inverse-transformed dataset's x- and y-limits are: \n",
      "30.05882244669796 99.82785779692128\n",
      "30.603263234280107 98.86943574220612\n"
     ]
    }
   ],
   "source": [
    "print(\"The original dataset's x- and y-limits are:\")\n",
    "print(Xorig[:,0].min(), Xorig[:,0].max())\n",
    "print(Xorig[:,1].min(), Xorig[:,1].max())\n",
    "\n",
    "print(\"\\nThe inverse-transformed dataset's x- and y-limits are: \")\n",
    "print(invX_train[:,0].min(), invX_train[:,0].max())\n",
    "print(invX_train[:,1].min(), invX_train[:,1].max())"
   ]
  },
  {
   "cell_type": "code",
   "execution_count": 155,
   "metadata": {},
   "outputs": [
    {
     "data": {
      "text/plain": [
       "Text(0.5,1,'Logistic Regression')"
      ]
     },
     "execution_count": 155,
     "metadata": {},
     "output_type": "execute_result"
    },
    {
     "data": {
      "image/png": "[encoded data removed]",
      "text/plain": [
       "<Figure size 576x432 with 1 Axes>"
      ]
     },
     "metadata": {
      "needs_background": "light"
     },
     "output_type": "display_data"
    },
    {
     "data": {
      "image/png": "[encoded data removed]",
      "text/plain": [
       "<Figure size 576x432 with 1 Axes>"
      ]
     },
     "metadata": {
      "needs_background": "light"
     },
     "output_type": "display_data"
    }
   ],
   "source": [
    " \n",
    "# plot the original dataset\n",
    "plt.figure(figsize=(8,6))\n",
    "plotlogreg_np(Xorig, yorig)\n",
    "plt.title(\"original dataset\")\n",
    "xlimval = plt.xlim()\n",
    "ylimval = plt.ylim()\n",
    "\n",
    "\n",
    "# plot the boundary line using contour\n",
    "plt.figure(figsize=(8,6))\n",
    "\n",
    "# make a grid of x and y values for the contour plot\n",
    "# The value of 'step' argument in np.arange() determines the pixelation of contour lines\n",
    "X1, X2 = np.meshgrid(np.arange(xlimval[0], xlimval[1], step = 0.25), \n",
    "                     np.arange(ylimval[0], ylimval[1], step= 0.25))\n",
    "\n",
    "# Predict the y-values along the boundary line, Z \n",
    "Z_train = np.array([X1.ravel(), X2.ravel()]).T\n",
    "plt.contourf(X1,X2, logmodel.predict(sc.transform(Z_train)).reshape(X1.shape),\n",
    "            alpha = 0.15, \n",
    "            cmap = ListedColormap(('blue','green')))\n",
    "\n",
    "plotpredicted(invX_train, ytrain, invX_test, predictedy)\n",
    "\n",
    "\n",
    "# Apply x- and y-limits of the original dataset\n",
    "#\n",
    "plt.xlim(xlimval)\n",
    "plt.ylim(ylimval)\n",
    "\n",
    "\n",
    "plt.xlabel('Exam 1 Score')\n",
    "plt.ylabel('Exam 2 Score')   \n",
    "plt.title('Logistic Regression')\n",
    "# plt.legend()\n"
   ]
  },
  {
   "cell_type": "markdown",
   "metadata": {},
   "source": [
    "Looks pretty good"
   ]
  }
 ],
 "metadata": {
  "kernelspec": {
   "display_name": "Python 3",
   "language": "python",
   "name": "python3"
  },
  "language_info": {
   "codemirror_mode": {
    "name": "ipython",
    "version": 3
   },
   "file_extension": ".py",
   "mimetype": "text/x-python",
   "name": "python",
   "nbconvert_exporter": "python",
   "pygments_lexer": "ipython3",
   "version": "3.5.6"
  }
 },
 "nbformat": 4,
 "nbformat_minor": 2
}
